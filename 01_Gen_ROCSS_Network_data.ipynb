{
 "cells": [
  {
   "cell_type": "markdown",
   "metadata": {},
   "source": [
    "# Goal\n",
    "1. genearate data set as CNN network input\n"
   ]
  },
  {
   "cell_type": "markdown",
   "metadata": {},
   "source": [
    "# Process"
   ]
  },
  {
   "cell_type": "code",
   "execution_count": 30,
   "metadata": {
    "collapsed": false
   },
   "outputs": [],
   "source": [
    "import numpy as np\n",
    "#获得４＊Ｌ维０１矩阵的函数\n",
    "d = {'a':0, 'A':0, 'g':1, 'G':1, 'c':2, 'C':2, 't':3, 'T':3, 'N':4, 'n':4}\n",
    "def seq_to_mat(seq):\n",
    "    mat = np.zeros((5,len(seq)))\n",
    "    for i in range(len(seq)):\n",
    "        mat[d[seq[i]],i] =1\n",
    "        #mat[d[seq[i]],i] =1\n",
    "        #mat[d[seq[i]],i] = 1\n",
    "        pass\n",
    "    mat = mat[:4,:]\n",
    "    return mat"
   ]
  },
  {
   "cell_type": "code",
   "execution_count": 31,
   "metadata": {
    "collapsed": true
   },
   "outputs": [],
   "source": [
    "rootdir =  '/home/yinqijin/WorkSpace/2.RNA_Structure_Profile'\n",
    "cutdown_len  = 80  #13"
   ]
  },
  {
   "cell_type": "code",
   "execution_count": 32,
   "metadata": {
    "collapsed": false
   },
   "outputs": [],
   "source": [
    "#生成每个seq的频率计数\n",
    "from collections import defaultdict\n",
    "seq_freq = defaultdict(int)\n",
    "#生成seq 的 计数频率\n",
    "with open(rootdir+'/Orig_data/sharpr.txt','r')  as f:\n",
    "    with open(rootdir+'/Orig_data/score.txt','r') as f1:     \n",
    "        while 1:\n",
    "            name = f.readline()\n",
    "            if not name :\n",
    "                break\n",
    "            sequence = f.readline()\n",
    "            scores = f1.readline().split()[1:]  #得到每个碱基的分数\n",
    "            bp_name  = name.split('_')  [:-1]\n",
    "            bp_point = name.split('_')[-1]\n",
    "            for bp_iter  in range(0,len(sequence)-cutdown_len-1):\n",
    "                seq_temp = sequence[bp_iter:(bp_iter+cutdown_len)].strip()\n",
    "                seq_freq[seq_temp] +=1"
   ]
  },
  {
   "cell_type": "code",
   "execution_count": 33,
   "metadata": {
    "collapsed": false
   },
   "outputs": [],
   "source": [
    "data = []\n",
    "with open(rootdir+'/Orig_data/sharpr.txt','r')  as f:\n",
    "    with open(rootdir+'/Orig_data/score.txt','r') as f1:     \n",
    "        while 1:\n",
    "            name = f.readline()\n",
    "            if not name :\n",
    "                break\n",
    "            sequence = f.readline()\n",
    "            scores = f1.readline().split()[1:]  #得到每个碱基的分数\n",
    "            bp_name  = name.split('_')  [:-1]\n",
    "            bp_point = name.split('_')[-1]\n",
    "            for bp_iter  in range(0,len(sequence)-cutdown_len-1):\n",
    "                #只有计数频率为1才加入数据集\n",
    "                #如果不需要判断,全部都加入数据集,只要去掉下面两句话,以下其余代码调整缩进即可\n",
    "                seq_temp = sequence[bp_iter:(bp_iter+cutdown_len)].strip()\n",
    "                if  1== seq_freq[seq_temp] :\n",
    "                    \n",
    "                    bp_seq_temp = {}\n",
    "                    bp_seq_temp['seq'] =sequence[bp_iter:(bp_iter+cutdown_len)].strip()\n",
    "                    bp_seq_temp['mat'] = seq_to_mat(bp_seq_temp['seq'] )\n",
    "                    bp_seq_temp['name'] = bp_name[0]+'_'+bp_name[1]+'_'+bp_name[2]+'_'+bp_name[3]+'_'+ str(int(bp_point)+bp_iter*(cutdown_len-1))\n",
    "                    scores_str = scores[bp_iter:(bp_iter+cutdown_len)]\n",
    "                    bp_seq_temp['score'] = [float(item) for item in scores_str]\n",
    "\n",
    "                    #加入seq的出现频率计次 没必要了\n",
    "                    #bp_seq_temp['freq'] = seq_freq[bp_seq_temp['seq']]\n",
    "                    data.append(bp_seq_temp)"
   ]
  },
  {
   "cell_type": "markdown",
   "metadata": {},
   "source": [
    "# Change Format"
   ]
  },
  {
   "cell_type": "code",
   "execution_count": 34,
   "metadata": {
    "collapsed": false
   },
   "outputs": [],
   "source": [
    "data2 = {}\n",
    "for key in data[0].keys():\n",
    "    data2['seq'] = [item['seq'] for item in data ]\n",
    "    data2['name'] = [item['name'] for item in data]\n",
    "    data2['score'] = [item['score'] for item in data]\n",
    "    data2['mat'] = [item['mat'] for item in data]"
   ]
  },
  {
   "cell_type": "code",
   "execution_count": 35,
   "metadata": {
    "collapsed": false
   },
   "outputs": [
    {
     "name": "stdout",
     "output_type": "stream",
     "text": [
      "['GGGAGCCCAGAAGGCGACACAGGAATTGCGAAGCTCAGGAACCAGCCCCCTCGCTTGCTTCCTCCTCCATCGCCCGGATC', 'GGAGCCCAGAAGGCGACACAGGAATTGCGAAGCTCAGGAACCAGCCCCCTCGCTTGCTTCCTCCTCCATCGCCCGGATCG']\n",
      "['>H1hesc_1_0_chr20_30310735', '>H1hesc_1_0_chr20_30310814']\n",
      "[[0.068, 0.068, 0.068, 0.055, 0.042, 0.028, 0.015, 0.002, 0.002, 0.002, 0.002, 0.002, 0.002, 0.002, 0.002, 0.002, 0.002, 0.002, 0.002, 0.002, 0.002, 0.002, 0.002, 0.002, 0.002, 0.002, 0.002, 0.002, 0.002, 0.002, 0.002, 0.002, 0.002, 0.024, 0.045, 0.067, 0.088, 0.11, 0.088, 0.066, 0.044, 0.022, 0.0, -0.042, -0.084, -0.127, -0.169, -0.211, -0.226, -0.241, -0.255, -0.27, -0.285, -0.28, -0.274, -0.269, -0.263, -0.258, -0.258, -0.258, -0.258, -0.258, -0.258, -0.267, -0.276, -0.286, -0.295, -0.304, -0.282, -0.26, -0.237, -0.215, -0.193, -0.154, -0.116, -0.077, -0.039, 0.0, 0.0, 0.0], [0.068, 0.068, 0.055, 0.042, 0.028, 0.015, 0.002, 0.002, 0.002, 0.002, 0.002, 0.002, 0.002, 0.002, 0.002, 0.002, 0.002, 0.002, 0.002, 0.002, 0.002, 0.002, 0.002, 0.002, 0.002, 0.002, 0.002, 0.002, 0.002, 0.002, 0.002, 0.002, 0.024, 0.045, 0.067, 0.088, 0.11, 0.088, 0.066, 0.044, 0.022, 0.0, -0.042, -0.084, -0.127, -0.169, -0.211, -0.226, -0.241, -0.255, -0.27, -0.285, -0.28, -0.274, -0.269, -0.263, -0.258, -0.258, -0.258, -0.258, -0.258, -0.258, -0.267, -0.276, -0.286, -0.295, -0.304, -0.282, -0.26, -0.237, -0.215, -0.193, -0.154, -0.116, -0.077, -0.039, 0.0, 0.0, 0.0, 0.0]]\n",
      "[array([[ 0.,  0.,  0.,  1.,  0.,  0.,  0.,  0.,  1.,  0.,  1.,  1.,  0.,\n",
      "         0.,  0.,  0.,  1.,  0.,  1.,  0.,  1.,  0.,  0.,  1.,  1.,  0.,\n",
      "         0.,  0.,  0.,  0.,  1.,  1.,  0.,  0.,  0.,  0.,  1.,  0.,  0.,\n",
      "         1.,  1.,  0.,  0.,  1.,  0.,  0.,  0.,  0.,  0.,  0.,  0.,  0.,\n",
      "         0.,  0.,  0.,  0.,  0.,  0.,  0.,  0.,  0.,  0.,  0.,  0.,  0.,\n",
      "         0.,  0.,  0.,  1.,  0.,  0.,  0.,  0.,  0.,  0.,  0.,  0.,  1.,\n",
      "         0.,  0.],\n",
      "       [ 1.,  1.,  1.,  0.,  1.,  0.,  0.,  0.,  0.,  1.,  0.,  0.,  1.,\n",
      "         1.,  0.,  1.,  0.,  0.,  0.,  0.,  0.,  1.,  1.,  0.,  0.,  0.,\n",
      "         0.,  1.,  0.,  1.,  0.,  0.,  1.,  0.,  0.,  0.,  0.,  1.,  1.,\n",
      "         0.,  0.,  0.,  0.,  0.,  1.,  0.,  0.,  0.,  0.,  0.,  0.,  0.,\n",
      "         1.,  0.,  0.,  0.,  1.,  0.,  0.,  0.,  0.,  0.,  0.,  0.,  0.,\n",
      "         0.,  0.,  0.,  0.,  0.,  0.,  1.,  0.,  0.,  0.,  1.,  1.,  0.,\n",
      "         0.,  0.],\n",
      "       [ 0.,  0.,  0.,  0.,  0.,  1.,  1.,  1.,  0.,  0.,  0.,  0.,  0.,\n",
      "         0.,  1.,  0.,  0.,  1.,  0.,  1.,  0.,  0.,  0.,  0.,  0.,  0.,\n",
      "         0.,  0.,  1.,  0.,  0.,  0.,  0.,  1.,  0.,  1.,  0.,  0.,  0.,\n",
      "         0.,  0.,  1.,  1.,  0.,  0.,  1.,  1.,  1.,  1.,  1.,  0.,  1.,\n",
      "         0.,  1.,  0.,  0.,  0.,  1.,  0.,  0.,  1.,  1.,  0.,  1.,  1.,\n",
      "         0.,  1.,  1.,  0.,  0.,  1.,  0.,  1.,  1.,  1.,  0.,  0.,  0.,\n",
      "         0.,  1.],\n",
      "       [ 0.,  0.,  0.,  0.,  0.,  0.,  0.,  0.,  0.,  0.,  0.,  0.,  0.,\n",
      "         0.,  0.,  0.,  0.,  0.,  0.,  0.,  0.,  0.,  0.,  0.,  0.,  1.,\n",
      "         1.,  0.,  0.,  0.,  0.,  0.,  0.,  0.,  1.,  0.,  0.,  0.,  0.,\n",
      "         0.,  0.,  0.,  0.,  0.,  0.,  0.,  0.,  0.,  0.,  0.,  1.,  0.,\n",
      "         0.,  0.,  1.,  1.,  0.,  0.,  1.,  1.,  0.,  0.,  1.,  0.,  0.,\n",
      "         1.,  0.,  0.,  0.,  1.,  0.,  0.,  0.,  0.,  0.,  0.,  0.,  0.,\n",
      "         1.,  0.]]), array([[ 0.,  0.,  1.,  0.,  0.,  0.,  0.,  1.,  0.,  1.,  1.,  0.,  0.,\n",
      "         0.,  0.,  1.,  0.,  1.,  0.,  1.,  0.,  0.,  1.,  1.,  0.,  0.,\n",
      "         0.,  0.,  0.,  1.,  1.,  0.,  0.,  0.,  0.,  1.,  0.,  0.,  1.,\n",
      "         1.,  0.,  0.,  1.,  0.,  0.,  0.,  0.,  0.,  0.,  0.,  0.,  0.,\n",
      "         0.,  0.,  0.,  0.,  0.,  0.,  0.,  0.,  0.,  0.,  0.,  0.,  0.,\n",
      "         0.,  0.,  1.,  0.,  0.,  0.,  0.,  0.,  0.,  0.,  0.,  1.,  0.,\n",
      "         0.,  0.],\n",
      "       [ 1.,  1.,  0.,  1.,  0.,  0.,  0.,  0.,  1.,  0.,  0.,  1.,  1.,\n",
      "         0.,  1.,  0.,  0.,  0.,  0.,  0.,  1.,  1.,  0.,  0.,  0.,  0.,\n",
      "         1.,  0.,  1.,  0.,  0.,  1.,  0.,  0.,  0.,  0.,  1.,  1.,  0.,\n",
      "         0.,  0.,  0.,  0.,  1.,  0.,  0.,  0.,  0.,  0.,  0.,  0.,  1.,\n",
      "         0.,  0.,  0.,  1.,  0.,  0.,  0.,  0.,  0.,  0.,  0.,  0.,  0.,\n",
      "         0.,  0.,  0.,  0.,  0.,  1.,  0.,  0.,  0.,  1.,  1.,  0.,  0.,\n",
      "         0.,  1.],\n",
      "       [ 0.,  0.,  0.,  0.,  1.,  1.,  1.,  0.,  0.,  0.,  0.,  0.,  0.,\n",
      "         1.,  0.,  0.,  1.,  0.,  1.,  0.,  0.,  0.,  0.,  0.,  0.,  0.,\n",
      "         0.,  1.,  0.,  0.,  0.,  0.,  1.,  0.,  1.,  0.,  0.,  0.,  0.,\n",
      "         0.,  1.,  1.,  0.,  0.,  1.,  1.,  1.,  1.,  1.,  0.,  1.,  0.,\n",
      "         1.,  0.,  0.,  0.,  1.,  0.,  0.,  1.,  1.,  0.,  1.,  1.,  0.,\n",
      "         1.,  1.,  0.,  0.,  1.,  0.,  1.,  1.,  1.,  0.,  0.,  0.,  0.,\n",
      "         1.,  0.],\n",
      "       [ 0.,  0.,  0.,  0.,  0.,  0.,  0.,  0.,  0.,  0.,  0.,  0.,  0.,\n",
      "         0.,  0.,  0.,  0.,  0.,  0.,  0.,  0.,  0.,  0.,  0.,  1.,  1.,\n",
      "         0.,  0.,  0.,  0.,  0.,  0.,  0.,  1.,  0.,  0.,  0.,  0.,  0.,\n",
      "         0.,  0.,  0.,  0.,  0.,  0.,  0.,  0.,  0.,  0.,  1.,  0.,  0.,\n",
      "         0.,  1.,  1.,  0.,  0.,  1.,  1.,  0.,  0.,  1.,  0.,  0.,  1.,\n",
      "         0.,  0.,  0.,  1.,  0.,  0.,  0.,  0.,  0.,  0.,  0.,  0.,  1.,\n",
      "         0.,  0.]])]\n"
     ]
    }
   ],
   "source": [
    "print data2['seq'][:2]\n",
    "print data2['name'][:2]\n",
    "print data2['score'][:2]\n",
    "print data2['mat'][:2]"
   ]
  },
  {
   "cell_type": "code",
   "execution_count": 36,
   "metadata": {
    "collapsed": false
   },
   "outputs": [
    {
     "name": "stdout",
     "output_type": "stream",
     "text": [
      "[]\n"
     ]
    }
   ],
   "source": [
    "#统计seq出现的次数 \n",
    "#没必要 验证性意义\n",
    "\n",
    "from collections import defaultdict\n",
    "\n",
    "\n",
    "\n",
    "seqdict_order = defaultdict(list)\n",
    "\n",
    "for index in range(0,len(data2['seq'])):\n",
    "    seqdict_order[ data2['seq'][index]].append(int(index))\n",
    "\n",
    "remove_point = []\n",
    "for key in seqdict_order.keys():\n",
    "    key_dict = seqdict_order[key]\n",
    "    if 1 !=  len(key_dict):\n",
    "        for key_order in key_dict:\n",
    "            remove_point.append(key_order)\n",
    "remove_point  = sorted(remove_point)\n",
    "\n",
    "print remove_point[:4]"
   ]
  },
  {
   "cell_type": "markdown",
   "metadata": {},
   "source": [
    "# Save Data"
   ]
  },
  {
   "cell_type": "markdown",
   "metadata": {
    "collapsed": true
   },
   "source": [
    "import hickle  as hkl"
   ]
  },
  {
   "cell_type": "markdown",
   "metadata": {
    "collapsed": false
   },
   "source": [
    "hkl.dump(data2,'./Gen_data/CROSS_Net_input.hkl')"
   ]
  },
  {
   "cell_type": "markdown",
   "metadata": {
    "collapsed": true
   },
   "source": [
    "### Tips  删除dict某些值"
   ]
  },
  {
   "cell_type": "markdown",
   "metadata": {},
   "source": [
    "# Generate NetWork"
   ]
  },
  {
   "cell_type": "code",
   "execution_count": 37,
   "metadata": {
    "collapsed": false
   },
   "outputs": [
    {
     "name": "stdout",
     "output_type": "stream",
     "text": [
      "Using Lasagne.layers.dnn (faster)\n"
     ]
    }
   ],
   "source": [
    "import theano\n",
    "from lasagne.layers import InputLayer\n",
    "from lasagne.layers import DenseLayer\n",
    "from lasagne.layers import DropoutLayer\n",
    "try:\n",
    "    from lasagne.layers.dnn import Conv2DDNNLayer as Conv2DLayer\n",
    "    from lasagne.layers.dnn import MaxPool2DDNNLayer as MaxPool2DLayer\n",
    "    print 'Using Lasagne.layers.dnn (faster)'\n",
    "except ImportError:\n",
    "    from lasagne.layers import Conv2DLayer\n",
    "    from lasagne.layers import MaxPool2DLayer\n",
    "    print 'Using Lasagne.layers (slower)'\n",
    "from lasagne.nonlinearities import softmax, rectify, leaky_rectify\n",
    "from lasagne.updates import adam\n",
    "from lasagne.objectives import squared_error\n",
    "\n",
    "from nolearn.lasagne import NeuralNet\n",
    "from nolearn.lasagne import TrainSplit\n",
    "from nolearn.lasagne import objective\n",
    "from nolearn.lasagne import BatchIterator\n",
    "\n",
    "from lasagne.nonlinearities import tanh \n",
    "floatX = theano.config.floatX"
   ]
  },
  {
   "cell_type": "code",
   "execution_count": 38,
   "metadata": {
    "collapsed": true
   },
   "outputs": [],
   "source": [
    "# cutdown_len = 13 #在此上面已经定义\n",
    "layer1 = InputLayer(shape=(None,cutdown_len,4))\n",
    "layer2 = DenseLayer(layer1, num_units=20 ,nonlinearity=tanh)\n",
    "network = DenseLayer(layer2,num_units=1,nonlinearity=tanh)"
   ]
  },
  {
   "cell_type": "code",
   "execution_count": 39,
   "metadata": {
    "collapsed": true
   },
   "outputs": [],
   "source": [
    "\n",
    "lr = theano.shared(np.float32(1e-4))\n",
    "\n",
    "net = NeuralNet(\n",
    "            network,\n",
    "            max_epochs=50,\n",
    "            update=adam,\n",
    "            update_learning_rate=lr,\n",
    "            train_split=TrainSplit(eval_size=0.1),\n",
    "                regression = True,\n",
    "            objective_loss_function = squared_error,\n",
    "            #on_epoch_finished=[\n",
    "            #    AdjustVariable(lr, target=1e-8, half_life=20)],\n",
    "            verbose=4)"
   ]
  },
  {
   "cell_type": "markdown",
   "metadata": {},
   "source": [
    "# Import Data"
   ]
  },
  {
   "cell_type": "code",
   "execution_count": 40,
   "metadata": {
    "collapsed": false
   },
   "outputs": [],
   "source": [
    "X = data2['mat']\n",
    "Y = data2['score']"
   ]
  },
  {
   "cell_type": "code",
   "execution_count": 41,
   "metadata": {
    "collapsed": false
   },
   "outputs": [],
   "source": [
    "Y_ = [ item[(len(item)-1)/2] for item in Y]"
   ]
  },
  {
   "cell_type": "code",
   "execution_count": 42,
   "metadata": {
    "collapsed": false
   },
   "outputs": [
    {
     "name": "stdout",
     "output_type": "stream",
     "text": [
      "1439793 1439793\n",
      "[0.066, 0.044]\n"
     ]
    }
   ],
   "source": [
    "print len(X),len(Y_)\n",
    "print Y_[:2]"
   ]
  },
  {
   "cell_type": "code",
   "execution_count": 43,
   "metadata": {
    "collapsed": false
   },
   "outputs": [
    {
     "name": "stdout",
     "output_type": "stream",
     "text": [
      "(1439793, 4, 80)\n"
     ]
    }
   ],
   "source": [
    "X_ = np.zeros((len(X),4,cutdown_len))\n",
    "print X_.shape"
   ]
  },
  {
   "cell_type": "code",
   "execution_count": 44,
   "metadata": {
    "collapsed": false
   },
   "outputs": [],
   "source": [
    "X_[:,:,:] = X[:]"
   ]
  },
  {
   "cell_type": "code",
   "execution_count": 45,
   "metadata": {
    "collapsed": true
   },
   "outputs": [],
   "source": [
    "Y_ = np.array(Y_)"
   ]
  },
  {
   "cell_type": "code",
   "execution_count": 46,
   "metadata": {
    "collapsed": false
   },
   "outputs": [],
   "source": [
    "from sklearn.cross_validation import ShuffleSplit\n",
    "rs = ShuffleSplit(len(Y_), n_iter=1)"
   ]
  },
  {
   "cell_type": "code",
   "execution_count": 47,
   "metadata": {
    "collapsed": false
   },
   "outputs": [
    {
     "data": {
      "text/plain": [
       "array([[[ 0.,  0.,  0.,  1.,  0.,  0.,  0.,  0.,  1.,  0.,  1.,  1.,  0.,\n",
       "          0.,  0.,  0.,  1.,  0.,  1.,  0.,  1.,  0.,  0.,  1.,  1.,  0.,\n",
       "          0.,  0.,  0.,  0.,  1.,  1.,  0.,  0.,  0.,  0.,  1.,  0.,  0.,\n",
       "          1.,  1.,  0.,  0.,  1.,  0.,  0.,  0.,  0.,  0.,  0.,  0.,  0.,\n",
       "          0.,  0.,  0.,  0.,  0.,  0.,  0.,  0.,  0.,  0.,  0.,  0.,  0.,\n",
       "          0.,  0.,  0.,  1.,  0.,  0.,  0.,  0.,  0.,  0.,  0.,  0.,  1.,\n",
       "          0.,  0.],\n",
       "        [ 1.,  1.,  1.,  0.,  1.,  0.,  0.,  0.,  0.,  1.,  0.,  0.,  1.,\n",
       "          1.,  0.,  1.,  0.,  0.,  0.,  0.,  0.,  1.,  1.,  0.,  0.,  0.,\n",
       "          0.,  1.,  0.,  1.,  0.,  0.,  1.,  0.,  0.,  0.,  0.,  1.,  1.,\n",
       "          0.,  0.,  0.,  0.,  0.,  1.,  0.,  0.,  0.,  0.,  0.,  0.,  0.,\n",
       "          1.,  0.,  0.,  0.,  1.,  0.,  0.,  0.,  0.,  0.,  0.,  0.,  0.,\n",
       "          0.,  0.,  0.,  0.,  0.,  0.,  1.,  0.,  0.,  0.,  1.,  1.,  0.,\n",
       "          0.,  0.],\n",
       "        [ 0.,  0.,  0.,  0.,  0.,  1.,  1.,  1.,  0.,  0.,  0.,  0.,  0.,\n",
       "          0.,  1.,  0.,  0.,  1.,  0.,  1.,  0.,  0.,  0.,  0.,  0.,  0.,\n",
       "          0.,  0.,  1.,  0.,  0.,  0.,  0.,  1.,  0.,  1.,  0.,  0.,  0.,\n",
       "          0.,  0.,  1.,  1.,  0.,  0.,  1.,  1.,  1.,  1.,  1.,  0.,  1.,\n",
       "          0.,  1.,  0.,  0.,  0.,  1.,  0.,  0.,  1.,  1.,  0.,  1.,  1.,\n",
       "          0.,  1.,  1.,  0.,  0.,  1.,  0.,  1.,  1.,  1.,  0.,  0.,  0.,\n",
       "          0.,  1.],\n",
       "        [ 0.,  0.,  0.,  0.,  0.,  0.,  0.,  0.,  0.,  0.,  0.,  0.,  0.,\n",
       "          0.,  0.,  0.,  0.,  0.,  0.,  0.,  0.,  0.,  0.,  0.,  0.,  1.,\n",
       "          1.,  0.,  0.,  0.,  0.,  0.,  0.,  0.,  1.,  0.,  0.,  0.,  0.,\n",
       "          0.,  0.,  0.,  0.,  0.,  0.,  0.,  0.,  0.,  0.,  0.,  1.,  0.,\n",
       "          0.,  0.,  1.,  1.,  0.,  0.,  1.,  1.,  0.,  0.,  1.,  0.,  0.,\n",
       "          1.,  0.,  0.,  0.,  1.,  0.,  0.,  0.,  0.,  0.,  0.,  0.,  0.,\n",
       "          1.,  0.]],\n",
       "\n",
       "       [[ 0.,  0.,  1.,  0.,  0.,  0.,  0.,  1.,  0.,  1.,  1.,  0.,  0.,\n",
       "          0.,  0.,  1.,  0.,  1.,  0.,  1.,  0.,  0.,  1.,  1.,  0.,  0.,\n",
       "          0.,  0.,  0.,  1.,  1.,  0.,  0.,  0.,  0.,  1.,  0.,  0.,  1.,\n",
       "          1.,  0.,  0.,  1.,  0.,  0.,  0.,  0.,  0.,  0.,  0.,  0.,  0.,\n",
       "          0.,  0.,  0.,  0.,  0.,  0.,  0.,  0.,  0.,  0.,  0.,  0.,  0.,\n",
       "          0.,  0.,  1.,  0.,  0.,  0.,  0.,  0.,  0.,  0.,  0.,  1.,  0.,\n",
       "          0.,  0.],\n",
       "        [ 1.,  1.,  0.,  1.,  0.,  0.,  0.,  0.,  1.,  0.,  0.,  1.,  1.,\n",
       "          0.,  1.,  0.,  0.,  0.,  0.,  0.,  1.,  1.,  0.,  0.,  0.,  0.,\n",
       "          1.,  0.,  1.,  0.,  0.,  1.,  0.,  0.,  0.,  0.,  1.,  1.,  0.,\n",
       "          0.,  0.,  0.,  0.,  1.,  0.,  0.,  0.,  0.,  0.,  0.,  0.,  1.,\n",
       "          0.,  0.,  0.,  1.,  0.,  0.,  0.,  0.,  0.,  0.,  0.,  0.,  0.,\n",
       "          0.,  0.,  0.,  0.,  0.,  1.,  0.,  0.,  0.,  1.,  1.,  0.,  0.,\n",
       "          0.,  1.],\n",
       "        [ 0.,  0.,  0.,  0.,  1.,  1.,  1.,  0.,  0.,  0.,  0.,  0.,  0.,\n",
       "          1.,  0.,  0.,  1.,  0.,  1.,  0.,  0.,  0.,  0.,  0.,  0.,  0.,\n",
       "          0.,  1.,  0.,  0.,  0.,  0.,  1.,  0.,  1.,  0.,  0.,  0.,  0.,\n",
       "          0.,  1.,  1.,  0.,  0.,  1.,  1.,  1.,  1.,  1.,  0.,  1.,  0.,\n",
       "          1.,  0.,  0.,  0.,  1.,  0.,  0.,  1.,  1.,  0.,  1.,  1.,  0.,\n",
       "          1.,  1.,  0.,  0.,  1.,  0.,  1.,  1.,  1.,  0.,  0.,  0.,  0.,\n",
       "          1.,  0.],\n",
       "        [ 0.,  0.,  0.,  0.,  0.,  0.,  0.,  0.,  0.,  0.,  0.,  0.,  0.,\n",
       "          0.,  0.,  0.,  0.,  0.,  0.,  0.,  0.,  0.,  0.,  0.,  1.,  1.,\n",
       "          0.,  0.,  0.,  0.,  0.,  0.,  0.,  1.,  0.,  0.,  0.,  0.,  0.,\n",
       "          0.,  0.,  0.,  0.,  0.,  0.,  0.,  0.,  0.,  0.,  1.,  0.,  0.,\n",
       "          0.,  1.,  1.,  0.,  0.,  1.,  1.,  0.,  0.,  1.,  0.,  0.,  1.,\n",
       "          0.,  0.,  0.,  1.,  0.,  0.,  0.,  0.,  0.,  0.,  0.,  0.,  1.,\n",
       "          0.,  0.]]])"
      ]
     },
     "execution_count": 47,
     "metadata": {},
     "output_type": "execute_result"
    }
   ],
   "source": [
    "X_[:2]"
   ]
  },
  {
   "cell_type": "code",
   "execution_count": 48,
   "metadata": {
    "collapsed": false
   },
   "outputs": [],
   "source": [
    "for train_idx, test_idx in rs:\n",
    "    X_train = X_[train_idx,:]\n",
    "    y_train = Y_[train_idx]\n",
    "    X_test = X_[test_idx,:]\n",
    "    y_test = Y_[test_idx]"
   ]
  },
  {
   "cell_type": "code",
   "execution_count": 49,
   "metadata": {
    "collapsed": false
   },
   "outputs": [
    {
     "name": "stdout",
     "output_type": "stream",
     "text": [
      "[[[ 0.  0.  0.  1.  0.  0.  0.  0.  0.  0.  0.  0.  1.  0.  0.  1.  0.  0.\n",
      "    0.  1.  0.  0.  1.  0.  0.  1.  0.  0.  0.  0.  0.  0.  1.  0.  0.  1.\n",
      "    0.  0.  0.  0.  0.  0.  0.  1.  0.  0.  1.  0.  0.  0.  1.  0.  0.  0.\n",
      "    0.  0.  1.  0.  0.  0.  1.  0.  1.  0.  0.  0.  0.  0.  0.  1.  0.  0.\n",
      "    0.  0.  0.  0.  0.  1.  0.  0.]\n",
      "  [ 0.  0.  0.  0.  1.  0.  0.  0.  0.  0.  0.  0.  0.  1.  0.  0.  1.  0.\n",
      "    0.  0.  0.  1.  0.  0.  0.  0.  0.  0.  1.  1.  0.  0.  0.  0.  1.  0.\n",
      "    1.  0.  0.  0.  0.  0.  0.  0.  0.  0.  0.  0.  0.  0.  0.  1.  0.  0.\n",
      "    0.  0.  0.  0.  0.  0.  0.  0.  0.  0.  1.  1.  1.  1.  0.  0.  0.  0.\n",
      "    0.  0.  1.  0.  0.  0.  0.  0.]\n",
      "  [ 1.  0.  1.  0.  0.  0.  1.  0.  1.  1.  1.  0.  0.  0.  0.  0.  0.  1.\n",
      "    0.  0.  1.  0.  0.  1.  0.  0.  1.  0.  0.  0.  1.  1.  0.  0.  0.  0.\n",
      "    0.  1.  1.  0.  0.  1.  0.  0.  0.  0.  0.  1.  0.  1.  0.  0.  0.  0.\n",
      "    0.  1.  0.  0.  0.  1.  0.  1.  0.  1.  0.  0.  0.  0.  1.  0.  0.  1.\n",
      "    0.  0.  0.  0.  0.  0.  0.  1.]\n",
      "  [ 0.  1.  0.  0.  0.  1.  0.  1.  0.  0.  0.  1.  0.  0.  1.  0.  0.  0.\n",
      "    1.  0.  0.  0.  0.  0.  1.  0.  0.  1.  0.  0.  0.  0.  0.  1.  0.  0.\n",
      "    0.  0.  0.  1.  1.  0.  1.  0.  1.  1.  0.  0.  1.  0.  0.  0.  1.  1.\n",
      "    1.  0.  0.  1.  1.  0.  0.  0.  0.  0.  0.  0.  0.  0.  0.  0.  1.  0.\n",
      "    1.  1.  0.  1.  1.  0.  1.  0.]]\n",
      "\n",
      " [[ 0.  0.  0.  0.  0.  0.  0.  0.  0.  0.  0.  0.  0.  0.  0.  0.  1.  0.\n",
      "    1.  1.  0.  0.  0.  0.  0.  1.  0.  1.  0.  0.  1.  0.  0.  0.  0.  0.\n",
      "    1.  0.  0.  1.  1.  0.  0.  1.  0.  0.  0.  1.  0.  1.  0.  0.  0.  0.\n",
      "    0.  1.  0.  0.  1.  1.  0.  0.  1.  1.  1.  0.  1.  0.  1.  0.  0.  0.\n",
      "    1.  1.  1.  0.  0.  1.  1.  1.]\n",
      "  [ 1.  1.  0.  0.  0.  0.  0.  0.  1.  0.  1.  1.  0.  0.  0.  0.  0.  0.\n",
      "    0.  0.  1.  1.  1.  0.  0.  0.  0.  0.  0.  0.  0.  1.  0.  0.  0.  0.\n",
      "    0.  1.  1.  0.  0.  1.  0.  0.  1.  1.  1.  0.  0.  0.  0.  0.  1.  0.\n",
      "    1.  0.  1.  0.  0.  0.  0.  0.  0.  0.  0.  0.  0.  0.  0.  0.  1.  0.\n",
      "    0.  0.  0.  0.  1.  0.  0.  0.]\n",
      "  [ 0.  0.  1.  0.  0.  1.  1.  0.  0.  0.  0.  0.  0.  0.  0.  0.  0.  1.\n",
      "    0.  0.  0.  0.  0.  0.  1.  0.  1.  0.  0.  1.  0.  0.  1.  1.  0.  1.\n",
      "    0.  0.  0.  0.  0.  0.  0.  0.  0.  0.  0.  0.  1.  0.  0.  0.  0.  1.\n",
      "    0.  0.  0.  1.  0.  0.  1.  0.  0.  0.  0.  1.  0.  0.  0.  0.  0.  1.\n",
      "    0.  0.  0.  0.  0.  0.  0.  0.]\n",
      "  [ 0.  0.  0.  1.  1.  0.  0.  1.  0.  1.  0.  0.  1.  1.  1.  1.  0.  0.\n",
      "    0.  0.  0.  0.  0.  1.  0.  0.  0.  0.  1.  0.  0.  0.  0.  0.  1.  0.\n",
      "    0.  0.  0.  0.  0.  0.  1.  0.  0.  0.  0.  0.  0.  0.  1.  1.  0.  0.\n",
      "    0.  0.  0.  0.  0.  0.  0.  1.  0.  0.  0.  0.  0.  1.  0.  1.  0.  0.\n",
      "    0.  0.  0.  1.  0.  0.  0.  0.]]]\n",
      "[ 0.  0.]\n"
     ]
    }
   ],
   "source": [
    "print X_train[:2]\n",
    "print y_train[:2]"
   ]
  },
  {
   "cell_type": "code",
   "execution_count": 50,
   "metadata": {
    "collapsed": false
   },
   "outputs": [],
   "source": [
    "X_train = X_train.astype('float32')\n",
    "y_train = y_train.astype('float32')\n",
    "X_test = X_test.astype('float32')\n",
    "y_test = y_test.astype('float32')"
   ]
  },
  {
   "cell_type": "code",
   "execution_count": 51,
   "metadata": {
    "collapsed": false
   },
   "outputs": [
    {
     "name": "stdout",
     "output_type": "stream",
     "text": [
      "[[[ 0.  0.  0.  1.  0.  0.  0.  0.  0.  0.  0.  0.  1.  0.  0.  1.  0.  0.\n",
      "    0.  1.  0.  0.  1.  0.  0.  1.  0.  0.  0.  0.  0.  0.  1.  0.  0.  1.\n",
      "    0.  0.  0.  0.  0.  0.  0.  1.  0.  0.  1.  0.  0.  0.  1.  0.  0.  0.\n",
      "    0.  0.  1.  0.  0.  0.  1.  0.  1.  0.  0.  0.  0.  0.  0.  1.  0.  0.\n",
      "    0.  0.  0.  0.  0.  1.  0.  0.]\n",
      "  [ 0.  0.  0.  0.  1.  0.  0.  0.  0.  0.  0.  0.  0.  1.  0.  0.  1.  0.\n",
      "    0.  0.  0.  1.  0.  0.  0.  0.  0.  0.  1.  1.  0.  0.  0.  0.  1.  0.\n",
      "    1.  0.  0.  0.  0.  0.  0.  0.  0.  0.  0.  0.  0.  0.  0.  1.  0.  0.\n",
      "    0.  0.  0.  0.  0.  0.  0.  0.  0.  0.  1.  1.  1.  1.  0.  0.  0.  0.\n",
      "    0.  0.  1.  0.  0.  0.  0.  0.]\n",
      "  [ 1.  0.  1.  0.  0.  0.  1.  0.  1.  1.  1.  0.  0.  0.  0.  0.  0.  1.\n",
      "    0.  0.  1.  0.  0.  1.  0.  0.  1.  0.  0.  0.  1.  1.  0.  0.  0.  0.\n",
      "    0.  1.  1.  0.  0.  1.  0.  0.  0.  0.  0.  1.  0.  1.  0.  0.  0.  0.\n",
      "    0.  1.  0.  0.  0.  1.  0.  1.  0.  1.  0.  0.  0.  0.  1.  0.  0.  1.\n",
      "    0.  0.  0.  0.  0.  0.  0.  1.]\n",
      "  [ 0.  1.  0.  0.  0.  1.  0.  1.  0.  0.  0.  1.  0.  0.  1.  0.  0.  0.\n",
      "    1.  0.  0.  0.  0.  0.  1.  0.  0.  1.  0.  0.  0.  0.  0.  1.  0.  0.\n",
      "    0.  0.  0.  1.  1.  0.  1.  0.  1.  1.  0.  0.  1.  0.  0.  0.  1.  1.\n",
      "    1.  0.  0.  1.  1.  0.  0.  0.  0.  0.  0.  0.  0.  0.  0.  0.  1.  0.\n",
      "    1.  1.  0.  1.  1.  0.  1.  0.]]\n",
      "\n",
      " [[ 0.  0.  0.  0.  0.  0.  0.  0.  0.  0.  0.  0.  0.  0.  0.  0.  1.  0.\n",
      "    1.  1.  0.  0.  0.  0.  0.  1.  0.  1.  0.  0.  1.  0.  0.  0.  0.  0.\n",
      "    1.  0.  0.  1.  1.  0.  0.  1.  0.  0.  0.  1.  0.  1.  0.  0.  0.  0.\n",
      "    0.  1.  0.  0.  1.  1.  0.  0.  1.  1.  1.  0.  1.  0.  1.  0.  0.  0.\n",
      "    1.  1.  1.  0.  0.  1.  1.  1.]\n",
      "  [ 1.  1.  0.  0.  0.  0.  0.  0.  1.  0.  1.  1.  0.  0.  0.  0.  0.  0.\n",
      "    0.  0.  1.  1.  1.  0.  0.  0.  0.  0.  0.  0.  0.  1.  0.  0.  0.  0.\n",
      "    0.  1.  1.  0.  0.  1.  0.  0.  1.  1.  1.  0.  0.  0.  0.  0.  1.  0.\n",
      "    1.  0.  1.  0.  0.  0.  0.  0.  0.  0.  0.  0.  0.  0.  0.  0.  1.  0.\n",
      "    0.  0.  0.  0.  1.  0.  0.  0.]\n",
      "  [ 0.  0.  1.  0.  0.  1.  1.  0.  0.  0.  0.  0.  0.  0.  0.  0.  0.  1.\n",
      "    0.  0.  0.  0.  0.  0.  1.  0.  1.  0.  0.  1.  0.  0.  1.  1.  0.  1.\n",
      "    0.  0.  0.  0.  0.  0.  0.  0.  0.  0.  0.  0.  1.  0.  0.  0.  0.  1.\n",
      "    0.  0.  0.  1.  0.  0.  1.  0.  0.  0.  0.  1.  0.  0.  0.  0.  0.  1.\n",
      "    0.  0.  0.  0.  0.  0.  0.  0.]\n",
      "  [ 0.  0.  0.  1.  1.  0.  0.  1.  0.  1.  0.  0.  1.  1.  1.  1.  0.  0.\n",
      "    0.  0.  0.  0.  0.  1.  0.  0.  0.  0.  1.  0.  0.  0.  0.  0.  1.  0.\n",
      "    0.  0.  0.  0.  0.  0.  1.  0.  0.  0.  0.  0.  0.  0.  1.  1.  0.  0.\n",
      "    0.  0.  0.  0.  0.  0.  0.  1.  0.  0.  0.  0.  0.  1.  0.  1.  0.  0.\n",
      "    0.  0.  0.  1.  0.  0.  0.  0.]]]\n",
      "[ 0.  0.]\n"
     ]
    }
   ],
   "source": [
    "print X_train[:2]\n",
    "print y_train[:2]"
   ]
  },
  {
   "cell_type": "markdown",
   "metadata": {
    "collapsed": false
   },
   "source": [
    "#方便测试用\n",
    "cutdown_len = 13\n",
    "layer1 = InputLayer(shape=(None,4,cutdown_len))\n",
    "layer2 = DenseLayer(layer1, num_units=20 ,nonlinearity=tanh)\n",
    "network = DenseLayer(layer2,num_units=1,nonlinearity=tanh)\n",
    "\n",
    "lr = theano.shared(np.float32(1e-4))\n",
    "\n",
    "net = NeuralNet(\n",
    "            network,\n",
    "            max_epochs=50,\n",
    "            update=adam,\n",
    "            update_learning_rate=lr,\n",
    "            train_split=TrainSplit(eval_size=0.1),\n",
    "                regression = True,\n",
    "            objective_loss_function = squared_error,\n",
    "            #on_epoch_finished=[\n",
    "            #    AdjustVariable(lr, target=1e-8, half_life=20)],\n",
    "            verbose=4)"
   ]
  },
  {
   "cell_type": "code",
   "execution_count": 52,
   "metadata": {
    "collapsed": false
   },
   "outputs": [
    {
     "name": "stdout",
     "output_type": "stream",
     "text": [
      "# Neural Network with 6441 learnable parameters\n",
      "\n",
      "## Layer information\n",
      "\n",
      "  #    name  size\n",
      "---  ------  ------\n",
      "  0          80x4\n",
      "  1          20\n",
      "  2          1\n",
      "\n",
      "  epoch    trn loss    val loss    trn/val  dur\n",
      "-------  ----------  ----------  ---------  -----\n",
      "      1     \u001b[36m0.48554\u001b[0m     \u001b[32m0.47742\u001b[0m    1.01702  8.98s\n",
      "      2     \u001b[36m0.47316\u001b[0m     \u001b[32m0.47536\u001b[0m    0.99536  9.10s\n",
      "      3     \u001b[36m0.47168\u001b[0m     \u001b[32m0.47448\u001b[0m    0.99410  9.16s\n",
      "      4     \u001b[36m0.47085\u001b[0m     \u001b[32m0.47395\u001b[0m    0.99347  8.80s\n",
      "      5     \u001b[36m0.47029\u001b[0m     \u001b[32m0.47357\u001b[0m    0.99306  9.02s\n",
      "      6     \u001b[36m0.46987\u001b[0m     \u001b[32m0.47328\u001b[0m    0.99278  8.87s\n",
      "      7     \u001b[36m0.46953\u001b[0m     \u001b[32m0.47304\u001b[0m    0.99258  9.35s\n",
      "      8     \u001b[36m0.46924\u001b[0m     \u001b[32m0.47281\u001b[0m    0.99244  8.92s\n",
      "      9     \u001b[36m0.46896\u001b[0m     \u001b[32m0.47259\u001b[0m    0.99232  8.85s\n",
      "     10     \u001b[36m0.46871\u001b[0m     \u001b[32m0.47240\u001b[0m    0.99218  9.16s\n",
      "     11     \u001b[36m0.46848\u001b[0m     \u001b[32m0.47224\u001b[0m    0.99204  9.21s\n",
      "     12     \u001b[36m0.46829\u001b[0m     \u001b[32m0.47212\u001b[0m    0.99189  8.62s\n",
      "     13     \u001b[36m0.46813\u001b[0m     \u001b[32m0.47204\u001b[0m    0.99174  9.30s\n",
      "     14     \u001b[36m0.46799\u001b[0m     \u001b[32m0.47197\u001b[0m    0.99157  8.89s\n",
      "     15     \u001b[36m0.46786\u001b[0m     \u001b[32m0.47193\u001b[0m    0.99138  9.34s\n",
      "     16     \u001b[36m0.46774\u001b[0m     \u001b[32m0.47191\u001b[0m    0.99116  8.68s\n",
      "     17     \u001b[36m0.46761\u001b[0m     \u001b[32m0.47190\u001b[0m    0.99092  8.93s\n",
      "     18     \u001b[36m0.46749\u001b[0m     0.47190    0.99065  9.50s\n",
      "     19     \u001b[36m0.46736\u001b[0m     0.47191    0.99036  8.96s\n",
      "     20     \u001b[36m0.46724\u001b[0m     0.47193    0.99005  8.66s\n",
      "     21     \u001b[36m0.46712\u001b[0m     0.47197    0.98973  9.00s\n",
      "     22     \u001b[36m0.46700\u001b[0m     0.47200    0.98940  8.70s\n",
      "     23     \u001b[36m0.46688\u001b[0m     0.47204    0.98907  8.80s\n",
      "     24     \u001b[36m0.46677\u001b[0m     0.47208    0.98874  8.62s\n",
      "     25     \u001b[36m0.46666\u001b[0m     0.47213    0.98842  8.70s\n",
      "     26     \u001b[36m0.46656\u001b[0m     0.47217    0.98811  8.65s\n",
      "     27     \u001b[36m0.46646\u001b[0m     0.47221    0.98781  8.49s\n",
      "     28     \u001b[36m0.46636\u001b[0m     0.47226    0.98752  8.41s\n",
      "     29     \u001b[36m0.46627\u001b[0m     0.47230    0.98724  8.74s\n",
      "     30     \u001b[36m0.46618\u001b[0m     0.47234    0.98698  8.74s\n",
      "     31     \u001b[36m0.46610\u001b[0m     0.47237    0.98672  8.65s\n",
      "     32     \u001b[36m0.46602\u001b[0m     0.47241    0.98648  8.56s\n",
      "     33     \u001b[36m0.46594\u001b[0m     0.47244    0.98625  8.68s\n",
      "     34     \u001b[36m0.46587\u001b[0m     0.47247    0.98603  8.78s\n",
      "     35     \u001b[36m0.46580\u001b[0m     0.47250    0.98581  8.96s\n",
      "     36     \u001b[36m0.46573\u001b[0m     0.47253    0.98561  8.56s\n",
      "     37     \u001b[36m0.46567\u001b[0m     0.47256    0.98541  8.54s\n",
      "     38     \u001b[36m0.46561\u001b[0m     0.47259    0.98523  8.52s\n",
      "     39     \u001b[36m0.46554\u001b[0m     0.47261    0.98505  8.58s\n",
      "     40     \u001b[36m0.46549\u001b[0m     0.47264    0.98487  8.84s\n",
      "     41     \u001b[36m0.46543\u001b[0m     0.47266    0.98471  8.44s\n",
      "     42     \u001b[36m0.46538\u001b[0m     0.47268    0.98455  18.74s\n",
      "     43     \u001b[36m0.46533\u001b[0m     0.47270    0.98440  8.96s\n",
      "     44     \u001b[36m0.46528\u001b[0m     0.47272    0.98425  9.43s\n",
      "     45     \u001b[36m0.46523\u001b[0m     0.47274    0.98411  9.21s\n",
      "     46     \u001b[36m0.46518\u001b[0m     0.47276    0.98397  8.91s\n",
      "     47     \u001b[36m0.46514\u001b[0m     0.47278    0.98384  8.60s\n",
      "     48     \u001b[36m0.46509\u001b[0m     0.47279    0.98371  8.56s\n",
      "     49     \u001b[36m0.46505\u001b[0m     0.47281    0.98359  8.73s\n",
      "     50     \u001b[36m0.46501\u001b[0m     0.47283    0.98347  8.33s\n"
     ]
    },
    {
     "data": {
      "text/plain": [
       "NeuralNet(X_tensor_type=None,\n",
       "     batch_iterator_test=<nolearn.lasagne.base.BatchIterator object at 0x7fb27bb9b990>,\n",
       "     batch_iterator_train=<nolearn.lasagne.base.BatchIterator object at 0x7fb27bb9b890>,\n",
       "     check_input=True, custom_scores=None,\n",
       "     layers=[<lasagne.layers.dense.DenseLayer object at 0x7fb2d428db10>],\n",
       "     loss=None, max_epochs=50, more_params={},\n",
       "     objective=<function objective at 0x7fb27bb9fe60>,\n",
       "     objective_loss_function=<function squared_error at 0x7fb287bbf398>,\n",
       "     on_batch_finished=[],\n",
       "     on_epoch_finished=[<nolearn.lasagne.handlers.PrintLog instance at 0x7fb1fd59dfc8>],\n",
       "     on_training_finished=[],\n",
       "     on_training_started=[<nolearn.lasagne.handlers.PrintLayerInfo instance at 0x7fb1fd59df80>],\n",
       "     regression=True, scores_train=[], scores_valid=[],\n",
       "     train_split=<nolearn.lasagne.base.TrainSplit object at 0x7fb2d420b210>,\n",
       "     update=<function adam at 0x7fb287bbfde8>,\n",
       "     update_learning_rate=<TensorType(float32, scalar)>,\n",
       "     use_label_encoder=False, verbose=4,\n",
       "     y_tensor_type=TensorType(float32, matrix))"
      ]
     },
     "execution_count": 52,
     "metadata": {},
     "output_type": "execute_result"
    }
   ],
   "source": [
    "net.fit(X_train, y_train)"
   ]
  },
  {
   "cell_type": "markdown",
   "metadata": {},
   "source": [
    "# Save network values"
   ]
  },
  {
   "cell_type": "markdown",
   "metadata": {
    "collapsed": true
   },
   "source": [
    "from nolearn.lasagne import NeuralNet\n",
    "net.initialize_layers()\n",
    "net_params=[]\n",
    "net.save_params_to('./Gen_data/CROSS_net_values.pkl')"
   ]
  },
  {
   "cell_type": "markdown",
   "metadata": {},
   "source": [
    "# Test Network"
   ]
  },
  {
   "cell_type": "markdown",
   "metadata": {},
   "source": [
    "## Load Network Values"
   ]
  },
  {
   "cell_type": "markdown",
   "metadata": {
    "collapsed": false
   },
   "source": [
    "import theano\n",
    "from lasagne.layers import InputLayer\n",
    "from lasagne.layers import DenseLayer\n",
    "from lasagne.layers import DropoutLayer\n",
    "try:\n",
    "    from lasagne.layers.dnn import Conv2DDNNLayer as Conv2DLayer\n",
    "    from lasagne.layers.dnn import MaxPool2DDNNLayer as MaxPool2DLayer\n",
    "    print 'Using Lasagne.layers.dnn (faster)'\n",
    "except ImportError:\n",
    "    from lasagne.layers import Conv2DLayer\n",
    "    from lasagne.layers import MaxPool2DLayer\n",
    "    print 'Using Lasagne.layers (slower)'\n",
    "from lasagne.nonlinearities import softmax, rectify, leaky_rectify\n",
    "from lasagne.updates import adam\n",
    "from lasagne.objectives import squared_error\n",
    "\n",
    "from nolearn.lasagne import NeuralNet\n",
    "from nolearn.lasagne import TrainSplit\n",
    "from nolearn.lasagne import objective\n",
    "from nolearn.lasagne import BatchIterator\n",
    "\n",
    "from lasagne.nonlinearities import tanh \n",
    "floatX = theano.config.floatX\n",
    "\n",
    "cutdown_len = 13\n",
    "layer1 = InputLayer(shape=(None,cutdown_len,4))\n",
    "layer2 = DenseLayer(layer1, num_units=20 ,nonlinearity=tanh)\n",
    "network = DenseLayer(layer2,num_units=1,nonlinearity=tanh)\n",
    "\n",
    "lr = theano.shared(np.float32(1e-4))\n",
    "\n",
    "net = NeuralNet(\n",
    "            network,\n",
    "            max_epochs=7,\n",
    "            update=adam,\n",
    "            update_learning_rate=lr,\n",
    "            train_split=TrainSplit(eval_size=0.1),\n",
    "                regression = True,\n",
    "            objective_loss_function = squared_error,\n",
    "            #on_epoch_finished=[\n",
    "            #    AdjustVariable(lr, target=1e-8, half_life=20)],\n",
    "            verbose=4)"
   ]
  },
  {
   "cell_type": "markdown",
   "metadata": {
    "collapsed": false
   },
   "source": [
    "# Load  NetWork Values\n",
    "from nolearn.lasagne import NeuralNet\n",
    "net.initialize_layers()\n",
    "net.load_params_from('./Gen_data/CROSS_net_values.pkl')"
   ]
  },
  {
   "cell_type": "markdown",
   "metadata": {},
   "source": [
    "## Test"
   ]
  },
  {
   "cell_type": "code",
   "execution_count": 53,
   "metadata": {
    "collapsed": false
   },
   "outputs": [
    {
     "name": "stdout",
     "output_type": "stream",
     "text": [
      "[[-0.01191795]\n",
      " [ 0.04735415]\n",
      " [ 0.02879003]\n",
      " [ 0.0481117 ]\n",
      " [-0.01866907]\n",
      " [-0.05912852]\n",
      " [ 0.03924243]\n",
      " [-0.07131457]\n",
      " [ 0.03253795]\n",
      " [-0.15271844]]\n",
      "[ 0.35800001  0.         -0.412      -0.648       0.077       0.004      -0.417\n",
      "  0.127      -0.155      -0.22400001]\n"
     ]
    }
   ],
   "source": [
    "y_1 = net.predict(X_test[:10])\n",
    "print y_1\n",
    "print y_test[:10]\n"
   ]
  },
  {
   "cell_type": "code",
   "execution_count": 54,
   "metadata": {
    "collapsed": true
   },
   "outputs": [],
   "source": [
    "y_pred = net.predict(X_test)"
   ]
  },
  {
   "cell_type": "code",
   "execution_count": 55,
   "metadata": {
    "collapsed": true
   },
   "outputs": [],
   "source": [
    "import matplotlib.pyplot as plt\n",
    "%matplotlib inline"
   ]
  },
  {
   "cell_type": "code",
   "execution_count": 56,
   "metadata": {
    "collapsed": false
   },
   "outputs": [
    {
     "data": {
      "text/plain": [
       "<matplotlib.collections.PathCollection at 0x7fb229ac8810>"
      ]
     },
     "execution_count": 56,
     "metadata": {},
     "output_type": "execute_result"
    },
    {
     "data": {
      "image/png": "[encoded data removed]",
      "text/plain": [
       "<matplotlib.figure.Figure at 0x7fb22a3dc750>"
      ]
     },
     "metadata": {},
     "output_type": "display_data"
    }
   ],
   "source": [
    "plt.scatter(y_test,y_pred,0.1)"
   ]
  },
  {
   "cell_type": "code",
   "execution_count": 57,
   "metadata": {
    "collapsed": true
   },
   "outputs": [],
   "source": [
    "from scipy import stats"
   ]
  },
  {
   "cell_type": "code",
   "execution_count": 58,
   "metadata": {
    "collapsed": false
   },
   "outputs": [
    {
     "name": "stdout",
     "output_type": "stream",
     "text": [
      "0.15240609088\n"
     ]
    }
   ],
   "source": [
    "slope, intercept, r_value, p_value, std_err = stats.linregress(y_test,y_pred[:,0])\n",
    "print r_value"
   ]
  },
  {
   "cell_type": "code",
   "execution_count": null,
   "metadata": {
    "collapsed": true
   },
   "outputs": [],
   "source": []
  }
 ],
 "metadata": {
  "anaconda-cloud": {},
  "kernelspec": {
   "display_name": "Python [conda root]",
   "language": "python",
   "name": "conda-root-py"
  },
  "language_info": {
   "codemirror_mode": {
    "name": "ipython",
    "version": 2
   },
   "file_extension": ".py",
   "mimetype": "text/x-python",
   "name": "python",
   "nbconvert_exporter": "python",
   "pygments_lexer": "ipython2",
   "version": "2.7.12"
  }
 },
 "nbformat": 4,
 "nbformat_minor": 1
}
