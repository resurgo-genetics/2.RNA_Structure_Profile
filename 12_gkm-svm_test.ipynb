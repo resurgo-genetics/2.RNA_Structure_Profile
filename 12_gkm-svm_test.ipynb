{
 "cells": [
  {
   "cell_type": "code",
   "execution_count": 8,
   "metadata": {
    "collapsed": true
   },
   "outputs": [],
   "source": [
    "from sklearn.metrics import f1_score, roc_auc_score,accuracy_score\n",
    "baseroot ='/home/yinqijin/WorkSpace/2.RNA_Structure_Profile/Gen_data/GM12878_all.cvpred.txt'"
   ]
  },
  {
   "cell_type": "code",
   "execution_count": 9,
   "metadata": {
    "collapsed": false
   },
   "outputs": [],
   "source": [
    "lines = open(baseroot,'r').readlines()"
   ]
  },
  {
   "cell_type": "code",
   "execution_count": 10,
   "metadata": {
    "collapsed": false
   },
   "outputs": [
    {
     "name": "stdout",
     "output_type": "stream",
     "text": [
      "chr1:24193468-24194871chr1:24136556-24136600_sample_1\t0.510608\t1\t6\n",
      "\n"
     ]
    }
   ],
   "source": [
    "print lines[1]"
   ]
  },
  {
   "cell_type": "code",
   "execution_count": 11,
   "metadata": {
    "collapsed": false
   },
   "outputs": [
    {
     "name": "stdout",
     "output_type": "stream",
     "text": [
      "changed!\n",
      "[1, 1, 1, 1, 1] [0.0, 1.0, 1.0, 1.0, 1.0]\n",
      "0.777888944472\n",
      "0.836735016587\n",
      "0.789722945773\n"
     ]
    }
   ],
   "source": [
    "\n",
    "y_true = []\n",
    "y_score = []\n",
    "y_pred = []\n",
    "for line in lines:\n",
    "    contents = line.split()\n",
    "    #if contents[0][-1]==str(0):\n",
    "     #   continue\n",
    "    y_true.append(int(contents[0][-1]))\n",
    "    y_score.append(float(contents[1]))\n",
    "    #print float(contents[1]),float(float(contents[1])>0)\n",
    "    y_pred.append(float(float(contents[1])>0))\n",
    "    #print y_pred\n",
    "\n",
    "print 'changed!'\n",
    "print y_true[:5],y_pred[:5]\n",
    "\n",
    "print f1_score(y_true, y_pred)\n",
    "print roc_auc_score(y_true, y_score)\n",
    "print accuracy_score(y_true,y_pred)"
   ]
  },
  {
   "cell_type": "code",
   "execution_count": null,
   "metadata": {
    "collapsed": true
   },
   "outputs": [],
   "source": []
  }
 ],
 "metadata": {
  "anaconda-cloud": {},
  "kernelspec": {
   "display_name": "Python [conda root]",
   "language": "python",
   "name": "conda-root-py"
  },
  "language_info": {
   "codemirror_mode": {
    "name": "ipython",
    "version": 2
   },
   "file_extension": ".py",
   "mimetype": "text/x-python",
   "name": "python",
   "nbconvert_exporter": "python",
   "pygments_lexer": "ipython2",
   "version": "2.7.12"
  }
 },
 "nbformat": 4,
 "nbformat_minor": 1
}
