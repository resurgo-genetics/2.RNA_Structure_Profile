{
 "cells": [
  {
   "cell_type": "markdown",
   "metadata": {},
   "source": [
    "# README    \n",
    "1. generate a Keras Layer :AttLayer  \n",
    "2. Use csv module to import data\n"
   ]
  },
  {
   "cell_type": "markdown",
   "metadata": {},
   "source": [
    "# Result  \n",
    "1)使用Dense层\n",
    "acc在.73\n",
    "roc在0.79\n",
    "说明数据集没有问题"
   ]
  },
  {
   "cell_type": "markdown",
   "metadata": {},
   "source": [
    "# Read Data"
   ]
  },
  {
   "cell_type": "code",
   "execution_count": 2,
   "metadata": {
    "collapsed": false
   },
   "outputs": [],
   "source": [
    "datafile  =  '/home/yinqijin/WorkSpace/2.RNA_Structure_Profile/Orig_data/pairs.csv'\n",
    "import csv"
   ]
  },
  {
   "cell_type": "code",
   "execution_count": 3,
   "metadata": {
    "collapsed": false
   },
   "outputs": [
    {
     "name": "stdout",
     "output_type": "stream",
     "text": [
      "['bin', 'enhancer_chrom', 'enhancer_distance_to_promoter', 'enhancer_end', 'enhancer_name', 'enhancer_start', 'label', 'promoter_chrom', 'promoter_end', 'promoter_name', 'promoter_start', 'window_end', 'window_start', 'window_chrom', 'window_name', 'interactions_in_window', 'active_promoters_in_window']\n"
     ]
    }
   ],
   "source": [
    "with open(datafile) as csvfile:\n",
    "    spamreader = csv.reader(csvfile)\n",
    "    for  row in spamreader:\n",
    "        csvkeys = row\n",
    "        break\n",
    "print csvkeys"
   ]
  },
  {
   "cell_type": "code",
   "execution_count": 4,
   "metadata": {
    "collapsed": false,
    "scrolled": true
   },
   "outputs": [],
   "source": [
    "poscsv = {}\n",
    "negcsv = {}\n",
    "with open(datafile) as csvfile:\n",
    "    reader = csv.DictReader(csvfile)\n",
    "    for line in reader:\n",
    "        if line['bin']  not in poscsv.keys():\n",
    "            poscsv[line['bin']] =[]\n",
    "        if line ['bin']  not in negcsv.keys():\n",
    "            negcsv[line['bin']] =[]\n",
    "\n",
    "        record=[ line['enhancer_chrom']+' '+\n",
    "                line[ 'enhancer_start']+' '+\n",
    "                line['enhancer_end']+' '+\n",
    "                line['promoter_chrom']+' '+\n",
    "                line['promoter_start']+' '+\n",
    "                line['promoter_end']+' '+\n",
    "                line['enhancer_name']+'-'+line['promoter_name']\n",
    "                  ]\n",
    "        if line['label']==str(1):\n",
    "            poscsv[line['bin']].append(record)\n",
    "        else:\n",
    "            negcsv[line['bin']].append(record)\n",
    "\n",
    "    for key in poscsv.keys():\n",
    "        length = len(poscsv[key])\n",
    "        index = range(len(negcsv[key]))\n",
    "        np.random.shuffle(index)\n",
    "        negcsv[key] = np.array(negcsv[key])\n",
    "        negcsv[key] = negcsv[key][index[:length]]\n",
    "        #print len(negcsv[key])"
   ]
  },
  {
   "cell_type": "code",
   "execution_count": 5,
   "metadata": {
    "collapsed": false
   },
   "outputs": [
    {
     "name": "stdout",
     "output_type": "stream",
     "text": [
      "2113 2113\n"
     ]
    }
   ],
   "source": [
    "posdata =[]\n",
    "negdata = []\n",
    "for key in poscsv.keys():\n",
    "    posdata = np.append(posdata,poscsv[key])\n",
    "    negdata = np.append(negdata,negcsv[key])\n",
    "assert  len(posdata) == len(negdata)\n",
    "print  len(posdata),len(negdata)"
   ]
  },
  {
   "cell_type": "code",
   "execution_count": 6,
   "metadata": {
    "collapsed": true
   },
   "outputs": [],
   "source": [
    "from pyfasta import Fasta\n",
    "genome = Fasta('/home/yinqijin/WorkSpace/DataHub/genome.fa')"
   ]
  },
  {
   "cell_type": "code",
   "execution_count": 7,
   "metadata": {
    "collapsed": true
   },
   "outputs": [],
   "source": [
    "#获得ｋｍｅｒ的函数\n",
    "d2 = {'a':0, 'A':0, 'g':1, 'G':1, 'c':2, 'C':2, 't':3, 'T':3, 'N':0, 'n':0}\n",
    "def seq_to_kspec(seq):\n",
    "    mat = np.zeros((4096,1))\n",
    "    k = 0\n",
    "    if len(seq)<6:\n",
    "        return mat\n",
    "    for i in range(6):\n",
    "        k = k*4 + d2[seq[i]]\n",
    "    mat[k]+=1  \n",
    "    for i in range(6,len(seq)):\n",
    "        k = k - 4**5*d2[seq[i-6]]\n",
    "        k = k*4 + d2[seq[i]]\n",
    "        mat[k] += 1  \n",
    "    return mat"
   ]
  },
  {
   "cell_type": "code",
   "execution_count": 8,
   "metadata": {
    "collapsed": false
   },
   "outputs": [],
   "source": [
    "PESeq=dict()\n",
    "PESeq['index']=[]\n",
    "PESeq['Pro-Seq']=[]\n",
    "PESeq['Pro-Kmer']=[]\n",
    "PESeq['Ehr-Seq']=[]\n",
    "PESeq['Ehr-Kmer']=[]\n",
    "PESeq['label'] =[]"
   ]
  },
  {
   "cell_type": "code",
   "execution_count": 9,
   "metadata": {
    "collapsed": false
   },
   "outputs": [
    {
     "name": "stdout",
     "output_type": "stream",
     "text": [
      "['chr17', '41080595', '41080600', 'chr17', '40728821', '40732200', 'GM12878|chr17:41080595-41080600-GM12878|chr17:40728821-40732200']\n",
      "['chr3', '144015595', '144015600', 'chr3', '143689613', '143692895', 'GM12878|chr3:144015595-144015600-GM12878|chr3:143689613-143692895']\n",
      "['chr6', '27857195', '27857200', 'chr6', '27803860', '27807953', 'GM12878|chr6:27857195-27857200-GM12878|chr6:27803860-27807953']\n",
      "pos over\n",
      "2110\n",
      "['chr14', '23285600', '23285605', 'chr14', '24898401', '24901080', 'GM12878|chr14:23285600-23285605-GM12878|chr14:24898401-24901080']\n",
      "['chr7', '25008400', '25008405', 'chr7', '24612524', '24614575', 'GM12878|chr7:25008400-25008405-GM12878|chr7:24612524-24614575']\n",
      "['chr1', '45858795', '45858800', 'chr1', '46215504', '46216889', 'GM12878|chr1:45858795-45858800-GM12878|chr1:46215504-46216889']\n",
      "['chr11', '62541195', '62541200', 'chr11', '62438320', '62440335', 'GM12878|chr11:62541195-62541200-GM12878|chr11:62438320-62440335']\n",
      "['chr1', '160769395', '160769400', 'chr1', '160490425', '160493185', 'GM12878|chr1:160769395-160769400-GM12878|chr1:160490425-160493185']\n",
      "['chr1', '45858795', '45858800', 'chr1', '46048400', '46052424', 'GM12878|chr1:45858795-45858800-GM12878|chr1:46048400-46052424']\n",
      "neg over\n",
      "4217\n"
     ]
    }
   ],
   "source": [
    "#正样本\n",
    "for index in range(len(posdata)):\n",
    "    line = posdata[index]\n",
    "    #print line\n",
    "    line = line.split()\n",
    "    ehr_seq = genome[line[0]][int(line[1]): int(line[2]) ]\n",
    "    pro_seq = genome [line[3]][int(line[4]) :int(line[5])]\n",
    "    index = line[6]\n",
    "    \n",
    "    if len(pro_seq)<6:\n",
    "        print line\n",
    "        continue\n",
    "    if len(ehr_seq)<6:\n",
    "        print line\n",
    "        continue\n",
    "        \n",
    "    PESeq['index'].append(index )\n",
    "    PESeq['Pro-Seq'].append(pro_seq)\n",
    "    PESeq['Pro-Kmer'].append( seq_to_kspec(pro_seq))\n",
    "    PESeq['Ehr-Seq'].append(ehr_seq)\n",
    "    PESeq['Ehr-Kmer'].append(seq_to_kspec(ehr_seq))\n",
    "    PESeq['label'].append(1)\n",
    "print 'pos over'\n",
    "print len(PESeq['label'])  \n",
    "\n",
    "#负样本\n",
    "  \n",
    "for  index in range(len(negdata)):\n",
    "    line = negdata[index]\n",
    "    line = line.split()\n",
    "    ehr_seq = genome[line[0]][int(line[1]): int(line[2]) ]\n",
    "    pro_seq = genome [line[3]][int(line[4]) :int(line[5])]\n",
    "    index = line[6]\n",
    "    \n",
    "    if len(pro_seq)<6:\n",
    "        print line\n",
    "        continue\n",
    "    if len(ehr_seq)<6:\n",
    "        print line\n",
    "        continue\n",
    "        \n",
    "    PESeq['index'].append(index )\n",
    "    PESeq['Pro-Seq'].append(pro_seq)\n",
    "    PESeq['Pro-Kmer'].append( seq_to_kspec(pro_seq))\n",
    "    PESeq['Ehr-Seq'].append(ehr_seq)\n",
    "    PESeq['Ehr-Kmer'].append(seq_to_kspec(ehr_seq))\n",
    "    PESeq['label'].append(0)\n",
    "print 'neg over'\n",
    "\n",
    "print len(PESeq['label'])"
   ]
  },
  {
   "cell_type": "code",
   "execution_count": 10,
   "metadata": {
    "collapsed": false,
    "scrolled": true
   },
   "outputs": [
    {
     "name": "stdout",
     "output_type": "stream",
     "text": [
      "--------------------------------------------------\n",
      "index (4217,)\n",
      "Ehr-Kmer (4217, 4096, 1)\n",
      "Ehr-Seq (4217,)\n",
      "label (4217,)\n",
      "Pro-Seq (4217,)\n",
      "Pro-Kmer (4217, 4096, 1)\n",
      "pos data 2110\n",
      "neg data 2107\n"
     ]
    }
   ],
   "source": [
    "print '-'*50\n",
    "for item in PESeq.keys():\n",
    "    print item, np.shape(PESeq[item])\n",
    "print 'pos data' , sum(int( 1 ) if item ==1 else int(0) for item in PESeq['label'])\n",
    "print 'neg data',sum(int( 1) if item ==0 else int(0) for item in PESeq['label'])\n",
    "\n"
   ]
  },
  {
   "cell_type": "code",
   "execution_count": 11,
   "metadata": {
    "collapsed": false
   },
   "outputs": [
    {
     "name": "stdout",
     "output_type": "stream",
     "text": [
      "(4217, 4096, 2)\n",
      "(4217,)\n"
     ]
    }
   ],
   "source": [
    "# Get X,Y with   limite  making positive and negative samples 's numbers is the same\n",
    "X=[]\n",
    "Y=[]\n",
    "for index in range( len(PESeq['label'])):\n",
    "    Y.append(PESeq['label'][index])\n",
    "    X.append(np.append(PESeq['Pro-Kmer'][index],PESeq['Ehr-Kmer'][index],axis=1))\n",
    "print np.shape(X)\n",
    "print np.shape(Y)\n",
    "X = np.array(X)\n",
    "Y  = np.array(Y)\n",
    "\n",
    "\n",
    "index= range(len(PESeq['label']))"
   ]
  },
  {
   "cell_type": "code",
   "execution_count": 12,
   "metadata": {
    "collapsed": true
   },
   "outputs": [],
   "source": [
    "from keras.utils.np_utils import to_categorical"
   ]
  },
  {
   "cell_type": "code",
   "execution_count": 13,
   "metadata": {
    "collapsed": false
   },
   "outputs": [],
   "source": [
    "\n",
    "VALIDATION_SPLIT =0.2\n",
    "\n",
    "np.random.seed(1234)\n",
    "\n",
    "np.random.shuffle(index)\n",
    "nb_validation_samples = int(VALIDATION_SPLIT*len(Y))"
   ]
  },
  {
   "cell_type": "code",
   "execution_count": 14,
   "metadata": {
    "collapsed": false
   },
   "outputs": [],
   "source": [
    "\n",
    "x_train = X[index[: - nb_validation_samples]]\n",
    "y_train = Y[index[:-nb_validation_samples]]\n",
    "x_val = X[index[-nb_validation_samples:]]\n",
    "y_val =Y[index[-nb_validation_samples:]]\n",
    "\n"
   ]
  },
  {
   "cell_type": "code",
   "execution_count": 15,
   "metadata": {
    "collapsed": false,
    "scrolled": true
   },
   "outputs": [],
   "source": [
    "y_train = to_categorical(y_train) #one-hot 编码labels\n",
    "#y_val 其实没必要 one-hot编码\n",
    "y_val = to_categorical(np.asarray(y_val))"
   ]
  },
  {
   "cell_type": "code",
   "execution_count": 16,
   "metadata": {
    "collapsed": false
   },
   "outputs": [
    {
     "name": "stdout",
     "output_type": "stream",
     "text": [
      "x_train_shape: (3374, 4096, 2)\n",
      "y_train_shape: (3374, 2)\n"
     ]
    }
   ],
   "source": [
    "print 'x_train_shape:',np.shape(x_train)\n",
    "print 'y_train_shape:',np.shape(y_train)"
   ]
  },
  {
   "cell_type": "code",
   "execution_count": null,
   "metadata": {
    "collapsed": true
   },
   "outputs": [],
   "source": [
    "import hickle as hkl"
   ]
  },
  {
   "cell_type": "code",
   "execution_count": null,
   "metadata": {
    "collapsed": true
   },
   "outputs": [],
   "source": [
    "hkl.dump(x_val,'./Gen_data/13_x_val.hkl')\n",
    "hkl.dump(y_val,'./Gen_data/13_y_val.hkl')\n",
    "hkl.dump(x_train,'./Gen_data/13_x_train.hkl')\n",
    "hkl.dump(y_train,'./Gen_data/13_y_train.hkl')"
   ]
  },
  {
   "cell_type": "code",
   "execution_count": 1,
   "metadata": {
    "collapsed": false
   },
   "outputs": [],
   "source": [
    "import hickle as hkl\n",
    "x_val = hkl.load('./Gen_data/13_x_val.hkl')\n",
    "y_val = hkl.load('./Gen_data/13_y_val.hkl')\n",
    "x_train = hkl.load('./Gen_data/13_x_train.hkl')\n",
    "y_train = hkl.load('./Gen_data/13_y_train.hkl')"
   ]
  },
  {
   "cell_type": "markdown",
   "metadata": {},
   "source": [
    "# Make Network"
   ]
  },
  {
   "cell_type": "code",
   "execution_count": 2,
   "metadata": {
    "collapsed": false
   },
   "outputs": [
    {
     "name": "stderr",
     "output_type": "stream",
     "text": [
      "Using Theano backend.\n",
      "Using gpu device 0: GeForce GTX TITAN X (CNMeM is disabled, cuDNN 5105)\n"
     ]
    }
   ],
   "source": [
    "from keras.layers import Embedding\n",
    "from keras.layers import Dense,Input,Activation\n",
    "from keras.layers import Embedding, LSTM, Bidirectional,GRU,InputLayer\n",
    "from keras.models import Model,Sequential\n",
    "from  keras.regularizers import ActivityRegularizer\n",
    "from keras.layers.core import Dropout,Flatten"
   ]
  },
  {
   "cell_type": "code",
   "execution_count": 3,
   "metadata": {
    "collapsed": true
   },
   "outputs": [],
   "source": [
    "from keras import layers"
   ]
  },
  {
   "cell_type": "code",
   "execution_count": 4,
   "metadata": {
    "collapsed": true
   },
   "outputs": [],
   "source": [
    "kmer_input = Input(shape=(4096,2), dtype='float32')\n",
    "flat = Flatten()(kmer_input)"
   ]
  },
  {
   "cell_type": "code",
   "execution_count": 18,
   "metadata": {
    "collapsed": true
   },
   "outputs": [],
   "source": [
    "dense1 = Dense(256)(flat)"
   ]
  },
  {
   "cell_type": "code",
   "execution_count": 19,
   "metadata": {
    "collapsed": true
   },
   "outputs": [],
   "source": [
    "dense2 =Dense(32)(dense1)"
   ]
  },
  {
   "cell_type": "code",
   "execution_count": 20,
   "metadata": {
    "collapsed": true
   },
   "outputs": [],
   "source": [
    "preds = Dense(len( y_train[0]), activation='softmax',activity_regularizer= ActivityRegularizer(l2=0.005))(dense2)"
   ]
  },
  {
   "cell_type": "code",
   "execution_count": 21,
   "metadata": {
    "collapsed": true
   },
   "outputs": [],
   "source": [
    "model  = Model (kmer_input,preds)"
   ]
  },
  {
   "cell_type": "code",
   "execution_count": 22,
   "metadata": {
    "collapsed": false
   },
   "outputs": [
    {
     "name": "stdout",
     "output_type": "stream",
     "text": [
      "2\n"
     ]
    }
   ],
   "source": [
    "print len(y_train[0])"
   ]
  },
  {
   "cell_type": "code",
   "execution_count": 23,
   "metadata": {
    "collapsed": false,
    "scrolled": true
   },
   "outputs": [
    {
     "name": "stdout",
     "output_type": "stream",
     "text": [
      "model fitting - attention LSTM network\n",
      "____________________________________________________________________________________________________\n",
      "Layer (type)                     Output Shape          Param #     Connected to                     \n",
      "====================================================================================================\n",
      "input_2 (InputLayer)             (None, 4096, 2)       0                                            \n",
      "____________________________________________________________________________________________________\n",
      "flatten_2 (Flatten)              (None, 8192)          0           input_2[0][0]                    \n",
      "____________________________________________________________________________________________________\n",
      "dense_4 (Dense)                  (None, 256)           2097408     flatten_2[0][0]                  \n",
      "____________________________________________________________________________________________________\n",
      "dense_5 (Dense)                  (None, 32)            8224        dense_4[0][0]                    \n",
      "____________________________________________________________________________________________________\n",
      "dense_6 (Dense)                  (None, 2)             66          dense_5[0][0]                    \n",
      "====================================================================================================\n",
      "Total params: 2,105,698\n",
      "Trainable params: 2,105,698\n",
      "Non-trainable params: 0\n",
      "____________________________________________________________________________________________________\n"
     ]
    }
   ],
   "source": [
    "model.compile(loss='mse',\n",
    "              optimizer='rmsprop',\n",
    "              metrics=['acc'])\n",
    "\n",
    "print(\"model fitting - attention LSTM network\")\n",
    "model.summary()\n"
   ]
  },
  {
   "cell_type": "code",
   "execution_count": 24,
   "metadata": {
    "collapsed": false,
    "scrolled": false
   },
   "outputs": [
    {
     "name": "stdout",
     "output_type": "stream",
     "text": [
      "Train on 3376 samples, validate on 843 samples\n",
      "Epoch 1/50\n",
      "3376/3376 [==============================] - 0s - loss: 0.9871 - acc: 0.5018 - val_loss: 0.9979 - val_acc: 0.4875\n",
      "Epoch 2/50\n",
      "3376/3376 [==============================] - 0s - loss: 0.9940 - acc: 0.5033 - val_loss: 0.9979 - val_acc: 0.4875\n",
      "Epoch 3/50\n",
      "3376/3376 [==============================] - 0s - loss: 0.9940 - acc: 0.5033 - val_loss: 0.9979 - val_acc: 0.4875\n",
      "Epoch 4/50\n",
      "3376/3376 [==============================] - 0s - loss: 0.9940 - acc: 0.5033 - val_loss: 0.9979 - val_acc: 0.4875\n",
      "Epoch 5/50\n",
      "3376/3376 [==============================] - 0s - loss: 0.9940 - acc: 0.5033 - val_loss: 0.9979 - val_acc: 0.4875\n",
      "Epoch 6/50\n",
      "3376/3376 [==============================] - 0s - loss: 0.9940 - acc: 0.5033 - val_loss: 0.9979 - val_acc: 0.4875\n",
      "Epoch 7/50\n",
      "3376/3376 [==============================] - 0s - loss: 0.9935 - acc: 0.5021 - val_loss: 0.9730 - val_acc: 0.5125\n",
      "Epoch 8/50\n",
      "3376/3376 [==============================] - 0s - loss: 1.0006 - acc: 0.4967 - val_loss: 0.9730 - val_acc: 0.5125\n",
      "Epoch 9/50\n",
      "3376/3376 [==============================] - 0s - loss: 1.0006 - acc: 0.4967 - val_loss: 0.9730 - val_acc: 0.5125\n",
      "Epoch 10/50\n",
      "3376/3376 [==============================] - 0s - loss: 1.0006 - acc: 0.4964 - val_loss: 0.9730 - val_acc: 0.5125\n",
      "Epoch 11/50\n",
      "3376/3376 [==============================] - 0s - loss: 1.0006 - acc: 0.4967 - val_loss: 0.9730 - val_acc: 0.5125\n",
      "Epoch 12/50\n",
      "3376/3376 [==============================] - 0s - loss: 1.0006 - acc: 0.4967 - val_loss: 0.9730 - val_acc: 0.5125\n",
      "Epoch 13/50\n",
      "3376/3376 [==============================] - 0s - loss: 1.0009 - acc: 0.4964 - val_loss: 0.9730 - val_acc: 0.5125\n",
      "Epoch 14/50\n",
      "3376/3376 [==============================] - 0s - loss: 1.0006 - acc: 0.4967 - val_loss: 0.9730 - val_acc: 0.5125\n",
      "Epoch 15/50\n",
      "3376/3376 [==============================] - 0s - loss: 1.0003 - acc: 0.4970 - val_loss: 0.9730 - val_acc: 0.5125\n",
      "Epoch 16/50\n",
      "3376/3376 [==============================] - 0s - loss: 1.0029 - acc: 0.4944 - val_loss: 0.9978 - val_acc: 0.4875\n",
      "Epoch 17/50\n",
      "3376/3376 [==============================] - 0s - loss: 1.0008 - acc: 0.4956 - val_loss: 0.9979 - val_acc: 0.4875\n",
      "Epoch 18/50\n",
      "3376/3376 [==============================] - 0s - loss: 0.9937 - acc: 0.5036 - val_loss: 0.9979 - val_acc: 0.4875\n",
      "Epoch 19/50\n",
      "3376/3376 [==============================] - 0s - loss: 0.9940 - acc: 0.5033 - val_loss: 0.9994 - val_acc: 0.4852\n",
      "Epoch 20/50\n",
      "3376/3376 [==============================] - 0s - loss: 0.9926 - acc: 0.5039 - val_loss: 0.9979 - val_acc: 0.4875\n",
      "Epoch 21/50\n",
      "3376/3376 [==============================] - 0s - loss: 0.9936 - acc: 0.5036 - val_loss: 0.9989 - val_acc: 0.4864\n",
      "Epoch 22/50\n",
      "3376/3376 [==============================] - 0s - loss: 0.9868 - acc: 0.5068 - val_loss: 0.9986 - val_acc: 0.4864\n",
      "Epoch 23/50\n",
      "3376/3376 [==============================] - 0s - loss: 0.9928 - acc: 0.5044 - val_loss: 0.9979 - val_acc: 0.4875\n",
      "Epoch 24/50\n",
      "3376/3376 [==============================] - 0s - loss: 0.9931 - acc: 0.5039 - val_loss: 0.9991 - val_acc: 0.4852\n",
      "Epoch 25/50\n",
      "3376/3376 [==============================] - 0s - loss: 0.9953 - acc: 0.4997 - val_loss: 0.9783 - val_acc: 0.5042\n",
      "Epoch 26/50\n",
      "3376/3376 [==============================] - 0s - loss: 0.9962 - acc: 0.4985 - val_loss: 0.9991 - val_acc: 0.4864\n",
      "Epoch 27/50\n",
      "3376/3376 [==============================] - 0s - loss: 0.9934 - acc: 0.5039 - val_loss: 0.9991 - val_acc: 0.4864\n",
      "Epoch 28/50\n",
      "3376/3376 [==============================] - 0s - loss: 0.9867 - acc: 0.5089 - val_loss: 0.9730 - val_acc: 0.5125\n",
      "Epoch 29/50\n",
      "3376/3376 [==============================] - 0s - loss: 1.0001 - acc: 0.4970 - val_loss: 0.9730 - val_acc: 0.5125\n",
      "Epoch 30/50\n",
      "3376/3376 [==============================] - 0s - loss: 1.0006 - acc: 0.4967 - val_loss: 0.9730 - val_acc: 0.5125\n",
      "Epoch 31/50\n",
      "3376/3376 [==============================] - 0s - loss: 1.0006 - acc: 0.4967 - val_loss: 0.9730 - val_acc: 0.5125\n",
      "Epoch 32/50\n",
      "3376/3376 [==============================] - 0s - loss: 1.0006 - acc: 0.4967 - val_loss: 0.9730 - val_acc: 0.5125\n",
      "Epoch 33/50\n",
      "3376/3376 [==============================] - 0s - loss: 0.9990 - acc: 0.4979 - val_loss: 0.9747 - val_acc: 0.5089\n",
      "Epoch 34/50\n",
      "3376/3376 [==============================] - 0s - loss: 0.9982 - acc: 0.4979 - val_loss: 0.9730 - val_acc: 0.5125\n",
      "Epoch 35/50\n",
      "3376/3376 [==============================] - 0s - loss: 0.9978 - acc: 0.4991 - val_loss: 0.9730 - val_acc: 0.5125\n",
      "Epoch 36/50\n",
      "3376/3376 [==============================] - 0s - loss: 0.9815 - acc: 0.5139 - val_loss: 0.9966 - val_acc: 0.4887\n",
      "Epoch 37/50\n",
      "3376/3376 [==============================] - 0s - loss: 0.9819 - acc: 0.5142 - val_loss: 0.9728 - val_acc: 0.5113\n",
      "Epoch 38/50\n",
      "3376/3376 [==============================] - 0s - loss: 0.9898 - acc: 0.5053 - val_loss: 0.9675 - val_acc: 0.5172\n",
      "Epoch 39/50\n",
      "3376/3376 [==============================] - 0s - loss: 0.9896 - acc: 0.5056 - val_loss: 0.9922 - val_acc: 0.4923\n",
      "Epoch 40/50\n",
      "3376/3376 [==============================] - 0s - loss: 0.9944 - acc: 0.4976 - val_loss: 0.9704 - val_acc: 0.5148\n",
      "Epoch 41/50\n",
      "3376/3376 [==============================] - 0s - loss: 0.9914 - acc: 0.5041 - val_loss: 0.9743 - val_acc: 0.5101\n",
      "Epoch 42/50\n",
      "3376/3376 [==============================] - 0s - loss: 0.9846 - acc: 0.5118 - val_loss: 0.9694 - val_acc: 0.5148\n",
      "Epoch 43/50\n",
      "3376/3376 [==============================] - 0s - loss: 0.9847 - acc: 0.5121 - val_loss: 0.9695 - val_acc: 0.5125\n",
      "Epoch 44/50\n",
      "3376/3376 [==============================] - 0s - loss: 0.9934 - acc: 0.5024 - val_loss: 0.9948 - val_acc: 0.4899\n",
      "Epoch 45/50\n",
      "3376/3376 [==============================] - 0s - loss: 0.9929 - acc: 0.5021 - val_loss: 0.9932 - val_acc: 0.4911\n",
      "Epoch 46/50\n",
      "3376/3376 [==============================] - 0s - loss: 0.9869 - acc: 0.5092 - val_loss: 0.9933 - val_acc: 0.4911\n",
      "Epoch 47/50\n",
      "3376/3376 [==============================] - 0s - loss: 0.9884 - acc: 0.5083 - val_loss: 0.9951 - val_acc: 0.4899\n",
      "Epoch 48/50\n",
      "3376/3376 [==============================] - 0s - loss: 0.9893 - acc: 0.5077 - val_loss: 0.9977 - val_acc: 0.4875\n",
      "Epoch 49/50\n",
      "3376/3376 [==============================] - 0s - loss: 0.9901 - acc: 0.5071 - val_loss: 0.9955 - val_acc: 0.4887\n",
      "Epoch 50/50\n",
      "3376/3376 [==============================] - 0s - loss: 0.9902 - acc: 0.5071 - val_loss: 0.9956 - val_acc: 0.4887\n"
     ]
    },
    {
     "data": {
      "text/plain": [
       "<keras.callbacks.History at 0x7f7ddf138550>"
      ]
     },
     "execution_count": 24,
     "metadata": {},
     "output_type": "execute_result"
    }
   ],
   "source": [
    "model.fit(x_train, y_train, validation_data=(x_val, y_val), nb_epoch=50, batch_size=500)"
   ]
  },
  {
   "cell_type": "code",
   "execution_count": 27,
   "metadata": {
    "collapsed": false
   },
   "outputs": [],
   "source": [
    "pro = model.predict_on_batch(x_val)"
   ]
  },
  {
   "cell_type": "code",
   "execution_count": 28,
   "metadata": {
    "collapsed": false
   },
   "outputs": [],
   "source": [
    "y_pred = [  1 if item1>item0 else 0 for item0,item1 in pro]"
   ]
  },
  {
   "cell_type": "code",
   "execution_count": 29,
   "metadata": {
    "collapsed": true
   },
   "outputs": [],
   "source": [
    "from sklearn import metrics"
   ]
  },
  {
   "cell_type": "code",
   "execution_count": 31,
   "metadata": {
    "collapsed": false
   },
   "outputs": [
    {
     "name": "stdout",
     "output_type": "stream",
     "text": [
      "0.710557532622\n",
      "0.783443723529\n",
      "0.66391184573\n"
     ]
    }
   ],
   "source": [
    "acc = metrics.accuracy_score(y_val[:,1],y_pred)\n",
    "print acc\n",
    "\n",
    "auc = metrics.roc_auc_score(y_val[:,1],pro[:,1])\n",
    "print auc\n",
    "\n",
    "f1_score = metrics.f1_score(y_val[:,1],y_pred)\n",
    "print f1_score"
   ]
  },
  {
   "cell_type": "markdown",
   "metadata": {},
   "source": [
    "# Save&Search"
   ]
  },
  {
   "cell_type": "code",
   "execution_count": null,
   "metadata": {
    "collapsed": true
   },
   "outputs": [],
   "source": [
    "dir(model)"
   ]
  },
  {
   "cell_type": "code",
   "execution_count": null,
   "metadata": {
    "collapsed": true
   },
   "outputs": [],
   "source": [
    "model.__dict__"
   ]
  },
  {
   "cell_type": "code",
   "execution_count": null,
   "metadata": {
    "collapsed": true
   },
   "outputs": [],
   "source": []
  },
  {
   "cell_type": "code",
   "execution_count": null,
   "metadata": {
    "collapsed": true
   },
   "outputs": [],
   "source": [
    "model.save_weights('./Gen_data/10_Att-BLSTM.h5')"
   ]
  },
  {
   "cell_type": "code",
   "execution_count": null,
   "metadata": {
    "collapsed": true
   },
   "outputs": [],
   "source": [
    "model.load_weights('./Gen_data/10_Att-BLSTM.h5',by_name=True)"
   ]
  },
  {
   "cell_type": "code",
   "execution_count": null,
   "metadata": {
    "collapsed": true
   },
   "outputs": [],
   "source": []
  }
 ],
 "metadata": {
  "anaconda-cloud": {},
  "kernelspec": {
   "display_name": "Python [conda root]",
   "language": "python",
   "name": "conda-root-py"
  },
  "language_info": {
   "codemirror_mode": {
    "name": "ipython",
    "version": 2
   },
   "file_extension": ".py",
   "mimetype": "text/x-python",
   "name": "python",
   "nbconvert_exporter": "python",
   "pygments_lexer": "ipython2",
   "version": "2.7.12"
  }
 },
 "nbformat": 4,
 "nbformat_minor": 1
}
