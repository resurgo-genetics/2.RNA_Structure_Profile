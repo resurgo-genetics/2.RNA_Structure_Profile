{
 "cells": [
  {
   "cell_type": "code",
   "execution_count": 1,
   "metadata": {
    "collapsed": true
   },
   "outputs": [],
   "source": [
    "import hickle as hkl"
   ]
  },
  {
   "cell_type": "code",
   "execution_count": null,
   "metadata": {
    "collapsed": false
   },
   "outputs": [],
   "source": [
    "#这一个是负样本均衡过的\n",
    "import hickle as hkl\n",
    "x_val = hkl.load('./Gen_data/13_x_val.hkl')\n",
    "y_val = hkl.load('./Gen_data/13_y_val.hkl')\n",
    "x_train = hkl.load('./Gen_data/13_x_train.hkl')\n",
    "y_train = hkl.load('./Gen_data/13_y_train.hkl')"
   ]
  },
  {
   "cell_type": "markdown",
   "metadata": {},
   "source": [
    "# Make Network"
   ]
  },
  {
   "cell_type": "code",
   "execution_count": 3,
   "metadata": {
    "collapsed": false
   },
   "outputs": [
    {
     "name": "stderr",
     "output_type": "stream",
     "text": [
      "Using Theano backend.\n",
      "WARNING (theano.sandbox.cuda): CUDA is installed, but device gpu is not available  (error: Unable to get the number of gpus available: CUDA driver version is insufficient for CUDA runtime version)\n"
     ]
    }
   ],
   "source": [
    "import numpy as np\n",
    "import pandas as pd\n",
    "import sys\n",
    "import os\n",
    "\n",
    "os.environ['KERAS_BACKEND']='theano'\n",
    "from keras.engine.topology import Layer\n",
    "from keras import initializations\n",
    "from keras import backend as K\n",
    "\n",
    "from collections  import defaultdict\n",
    "import pandas as pd\n",
    "import numpy as np\n",
    "\n",
    "class AttLayer(Layer):\n",
    "    def __init__(self, **kwargs):\n",
    "        self.init = initializations.get('normal')\n",
    "        #self.input_spec = [InputSpec(ndim=3)]\n",
    "        super(AttLayer, self).__init__(**kwargs)\n",
    "\n",
    "    def build(self, input_shape):\n",
    "        assert len(input_shape)==3\n",
    "        #self.W = self.init((input_shape[-1],1))\n",
    "        self.W = self.init((input_shape[-1],))\n",
    "        #self.input_spec = [InputSpec(shape=input_shape)]\n",
    "        self.trainable_weights = [self.W]\n",
    "        super(AttLayer, self).build(input_shape)  # be sure you call this somewhere!\n",
    "\n",
    "    def call(self, x, mask=None):\n",
    "\n",
    "\n",
    "        M = K.tanh(x)\n",
    "        alpha = K.dot(M,self.W)#.dimshuffle(0,2,1)\n",
    "\n",
    "        ai = K.exp(alpha)\n",
    "        weights = ai/K.sum(ai, axis=1).dimshuffle(0,'x')\n",
    "        weighted_input = x*weights.dimshuffle(0,1,'x')\n",
    "        return K.tanh(weighted_input.sum(axis=1))\n",
    "        '''\n",
    "        eij = K.tanh(K.dot(x, self.W))\n",
    "\n",
    "        ai = K.exp(eij)\n",
    "        weights = ai/K.sum(ai, axis=1).dimshuffle(0,'x')\n",
    "\n",
    "        weighted_input = x*weights.dimshuffle(0,1,'x')\n",
    "        return weighted_input.sum(axis=1)\n",
    "        '''\n",
    "    def get_output_shape_for(self, input_shape):\n",
    "        return (input_shape[0], input_shape[-1])\n"
   ]
  },
  {
   "cell_type": "code",
   "execution_count": 4,
   "metadata": {
    "collapsed": false
   },
   "outputs": [],
   "source": [
    "from keras.layers import Embedding\n",
    "from keras.layers import Dense,Input,Activation\n",
    "from keras.layers import Embedding, LSTM, Bidirectional,GRU,InputLayer\n",
    "from keras.models import Model,Sequential\n",
    "from  keras.regularizers import ActivityRegularizer\n",
    "from keras.layers.core import Dropout,Flatten"
   ]
  },
  {
   "cell_type": "code",
   "execution_count": null,
   "metadata": {
    "collapsed": false
   },
   "outputs": [],
   "source": [
    "import keras\n",
    "keras.__version__"
   ]
  },
  {
   "cell_type": "code",
   "execution_count": 5,
   "metadata": {
    "collapsed": true
   },
   "outputs": [],
   "source": [
    "from keras import layers"
   ]
  },
  {
   "cell_type": "code",
   "execution_count": 15,
   "metadata": {
    "collapsed": false
   },
   "outputs": [
    {
     "ename": "ImportError",
     "evalue": "No module named merge",
     "output_type": "error",
     "traceback": [
      "\u001b[0;31m---------------------------------------------------------------------------\u001b[0m",
      "\u001b[0;31mImportError\u001b[0m                               Traceback (most recent call last)",
      "\u001b[0;32m<ipython-input-15-aa9730172e5f>\u001b[0m in \u001b[0;36m<module>\u001b[0;34m()\u001b[0m\n\u001b[0;32m----> 1\u001b[0;31m \u001b[0;32mfrom\u001b[0m \u001b[0mkeras\u001b[0m\u001b[0;34m.\u001b[0m\u001b[0mlayers\u001b[0m\u001b[0;34m.\u001b[0m\u001b[0mmerge\u001b[0m \u001b[0;32mimport\u001b[0m \u001b[0mconcatenate\u001b[0m\u001b[0;34m\u001b[0m\u001b[0m\n\u001b[0m",
      "\u001b[0;31mImportError\u001b[0m: No module named merge"
     ]
    }
   ],
   "source": [
    "from keras.layers.merge import oncatenate"
   ]
  },
  {
   "cell_type": "code",
   "execution_count": 6,
   "metadata": {
    "collapsed": true
   },
   "outputs": [],
   "source": [
    "kmer_input = Input(shape=(4096,2), dtype='float32')"
   ]
  },
  {
   "cell_type": "code",
   "execution_count": 7,
   "metadata": {
    "collapsed": true
   },
   "outputs": [],
   "source": [
    "l_lstm =Bidirectional(LSTM(5,return_sequences=True))(kmer_input)"
   ]
  },
  {
   "cell_type": "code",
   "execution_count": 8,
   "metadata": {
    "collapsed": false
   },
   "outputs": [],
   "source": [
    "l_lstm_drop = Dropout(0.3)(l_lstm)\n",
    "l_att = AttLayer()(l_lstm_drop)\n",
    "#l_flatten = Flatten()(l_att)\n",
    "l_att_drop = Dropout(0.5)(l_att)\n",
    "l_dense = Dense(128)(l_att_drop)\n",
    "l_dense_1 = Dense(32)(l_dense)\n",
    "preds = Dense(len( y_train[0]), activation='softmax',activity_regularizer= ActivityRegularizer(l2=0.005))(l_dense_1)\n",
    "model  = Model (kmer_input,preds)"
   ]
  },
  {
   "cell_type": "code",
   "execution_count": 9,
   "metadata": {
    "collapsed": false
   },
   "outputs": [
    {
     "name": "stdout",
     "output_type": "stream",
     "text": [
      "model fitting - attention LSTM network\n",
      "____________________________________________________________________________________________________\n",
      "Layer (type)                     Output Shape          Param #     Connected to                     \n",
      "====================================================================================================\n",
      "input_1 (InputLayer)             (None, 4096, 2)       0                                            \n",
      "____________________________________________________________________________________________________\n",
      "bidirectional_1 (Bidirectional)  (None, 4096, 10)      320         input_1[0][0]                    \n",
      "____________________________________________________________________________________________________\n",
      "dropout_1 (Dropout)              (None, 4096, 10)      0           bidirectional_1[0][0]            \n",
      "____________________________________________________________________________________________________\n",
      "attlayer_1 (AttLayer)            (None, 10)            10          dropout_1[0][0]                  \n",
      "____________________________________________________________________________________________________\n",
      "dropout_2 (Dropout)              (None, 10)            0           attlayer_1[0][0]                 \n",
      "____________________________________________________________________________________________________\n",
      "dense_1 (Dense)                  (None, 128)           1408        dropout_2[0][0]                  \n",
      "____________________________________________________________________________________________________\n",
      "dense_2 (Dense)                  (None, 32)            4128        dense_1[0][0]                    \n",
      "____________________________________________________________________________________________________\n",
      "dense_3 (Dense)                  (None, 2)             66          dense_2[0][0]                    \n",
      "====================================================================================================\n",
      "Total params: 5,932\n",
      "Trainable params: 5,932\n",
      "Non-trainable params: 0\n",
      "____________________________________________________________________________________________________\n"
     ]
    }
   ],
   "source": [
    "model.compile(loss='mse',\n",
    "              optimizer='rmsprop',\n",
    "              metrics=['acc'])\n",
    "\n",
    "print(\"model fitting - attention LSTM network\")\n",
    "model.summary()\n"
   ]
  },
  {
   "cell_type": "code",
   "execution_count": 10,
   "metadata": {
    "collapsed": false
   },
   "outputs": [
    {
     "name": "stderr",
     "output_type": "stream",
     "text": [
      "INFO (theano.gof.compilelock): Waiting for existing lock by process '7393' (I am process '11960')\n",
      "INFO (theano.gof.compilelock): To manually release the lock, delete /home/yinqijin/.theano/compiledir_Linux-3.10-el7.x86_64-x86_64-with-centos-7.2.1511-Core-x86_64-2.7.12-64/lock_dir\n",
      "INFO (theano.gof.compilelock): Waiting for existing lock by process '7393' (I am process '11960')\n",
      "INFO (theano.gof.compilelock): To manually release the lock, delete /home/yinqijin/.theano/compiledir_Linux-3.10-el7.x86_64-x86_64-with-centos-7.2.1511-Core-x86_64-2.7.12-64/lock_dir\n",
      "INFO (theano.gof.compilelock): Waiting for existing lock by process '7393' (I am process '11960')\n",
      "INFO (theano.gof.compilelock): To manually release the lock, delete /home/yinqijin/.theano/compiledir_Linux-3.10-el7.x86_64-x86_64-with-centos-7.2.1511-Core-x86_64-2.7.12-64/lock_dir\n",
      "INFO (theano.gof.compilelock): Waiting for existing lock by process '7393' (I am process '11960')\n",
      "INFO (theano.gof.compilelock): To manually release the lock, delete /home/yinqijin/.theano/compiledir_Linux-3.10-el7.x86_64-x86_64-with-centos-7.2.1511-Core-x86_64-2.7.12-64/lock_dir\n"
     ]
    },
    {
     "name": "stdout",
     "output_type": "stream",
     "text": [
      "Train on 3376 samples, validate on 844 samples\n",
      "Epoch 1/20\n",
      "3376/3376 [==============================] - 181s - loss: 0.5005 - acc: 0.5258 - val_loss: 0.4887 - val_acc: 0.6114\n",
      "Epoch 2/20\n",
      "3376/3376 [==============================] - 184s - loss: 0.4964 - acc: 0.5584 - val_loss: 0.4932 - val_acc: 0.5249\n",
      "Epoch 3/20\n",
      "3376/3376 [==============================] - 181s - loss: 0.4967 - acc: 0.5554 - val_loss: 0.4883 - val_acc: 0.5640\n",
      "Epoch 4/20\n",
      "3376/3376 [==============================] - 176s - loss: 0.4950 - acc: 0.5616 - val_loss: 0.4860 - val_acc: 0.6102\n",
      "Epoch 5/20\n",
      "3376/3376 [==============================] - 130s - loss: 0.4952 - acc: 0.5628 - val_loss: 0.4862 - val_acc: 0.5995\n",
      "Epoch 6/20\n",
      "3376/3376 [==============================] - 110s - loss: 0.4946 - acc: 0.5746 - val_loss: 0.4871 - val_acc: 0.5652\n",
      "Epoch 7/20\n",
      "3376/3376 [==============================] - 111s - loss: 0.4940 - acc: 0.5755 - val_loss: 0.4871 - val_acc: 0.5806\n",
      "Epoch 8/20\n",
      "3376/3376 [==============================] - 110s - loss: 0.4942 - acc: 0.5702 - val_loss: 0.4863 - val_acc: 0.6043\n",
      "Epoch 9/20\n",
      "3376/3376 [==============================] - 114s - loss: 0.4947 - acc: 0.5637 - val_loss: 0.4856 - val_acc: 0.6055\n",
      "Epoch 10/20\n",
      "3376/3376 [==============================] - 114s - loss: 0.4942 - acc: 0.5714 - val_loss: 0.4857 - val_acc: 0.5983\n",
      "Epoch 11/20\n",
      "3376/3376 [==============================] - 107s - loss: 0.4945 - acc: 0.5720 - val_loss: 0.4869 - val_acc: 0.6007\n",
      "Epoch 12/20\n",
      "3376/3376 [==============================] - 105s - loss: 0.4938 - acc: 0.5717 - val_loss: 0.4855 - val_acc: 0.5948\n",
      "Epoch 13/20\n",
      "3376/3376 [==============================] - 105s - loss: 0.4939 - acc: 0.5779 - val_loss: 0.4850 - val_acc: 0.6055\n",
      "Epoch 14/20\n",
      "3376/3376 [==============================] - 102s - loss: 0.4940 - acc: 0.5785 - val_loss: 0.4858 - val_acc: 0.5960\n",
      "Epoch 15/20\n",
      "3376/3376 [==============================] - 106s - loss: 0.4935 - acc: 0.5815 - val_loss: 0.4854 - val_acc: 0.5960\n",
      "Epoch 16/20\n",
      "3376/3376 [==============================] - 107s - loss: 0.4928 - acc: 0.5892 - val_loss: 0.4863 - val_acc: 0.5806\n",
      "Epoch 17/20\n",
      "3376/3376 [==============================] - 102s - loss: 0.4937 - acc: 0.5880 - val_loss: 0.4855 - val_acc: 0.6137\n",
      "Epoch 18/20\n",
      "3376/3376 [==============================] - 104s - loss: 0.4938 - acc: 0.5729 - val_loss: 0.4851 - val_acc: 0.6043\n",
      "Epoch 19/20\n",
      "3376/3376 [==============================] - 105s - loss: 0.4933 - acc: 0.5898 - val_loss: 0.4855 - val_acc: 0.5877\n",
      "Epoch 20/20\n",
      "3376/3376 [==============================] - 105s - loss: 0.4932 - acc: 0.5850 - val_loss: 0.4854 - val_acc: 0.5924\n"
     ]
    },
    {
     "data": {
      "text/plain": [
       "<keras.callbacks.History at 0x7f381a3082d0>"
      ]
     },
     "execution_count": 10,
     "metadata": {},
     "output_type": "execute_result"
    }
   ],
   "source": [
    "model.fit(x_train, y_train, validation_data=(x_val, y_val), nb_epoch=20, batch_size=100)"
   ]
  },
  {
   "cell_type": "code",
   "execution_count": null,
   "metadata": {
    "collapsed": true
   },
   "outputs": [],
   "source": [
    "model.fit(x_train, y_train, validation_data=(x_val, y_val), nb_epoch=70, batch_size=100)"
   ]
  },
  {
   "cell_type": "code",
   "execution_count": null,
   "metadata": {
    "collapsed": true
   },
   "outputs": [],
   "source": [
    "model.fit(x_train, y_train, validation_data=(x_val, y_val), nb_epoch=20, batch_size=100)"
   ]
  },
  {
   "cell_type": "code",
   "execution_count": null,
   "metadata": {
    "collapsed": true
   },
   "outputs": [],
   "source": [
    "model.fit(x_train, y_train, validation_data=(x_val, y_val), nb_epoch=20, batch_size=100)"
   ]
  },
  {
   "cell_type": "code",
   "execution_count": null,
   "metadata": {
    "collapsed": true
   },
   "outputs": [],
   "source": [
    "model.fit(x_train, y_train, validation_data=(x_val, y_val), nb_epoch=50, batch_size=100)"
   ]
  },
  {
   "cell_type": "code",
   "execution_count": null,
   "metadata": {
    "collapsed": true
   },
   "outputs": [],
   "source": [
    "model.fit(x_train, y_train, validation_data=(x_val, y_val), nb_epoch=50, batch_size=100)"
   ]
  },
  {
   "cell_type": "code",
   "execution_count": null,
   "metadata": {
    "collapsed": false
   },
   "outputs": [],
   "source": [
    "pro = model.predict_on_batch(x_val)"
   ]
  },
  {
   "cell_type": "code",
   "execution_count": null,
   "metadata": {
    "collapsed": false
   },
   "outputs": [],
   "source": [
    "print pro"
   ]
  },
  {
   "cell_type": "markdown",
   "metadata": {},
   "source": [
    "# Save&Search"
   ]
  },
  {
   "cell_type": "code",
   "execution_count": null,
   "metadata": {
    "collapsed": true
   },
   "outputs": [],
   "source": [
    "dir(model)"
   ]
  },
  {
   "cell_type": "code",
   "execution_count": null,
   "metadata": {
    "collapsed": true
   },
   "outputs": [],
   "source": [
    "model.__dict__"
   ]
  },
  {
   "cell_type": "code",
   "execution_count": null,
   "metadata": {
    "collapsed": true
   },
   "outputs": [],
   "source": []
  },
  {
   "cell_type": "code",
   "execution_count": null,
   "metadata": {
    "collapsed": true
   },
   "outputs": [],
   "source": [
    "model.save_weights('./Gen_data/10_Att-BLSTM.h5')"
   ]
  },
  {
   "cell_type": "code",
   "execution_count": null,
   "metadata": {
    "collapsed": true
   },
   "outputs": [],
   "source": [
    "model.load_weights('./Gen_data/10_Att-BLSTM.h5',by_name=True)"
   ]
  },
  {
   "cell_type": "code",
   "execution_count": null,
   "metadata": {
    "collapsed": true
   },
   "outputs": [],
   "source": []
  }
 ],
 "metadata": {
  "anaconda-cloud": {},
  "kernelspec": {
   "display_name": "Python [conda root]",
   "language": "python",
   "name": "conda-root-py"
  },
  "language_info": {
   "codemirror_mode": {
    "name": "ipython",
    "version": 2
   },
   "file_extension": ".py",
   "mimetype": "text/x-python",
   "name": "python",
   "nbconvert_exporter": "python",
   "pygments_lexer": "ipython2",
   "version": "2.7.12"
  }
 },
 "nbformat": 4,
 "nbformat_minor": 1
}
