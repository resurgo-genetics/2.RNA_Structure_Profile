{
 "cells": [
  {
   "cell_type": "markdown",
   "metadata": {},
   "source": [
    "# Import Data"
   ]
  },
  {
   "cell_type": "code",
   "execution_count": 4,
   "metadata": {
    "collapsed": true
   },
   "outputs": [],
   "source": [
    "import hickle  as hkl"
   ]
  },
  {
   "cell_type": "code",
   "execution_count": 5,
   "metadata": {
    "collapsed": false
   },
   "outputs": [],
   "source": [
    "data2 =hkl.load('./Gen_data/CROSS_Net_input.hkl')"
   ]
  },
  {
   "cell_type": "code",
   "execution_count": 9,
   "metadata": {
    "collapsed": true
   },
   "outputs": [],
   "source": [
    "seq_len  = 13   # the length  of  every  sequence"
   ]
  },
  {
   "cell_type": "markdown",
   "metadata": {},
   "source": [
    "# Prepare Data"
   ]
  },
  {
   "cell_type": "code",
   "execution_count": 10,
   "metadata": {
    "collapsed": true
   },
   "outputs": [],
   "source": [
    "import numpy as np"
   ]
  },
  {
   "cell_type": "code",
   "execution_count": 129,
   "metadata": {
    "collapsed": false
   },
   "outputs": [],
   "source": [
    "X = data2['seq']\n",
    "Y = data2['score']\n",
    "\n",
    "Y_ = [ item[(len(item)-1)/2] for item in Y]\n",
    "Y_ = np.array(Y_)\n",
    "\n",
    "X_ = []\n",
    "for item in X:\n",
    "    X_.append([singlebite for singlebite in item])\n",
    "\n",
    "\n"
   ]
  },
  {
   "cell_type": "code",
   "execution_count": 130,
   "metadata": {
    "collapsed": false
   },
   "outputs": [
    {
     "name": "stdout",
     "output_type": "stream",
     "text": [
      "[[ 3.5  3.5  3.5  1.1  3.5  5.6  5.6  5.6  1.1  3.5  1.1  1.1  3.5]\n",
      " [ 3.5  3.5  1.1  3.5  5.6  5.6  5.6  1.1  3.5  1.1  1.1  3.5  3.5]\n",
      " [ 3.5  1.1  3.5  5.6  5.6  5.6  1.1  3.5  1.1  1.1  3.5  3.5  5.6]]\n",
      "(1, 1111101, 13)\n",
      "(1111101, 13, 1)\n",
      "[[[ 3.5]\n",
      "  [ 3.5]\n",
      "  [ 3.5]\n",
      "  [ 1.1]\n",
      "  [ 3.5]\n",
      "  [ 5.6]\n",
      "  [ 5.6]\n",
      "  [ 5.6]\n",
      "  [ 1.1]\n",
      "  [ 3.5]\n",
      "  [ 1.1]\n",
      "  [ 1.1]\n",
      "  [ 3.5]]\n",
      "\n",
      " [[ 3.5]\n",
      "  [ 3.5]\n",
      "  [ 1.1]\n",
      "  [ 3.5]\n",
      "  [ 5.6]\n",
      "  [ 5.6]\n",
      "  [ 5.6]\n",
      "  [ 1.1]\n",
      "  [ 3.5]\n",
      "  [ 1.1]\n",
      "  [ 1.1]\n",
      "  [ 3.5]\n",
      "  [ 3.5]]\n",
      "\n",
      " [[ 3.5]\n",
      "  [ 1.1]\n",
      "  [ 3.5]\n",
      "  [ 5.6]\n",
      "  [ 5.6]\n",
      "  [ 5.6]\n",
      "  [ 1.1]\n",
      "  [ 3.5]\n",
      "  [ 1.1]\n",
      "  [ 1.1]\n",
      "  [ 3.5]\n",
      "  [ 3.5]\n",
      "  [ 5.6]]]\n"
     ]
    }
   ],
   "source": [
    "import pandas  as pd\n",
    "#j将碱基序列转化为数字序列\n",
    "#d = {'a':1, 'A':1, 'g':2, 'G':2, 'c':3, 'C':3, 't':4, 'T':4, 'N':5, 'n':5}\n",
    "d = {'a':1.1, 'A':1.1, 'g':3.5, 'G':3.5, 'c':5.6, 'C':5.6, 't':7.9, 'T':7.9, 'N':11, 'n':11}\n",
    "func = lambda x:d[x]\n",
    "\n",
    "X_pd = pd.DataFrame(X_ )\n",
    "\n",
    "X_=X_pd.applymap(func)\n",
    "\n",
    "X_=X_.values[:,:]\n",
    "type(X_)\n",
    "\n",
    "\n",
    "print X_[:3,:]\n",
    "X_=X_[np.newaxis]\n",
    "print np.shape(X_)\n",
    "\n",
    "X_=X_.transpose([1,2,0])\n",
    "print np.shape(X_)\n",
    "print X_[:3,:,:]\n",
    "\n",
    "\n"
   ]
  },
  {
   "cell_type": "markdown",
   "metadata": {},
   "source": [
    "#内存过大 只取一部分\n",
    "X_ = X_[:60000,:,:]\n",
    "Y_ = Y_[:60000]"
   ]
  },
  {
   "cell_type": "code",
   "execution_count": 121,
   "metadata": {
    "collapsed": true
   },
   "outputs": [],
   "source": [
    "from sklearn.cross_validation import ShuffleSplit\n",
    "rs = ShuffleSplit(len(Y_), n_iter=1)"
   ]
  },
  {
   "cell_type": "code",
   "execution_count": 131,
   "metadata": {
    "collapsed": true
   },
   "outputs": [],
   "source": [
    "for train_idx, test_idx in rs:\n",
    "    X_train = X_[train_idx,:]\n",
    "    y_train = Y_[train_idx]\n",
    "    X_test = X_[test_idx,:]\n",
    "    y_test = Y_[test_idx]"
   ]
  },
  {
   "cell_type": "code",
   "execution_count": 132,
   "metadata": {
    "collapsed": false
   },
   "outputs": [
    {
     "name": "stdout",
     "output_type": "stream",
     "text": [
      "[[[ 7.9000001 ]\n",
      "  [ 3.5       ]\n",
      "  [ 3.5       ]\n",
      "  [ 1.10000002]\n",
      "  [ 3.5       ]\n",
      "  [ 3.5       ]\n",
      "  [ 1.10000002]\n",
      "  [ 3.5       ]\n",
      "  [ 1.10000002]\n",
      "  [ 5.5999999 ]\n",
      "  [ 7.9000001 ]\n",
      "  [ 3.5       ]\n",
      "  [ 3.5       ]]\n",
      "\n",
      " [[ 7.9000001 ]\n",
      "  [ 5.5999999 ]\n",
      "  [ 5.5999999 ]\n",
      "  [ 5.5999999 ]\n",
      "  [ 5.5999999 ]\n",
      "  [ 7.9000001 ]\n",
      "  [ 1.10000002]\n",
      "  [ 3.5       ]\n",
      "  [ 5.5999999 ]\n",
      "  [ 5.5999999 ]\n",
      "  [ 3.5       ]\n",
      "  [ 7.9000001 ]\n",
      "  [ 3.5       ]]]\n",
      "[ 0.005 -0.083]\n"
     ]
    }
   ],
   "source": [
    "X_train = X_train.astype('float32')\n",
    "y_train = y_train.astype('float32')\n",
    "X_test = X_test.astype('float32')\n",
    "y_test = y_test.astype('float32')\n",
    "print X_train[:2]\n",
    "print y_train[:2]"
   ]
  },
  {
   "cell_type": "markdown",
   "metadata": {},
   "source": [
    "# Generate LSTM Network"
   ]
  },
  {
   "cell_type": "code",
   "execution_count": 98,
   "metadata": {
    "collapsed": false
   },
   "outputs": [],
   "source": [
    "import theano\n",
    "import theano.tensor as T\n",
    "import lasagne"
   ]
  },
  {
   "cell_type": "code",
   "execution_count": 124,
   "metadata": {
    "collapsed": false
   },
   "outputs": [],
   "source": [
    "\n",
    "l_in = lasagne.layers.InputLayer(shape=(None, seq_len, 1)) # raw_seq编码\n",
    "\n",
    "\n",
    "# Gates of the LSTM\n",
    "# All gates have initializers for the input-to-gate and hidden state-to-gate\n",
    "# weight matrices, the cell-to-gate weight vector, the bias vector, and the nonlinearity.\n",
    "# The convention is that gates use the standard sigmoid nonlinearity,\n",
    "# which is the default for the Gate class.\n",
    "gate_parameters = lasagne.layers.recurrent.Gate(\n",
    "    W_in=lasagne.init.Orthogonal(), W_hid=lasagne.init.Orthogonal(),\n",
    "    b=lasagne.init.Constant(0.))\n",
    "\n",
    "cell_parameters = lasagne.layers.recurrent.Gate(\n",
    "    W_in=lasagne.init.Orthogonal(), W_hid=lasagne.init.Orthogonal(),\n",
    "    # Setting W_cell to None denotes that no cell connection will be used.\n",
    "    W_cell=None, b=lasagne.init.Constant(0.),\n",
    "    # By convention, the cell nonlinearity is tanh in an LSTM.\n",
    "    nonlinearity=lasagne.nonlinearities.tanh)\n",
    "\n",
    "\n",
    "\n",
    "# Our LSTM will have 10 hidden/cell units\n",
    "N_HIDDEN = 20\n",
    "l_lstm = lasagne.layers.recurrent.LSTMLayer(\n",
    "    l_in, N_HIDDEN,\n",
    "    # We need to specify a separate input for masks\n",
    "    mask_input=None,\n",
    "    # Here, we supply the gate parameters for each gate\n",
    "    ingate=gate_parameters, forgetgate=gate_parameters,\n",
    "    cell=cell_parameters, outgate=gate_parameters,\n",
    "    # We'll learn the initialization and use gradient clipping\n",
    "    learn_init=True, grad_clipping=100.)\n",
    "\n",
    "\n",
    "\n",
    "\n",
    "# The \"backwards\" layer is the same as the first,\n",
    "# except that the backwards argument is set to True.\n",
    "l_lstm_back = lasagne.layers.recurrent.LSTMLayer(\n",
    "    l_in, N_HIDDEN, ingate=gate_parameters,\n",
    "    mask_input=None, forgetgate=gate_parameters,\n",
    "    cell=cell_parameters, outgate=gate_parameters,\n",
    "    learn_init=True, grad_clipping=100., backwards=True)\n",
    "# We'll combine the forward and backward layer output by summing.\n",
    "# Merge layers take in lists of layers to merge as input.\n",
    "l_sum = lasagne.layers.ElemwiseSumLayer([l_lstm, l_lstm_back])\n",
    "\n",
    "\n",
    "\n",
    "# First, retrieve symbolic variables for the input shape\n",
    "n_batch, n_time_steps, n_features = l_in.input_var.shape\n",
    "# Now, squash the n_batch and n_time_steps dimensions\n",
    "l_reshape = lasagne.layers.ReshapeLayer(l_sum, (-1, N_HIDDEN))\n",
    "# Now, we can apply feed-forward layers as usual.\n",
    "# We want the network to predict a single value, the sum, so we'll use a single unit.\n",
    "l_dense0 = lasagne.layers.DenseLayer(\n",
    "    l_reshape, num_units=5, nonlinearity=lasagne.nonlinearities.tanh)\n",
    "l_dense = lasagne.layers.DenseLayer(\n",
    "    l_reshape, num_units=1, nonlinearity=lasagne.nonlinearities.tanh)\n",
    "# Now, the shape will be n_batch*n_timesteps, 1.  We can then reshape to\n",
    "# n_batch, n_timesteps to get a single value for each timstep from each sequence\n",
    "l_out = lasagne.layers.ReshapeLayer(l_dense, (n_batch, n_time_steps))"
   ]
  },
  {
   "cell_type": "code",
   "execution_count": 125,
   "metadata": {
    "collapsed": false
   },
   "outputs": [],
   "source": [
    "# Symbolic variable for the target network output.\n",
    "# It will be of shape n_batch, because there's only 1 target value per sequence.\n",
    "target_values = T.vector('target_output')\n",
    "\n",
    "# lasagne.layers.get_output produces an expression for the output of the net\n",
    "network_output = lasagne.layers.get_output(l_out)\n",
    "# The value we care about is the final value produced for each sequence\n",
    "# so we simply slice it out.\n",
    "predicted_values = network_output[:, -1]\n",
    "# Our cost will be mean-squared error\n",
    "cost = T.mean((predicted_values - target_values)**2)\n",
    "# Retrieve all parameters from the network\n",
    "all_params = lasagne.layers.get_all_params(l_out)\n",
    "# Compute adam updates for training\n",
    "updates = lasagne.updates.adam(cost, all_params)\n",
    "# Theano functions for training and computing cost\n",
    "train = theano.function(\n",
    "    [l_in.input_var, target_values ],\n",
    "    cost, updates=updates)\n",
    "compute_cost = theano.function(\n",
    "    [l_in.input_var, target_values], cost)\n",
    "\n"
   ]
  },
  {
   "cell_type": "code",
   "execution_count": 126,
   "metadata": {
    "collapsed": false
   },
   "outputs": [],
   "source": [
    "import random\n",
    "mylist =range(len(y_train))\n"
   ]
  },
  {
   "cell_type": "code",
   "execution_count": 135,
   "metadata": {
    "collapsed": false
   },
   "outputs": [
    {
     "name": "stdout",
     "output_type": "stream",
     "text": [
      "Epoch 1 validation cost = 0.399080097675\n",
      "Epoch 2 validation cost = 0.398968487978\n"
     ]
    },
    {
     "ename": "KeyboardInterrupt",
     "evalue": "",
     "output_type": "error",
     "traceback": [
      "\u001b[0;31m---------------------------------------------------------------------------\u001b[0m",
      "\u001b[0;31mKeyboardInterrupt\u001b[0m                         Traceback (most recent call last)",
      "\u001b[0;32m<ipython-input-135-552ca831fb2b>\u001b[0m in \u001b[0;36m<module>\u001b[0;34m()\u001b[0m\n\u001b[1;32m     10\u001b[0m         \u001b[0mx_banch\u001b[0m \u001b[0;34m=\u001b[0m \u001b[0mX_train\u001b[0m\u001b[0;34m[\u001b[0m\u001b[0mmylist\u001b[0m\u001b[0;34m[\u001b[0m\u001b[0;34m:\u001b[0m\u001b[0msample_Num\u001b[0m\u001b[0;34m]\u001b[0m\u001b[0;34m,\u001b[0m\u001b[0;34m:\u001b[0m\u001b[0;34m,\u001b[0m\u001b[0;34m:\u001b[0m\u001b[0;34m]\u001b[0m\u001b[0;34m\u001b[0m\u001b[0m\n\u001b[1;32m     11\u001b[0m         \u001b[0my_banch\u001b[0m \u001b[0;34m=\u001b[0m \u001b[0my_train\u001b[0m\u001b[0;34m[\u001b[0m\u001b[0mmylist\u001b[0m\u001b[0;34m[\u001b[0m\u001b[0;34m:\u001b[0m\u001b[0msample_Num\u001b[0m\u001b[0;34m]\u001b[0m\u001b[0;34m]\u001b[0m\u001b[0;34m\u001b[0m\u001b[0m\n\u001b[0;32m---> 12\u001b[0;31m         \u001b[0mtrain\u001b[0m\u001b[0;34m(\u001b[0m\u001b[0mx_banch\u001b[0m\u001b[0;34m,\u001b[0m\u001b[0my_banch\u001b[0m\u001b[0;34m)\u001b[0m\u001b[0;34m\u001b[0m\u001b[0m\n\u001b[0m\u001b[1;32m     13\u001b[0m     \u001b[0mcost_val\u001b[0m \u001b[0;34m=\u001b[0m \u001b[0mcompute_cost\u001b[0m\u001b[0;34m(\u001b[0m\u001b[0mX_test\u001b[0m\u001b[0;34m,\u001b[0m \u001b[0my_test\u001b[0m\u001b[0;34m)\u001b[0m\u001b[0;34m\u001b[0m\u001b[0m\n\u001b[1;32m     14\u001b[0m     \u001b[0;32mprint\u001b[0m\u001b[0;34m(\u001b[0m\u001b[0;34m\"Epoch {} validation cost = {}\"\u001b[0m\u001b[0;34m.\u001b[0m\u001b[0mformat\u001b[0m\u001b[0;34m(\u001b[0m\u001b[0mepoch\u001b[0m \u001b[0;34m+\u001b[0m \u001b[0;36m1\u001b[0m\u001b[0;34m,\u001b[0m \u001b[0mcost_val\u001b[0m\u001b[0;34m)\u001b[0m\u001b[0;34m)\u001b[0m\u001b[0;34m\u001b[0m\u001b[0m\n",
      "\u001b[0;32m/home/yinqijin/Theano/theano/compile/function_module.pyc\u001b[0m in \u001b[0;36m__call__\u001b[0;34m(self, *args, **kwargs)\u001b[0m\n\u001b[1;32m    871\u001b[0m         \u001b[0;32mtry\u001b[0m\u001b[0;34m:\u001b[0m\u001b[0;34m\u001b[0m\u001b[0m\n\u001b[1;32m    872\u001b[0m             \u001b[0moutputs\u001b[0m \u001b[0;34m=\u001b[0m\u001b[0;31m\\\u001b[0m\u001b[0;34m\u001b[0m\u001b[0m\n\u001b[0;32m--> 873\u001b[0;31m                 \u001b[0mself\u001b[0m\u001b[0;34m.\u001b[0m\u001b[0mfn\u001b[0m\u001b[0;34m(\u001b[0m\u001b[0;34m)\u001b[0m \u001b[0;32mif\u001b[0m \u001b[0moutput_subset\u001b[0m \u001b[0;32mis\u001b[0m \u001b[0mNone\u001b[0m \u001b[0;32melse\u001b[0m\u001b[0;31m\\\u001b[0m\u001b[0;34m\u001b[0m\u001b[0m\n\u001b[0m\u001b[1;32m    874\u001b[0m                 \u001b[0mself\u001b[0m\u001b[0;34m.\u001b[0m\u001b[0mfn\u001b[0m\u001b[0;34m(\u001b[0m\u001b[0moutput_subset\u001b[0m\u001b[0;34m=\u001b[0m\u001b[0moutput_subset\u001b[0m\u001b[0;34m)\u001b[0m\u001b[0;34m\u001b[0m\u001b[0m\n\u001b[1;32m    875\u001b[0m         \u001b[0;32mexcept\u001b[0m \u001b[0mException\u001b[0m\u001b[0;34m:\u001b[0m\u001b[0;34m\u001b[0m\u001b[0m\n",
      "\u001b[0;31mKeyboardInterrupt\u001b[0m: "
     ]
    }
   ],
   "source": [
    "# We'll train the network with 10 epochs of 100 minibatches each\n",
    "NUM_EPOCHS = 200\n",
    "EPOCH_SIZE = 500\n",
    "sample_Num = 60000\n",
    "valid = []\n",
    "for epoch in range(NUM_EPOCHS): \n",
    "    for _ in range(EPOCH_SIZE):      \n",
    "        random.shuffle(mylist)\n",
    "        #内存不够，一次不能全部读入所有样本，因此，每次抽取定量样本来训练\n",
    "        x_banch = X_train[mylist[:sample_Num],:,:]\n",
    "        y_banch = y_train[mylist[:sample_Num]]\n",
    "        train(x_banch,y_banch)\n",
    "    cost_val = compute_cost(X_test, y_test)\n",
    "    print(\"Epoch {} validation cost = {}\".format(epoch + 1, cost_val))\n",
    "    valid.append(cost_val)\n",
    "    if len(valid)>=2:\n",
    "        if valid[-1]> valid[-2]:\n",
    "            break "
   ]
  },
  {
   "cell_type": "markdown",
   "metadata": {},
   "source": [
    "# Test The behave"
   ]
  },
  {
   "cell_type": "code",
   "execution_count": 143,
   "metadata": {
    "collapsed": true
   },
   "outputs": [],
   "source": [
    "mylist2 =range(len(y_test))\n",
    "random.shuffle(mylist2)\n",
    "x_val = X_test[  mylist2[:10] ,:,:]\n",
    "y_val = y_test[   mylist2[:10] ]"
   ]
  },
  {
   "cell_type": "code",
   "execution_count": 144,
   "metadata": {
    "collapsed": true
   },
   "outputs": [],
   "source": [
    "predict = theano.function( [l_in.input_var],predicted_values)"
   ]
  },
  {
   "cell_type": "code",
   "execution_count": 145,
   "metadata": {
    "collapsed": false
   },
   "outputs": [
    {
     "name": "stdout",
     "output_type": "stream",
     "text": [
      "-0.062764 \t\t-0.499\n",
      "0.00804754 \t\t-0.342\n",
      "-0.0146211 \t\t0.289\n",
      "-0.0187979 \t\t0.0\n",
      "-0.0509063 \t\t-0.317\n",
      "-0.0699436 \t\t0.493\n",
      "0.182129 \t\t0.996\n",
      "-0.0716128 \t\t0.0\n",
      "0.162512 \t\t0.0\n",
      "-0.00345401 \t\t0.054\n"
     ]
    }
   ],
   "source": [
    "y_pre = predict(x_val)\n",
    "for item in range(len(y_val)):\n",
    "    print y_pre[item],'\\t\\t',y_val[item]"
   ]
  },
  {
   "cell_type": "code",
   "execution_count": 146,
   "metadata": {
    "collapsed": true
   },
   "outputs": [],
   "source": [
    "import matplotlib.pyplot as plt\n",
    "%matplotlib inline"
   ]
  },
  {
   "cell_type": "code",
   "execution_count": 147,
   "metadata": {
    "collapsed": false
   },
   "outputs": [
    {
     "data": {
      "text/plain": [
       "<matplotlib.collections.PathCollection at 0x7f5cfcc484d0>"
      ]
     },
     "execution_count": 147,
     "metadata": {},
     "output_type": "execute_result"
    },
    {
     "data": {
      "image/png": "[encoded data removed]",
      "text/plain": [
       "<matplotlib.figure.Figure at 0x7f5cfcb3b210>"
      ]
     },
     "metadata": {},
     "output_type": "display_data"
    }
   ],
   "source": [
    "y_pred = predict(X_test)\n",
    "plt.scatter(y_test,y_pred,0.1)"
   ]
  },
  {
   "cell_type": "code",
   "execution_count": 148,
   "metadata": {
    "collapsed": true
   },
   "outputs": [],
   "source": [
    "from scipy import stats"
   ]
  },
  {
   "cell_type": "code",
   "execution_count": 149,
   "metadata": {
    "collapsed": false
   },
   "outputs": [
    {
     "name": "stdout",
     "output_type": "stream",
     "text": [
      "0.110682219405\n"
     ]
    }
   ],
   "source": [
    "slope, intercept, r_value, p_value, std_err = stats.linregress(y_test,y_pred)\n",
    "print r_value"
   ]
  },
  {
   "cell_type": "markdown",
   "metadata": {},
   "source": [
    "# Save Network Parmas"
   ]
  },
  {
   "cell_type": "code",
   "execution_count": 92,
   "metadata": {
    "collapsed": false
   },
   "outputs": [
    {
     "ename": "AttributeError",
     "evalue": "'DenseLayer' object has no attribute 'get_all_params_values'",
     "output_type": "error",
     "traceback": [
      "\u001b[0;31m---------------------------------------------------------------------------\u001b[0m",
      "\u001b[0;31mAttributeError\u001b[0m                            Traceback (most recent call last)",
      "\u001b[0;32m<ipython-input-92-dfc60149114e>\u001b[0m in \u001b[0;36m<module>\u001b[0;34m()\u001b[0m\n\u001b[1;32m      1\u001b[0m \u001b[0;32mimport\u001b[0m \u001b[0mpickle\u001b[0m\u001b[0;34m\u001b[0m\u001b[0m\n\u001b[1;32m      2\u001b[0m \u001b[0msource\u001b[0m \u001b[0;34m=\u001b[0m \u001b[0;34m'./Gen_Data/05_LSTM_Parms.hkl'\u001b[0m\u001b[0;34m\u001b[0m\u001b[0m\n\u001b[0;32m----> 3\u001b[0;31m \u001b[0mparams\u001b[0m \u001b[0;34m=\u001b[0m  \u001b[0ml_dense\u001b[0m\u001b[0;34m.\u001b[0m\u001b[0mget_all_params_values\u001b[0m\u001b[0;34m(\u001b[0m\u001b[0;34m)\u001b[0m\u001b[0;34m\u001b[0m\u001b[0m\n\u001b[0m\u001b[1;32m      4\u001b[0m \u001b[0;32mwith\u001b[0m \u001b[0mopen\u001b[0m\u001b[0;34m(\u001b[0m\u001b[0msource\u001b[0m\u001b[0;34m,\u001b[0m\u001b[0;34m'wb'\u001b[0m\u001b[0;34m)\u001b[0m \u001b[0;32mas\u001b[0m \u001b[0mf\u001b[0m\u001b[0;34m:\u001b[0m\u001b[0;34m\u001b[0m\u001b[0m\n\u001b[1;32m      5\u001b[0m     \u001b[0mpickle\u001b[0m\u001b[0;34m.\u001b[0m\u001b[0mdump\u001b[0m\u001b[0;34m(\u001b[0m\u001b[0mparams\u001b[0m\u001b[0;34m,\u001b[0m\u001b[0mf\u001b[0m\u001b[0;34m,\u001b[0m\u001b[0;34m-\u001b[0m\u001b[0;36m1\u001b[0m\u001b[0;34m)\u001b[0m\u001b[0;34m\u001b[0m\u001b[0m\n",
      "\u001b[0;31mAttributeError\u001b[0m: 'DenseLayer' object has no attribute 'get_all_params_values'"
     ]
    }
   ],
   "source": [
    "import pickle\n",
    "source = './Gen_Data/05_LSTM_Parms.hkl'\n",
    "params =  l_dense.get_all_params_values()\n",
    "with open(source,'wb') as f:\n",
    "    pickle.dump(params,f,-1)"
   ]
  },
  {
   "cell_type": "markdown",
   "metadata": {},
   "source": [
    "# Load Network Params"
   ]
  },
  {
   "cell_type": "code",
   "execution_count": null,
   "metadata": {
    "collapsed": true
   },
   "outputs": [],
   "source": [
    "import pickle\n",
    "source = './Gen_Data/05_LSTM_Parms.hkl'\n",
    "with open(source,'rb') as f:\n",
    "    params = pickle.load(f)\n",
    "    l_out.set_all_paralasagnelues(params)"
   ]
  }
 ],
 "metadata": {
  "anaconda-cloud": {},
  "kernelspec": {
   "display_name": "Python [conda root]",
   "language": "python",
   "name": "conda-root-py"
  },
  "language_info": {
   "codemirror_mode": {
    "name": "ipython",
    "version": 2
   },
   "file_extension": ".py",
   "mimetype": "text/x-python",
   "name": "python",
   "nbconvert_exporter": "python",
   "pygments_lexer": "ipython2",
   "version": "2.7.12"
  }
 },
 "nbformat": 4,
 "nbformat_minor": 1
}
