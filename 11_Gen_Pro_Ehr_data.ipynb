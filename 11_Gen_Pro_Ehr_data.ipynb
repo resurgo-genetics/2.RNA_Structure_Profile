{
 "cells": [
  {
   "cell_type": "markdown",
   "metadata": {},
   "source": [
    "# Gen dataSet  \n",
    "conclude:  \n",
    "1. Promoter/Enhancer 's Sequence index, bases Sequence,kmer of Sequence  \n",
    "2. label and cell types"
   ]
  },
  {
   "cell_type": "markdown",
   "metadata": {},
   "source": [
    "# Result  \n",
    "you can't not combine different cell type datset to one !  \n",
    "It's the wrong way!"
   ]
  },
  {
   "cell_type": "code",
   "execution_count": 2,
   "metadata": {
    "collapsed": true
   },
   "outputs": [],
   "source": [
    "import os\n",
    "import csv\n",
    "import numpy as np\n",
    "from pyfasta import Fasta\n",
    "genome = Fasta('/home/yinqijin/WorkSpace/DataHub/genome.fa')"
   ]
  },
  {
   "cell_type": "code",
   "execution_count": 27,
   "metadata": {
    "collapsed": true
   },
   "outputs": [],
   "source": [
    "#获得ｋｍｅｒ的函数\n",
    "d2 = {'a':0, 'A':0, 'g':1, 'G':1, 'c':2, 'C':2, 't':3, 'T':3, 'N':0, 'n':0}\n",
    "def seq_to_kspec(seq):\n",
    "    mat = np.zeros((4096,1))\n",
    "    k = 0\n",
    "    if len(seq)<6:\n",
    "        return mat\n",
    "    for i in range(6):\n",
    "        k = k*4 + d2[seq[i]]\n",
    "    mat[k]+=1  \n",
    "    for i in range(6,len(seq)):\n",
    "        k = k - 4**5*d2[seq[i-6]]\n",
    "        k = k*4 + d2[seq[i]]\n",
    "        mat[k] += 1  \n",
    "    return mat"
   ]
  },
  {
   "cell_type": "code",
   "execution_count": 59,
   "metadata": {
    "collapsed": false
   },
   "outputs": [
    {
     "name": "stdout",
     "output_type": "stream",
     "text": [
      "/home/zengwanwen/enhancer/targetfinder/paper/targetfinder/GM12878\n",
      "/home/zengwanwen/enhancer/targetfinder/paper/targetfinder/HeLa-S3\n",
      "/home/zengwanwen/enhancer/targetfinder/paper/targetfinder/NHEK\n",
      "/home/zengwanwen/enhancer/targetfinder/paper/targetfinder/IMR90\n",
      "/home/zengwanwen/enhancer/targetfinder/paper/targetfinder/K562\n",
      "/home/zengwanwen/enhancer/targetfinder/paper/targetfinder/combined\n",
      "/home/zengwanwen/enhancer/targetfinder/paper/targetfinder/HUVEC\n"
     ]
    }
   ],
   "source": [
    "baseroot = '/home/zengwanwen/enhancer/targetfinder/paper/targetfinder'\n",
    "excel_name =[]\n",
    "\n",
    "#method2. 读取部分并计算新键\n",
    "#-------------------------------\n",
    "PESeq={}\n",
    "PESeq['Pro-index']=[]\n",
    "PESeq['Pro-Seq']=[]\n",
    "PESeq['Pro-Kmer']=[]\n",
    "PESeq['Ehr-index']=[]\n",
    "PESeq['Ehr-Seq']=[]\n",
    "PESeq['Ehr-Kmer']=[]\n",
    "PESeq['label'] =[]\n",
    "PESeq['Cell-Type']=[]\n",
    "#--------------------------------\n",
    "    \n",
    "    \n",
    "#读取每个pairs.csv的表头\n",
    "for sub_dir in os.listdir(baseroot):\n",
    "    cell_type_dir = os.path.join(baseroot,sub_dir)\n",
    "    print cell_type_dir\n",
    "    with open(cell_type_dir+'/output-epw/pairs.csv') as csvfile:\n",
    "        for line in  csv.reader(csvfile):\n",
    "            #print line\n",
    "            excel_name=line\n",
    "            break\n",
    "    \n",
    "    #新建初始化变量\n",
    "    #method1.读取全部内容\n",
    "    #----------------------------\n",
    "    #PESeq = {}\n",
    "    #for name in excel_name:\n",
    "    #    PESeq[name] = []\n",
    "    #---------------------------\n",
    "    \n",
    "    Pos_num =0\n",
    "    Neg_num =0\n",
    "    \n",
    "    #读取CSV内容并结构化\n",
    "    with open(cell_type_dir+'/output-epw/pairs.csv') as csvfile:\n",
    "        reader = csv.DictReader(csvfile)\n",
    "        for row in reader:\n",
    "            # Add values of every keys to the csvdata for every row\n",
    "            if abs(int(row['enhancer_start'] )-int( row['enhancer_end'])) <200 :\n",
    "                if     row['label']==0:\n",
    "                    print row\n",
    "                    continue\n",
    "            \n",
    "            #正负样本均衡\n",
    "            if  row['label']==str(1):\n",
    "                Pos_num+=1\n",
    "            elif  row['label']==str(0) :\n",
    "                Neg_num+=1  \n",
    "            if Neg_num>Pos_num:\n",
    "                break\n",
    "            #method1.读取全部内容   \n",
    "            #---------------------------\n",
    "            #for item in csvkeys:\n",
    "            #    csvdata[item].append(row[item])\n",
    "            #------------------------------\n",
    "            #method2. 读取部分并计算新键\n",
    "            #-------------------------------\n",
    "            pro_index = [row['promoter_chrom'],row['promoter_start'],row['promoter_end']]   \n",
    "            ehr_index = [row['enhancer_chrom'],row['enhancer_start'] ,row['enhancer_end']]\n",
    "            pro_seq =  genome[row['promoter_chrom']][int(row['promoter_start']) :int(row['promoter_end'])] .upper()   \n",
    "            pro_seq = str(pro_seq)\n",
    "            ehr_seq =  genome[row['enhancer_chrom'] ][int(row['enhancer_start']) : int(row['enhancer_end'])].upper()    \n",
    "            ehr_seq = str(ehr_seq)\n",
    "\n",
    "            PESeq['Pro-index'].append(pro_index)\n",
    "            PESeq['Pro-Seq'].append(pro_seq)\n",
    "            PESeq['Pro-Kmer'].append(seq_to_kspec(pro_seq))\n",
    "            PESeq['Ehr-index'].append(ehr_index)\n",
    "            PESeq['Ehr-Seq'].append(ehr_seq)\n",
    "            PESeq['Ehr-Kmer'].append(seq_to_kspec(ehr_seq))\n",
    "            PESeq['label'].append(row['label'])\n",
    "            PESeq['Cell-Type'].append(sub_dir)\n",
    "            #--------------------------------\n",
    "\n",
    "print 'Finished!'\n",
    "    \n",
    "                "
   ]
  },
  {
   "cell_type": "code",
   "execution_count": 54,
   "metadata": {
    "collapsed": true
   },
   "outputs": [
    {
     "name": "stdout",
     "output_type": "stream",
     "text": [
      "Ehr-Kmer <type 'list'> <type 'numpy.ndarray'>\n",
      "Ehr-Seq <type 'list'> <type 'unicode'>\n",
      "Pro-index <type 'list'> <type 'list'>\n",
      "Pro-Kmer <type 'list'> <type 'numpy.ndarray'>\n",
      "Cell-Type <type 'list'> <type 'str'>\n",
      "Pro-Seq <type 'list'> <type 'unicode'>\n",
      "Ehr-index <type 'list'> <type 'list'>\n",
      "label <type 'list'> <type 'str'>\n"
     ]
    }
   ],
   "source": [
    "#Test their type\n",
    "for item in PESeq.keys():\n",
    "    print item,type(PESeq[item]),type(PESeq[item][0])"
   ]
  },
  {
   "cell_type": "code",
   "execution_count": 36,
   "metadata": {
    "collapsed": true
   },
   "outputs": [],
   "source": [
    "import hickle"
   ]
  },
  {
   "cell_type": "code",
   "execution_count": 60,
   "metadata": {
    "collapsed": false
   },
   "outputs": [],
   "source": [
    "hickle.dump(PESeq,'./Gen_data/11_Gen_Pro_Ehr.hkl')"
   ]
  },
  {
   "cell_type": "code",
   "execution_count": 64,
   "metadata": {
    "collapsed": false
   },
   "outputs": [
    {
     "name": "stdout",
     "output_type": "stream",
     "text": [
      "11876 11876\n"
     ]
    }
   ],
   "source": [
    "Pos_num=0\n",
    "Neg_num=0\n",
    "for item in PESeq['label']:\n",
    "    if item == str(0):\n",
    "        Neg_num +=1\n",
    "    if item == str(1):\n",
    "        Pos_num +=1\n",
    "        \n",
    "assert Pos_num == Neg_num\n",
    "print Pos_num,Neg_num\n"
   ]
  },
  {
   "cell_type": "code",
   "execution_count": null,
   "metadata": {
    "collapsed": true
   },
   "outputs": [],
   "source": []
  }
 ],
 "metadata": {
  "anaconda-cloud": {},
  "kernelspec": {
   "display_name": "Python [conda root]",
   "language": "python",
   "name": "conda-root-py"
  },
  "language_info": {
   "codemirror_mode": {
    "name": "ipython",
    "version": 2
   },
   "file_extension": ".py",
   "mimetype": "text/x-python",
   "name": "python",
   "nbconvert_exporter": "python",
   "pygments_lexer": "ipython2",
   "version": "2.7.12"
  }
 },
 "nbformat": 4,
 "nbformat_minor": 1
}
