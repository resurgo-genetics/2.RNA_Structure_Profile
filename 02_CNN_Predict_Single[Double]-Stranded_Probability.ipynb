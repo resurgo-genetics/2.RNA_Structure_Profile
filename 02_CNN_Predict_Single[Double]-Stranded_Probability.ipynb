{
 "cells": [
  {
   "cell_type": "markdown",
   "metadata": {},
   "source": [
    "Something is Wrong!!"
   ]
  },
  {
   "cell_type": "markdown",
   "metadata": {},
   "source": [
    "# Goal\n",
    "2. build a neural network to predict single/double-stranded probability"
   ]
  },
  {
   "cell_type": "markdown",
   "metadata": {},
   "source": [
    "# Load Data"
   ]
  },
  {
   "cell_type": "code",
   "execution_count": null,
   "metadata": {
    "collapsed": true
   },
   "outputs": [],
   "source": [
    "import hickle  as hkl"
   ]
  },
  {
   "cell_type": "code",
   "execution_count": null,
   "metadata": {
    "collapsed": true
   },
   "outputs": [],
   "source": [
    "data2 =hkl.load('./Gen_data/CROSS_Net_input.hkl')"
   ]
  },
  {
   "cell_type": "markdown",
   "metadata": {
    "collapsed": true
   },
   "source": [
    "### Tips  删除dict某些值"
   ]
  },
  {
   "cell_type": "markdown",
   "metadata": {},
   "source": [
    "# Generate NetWork"
   ]
  },
  {
   "cell_type": "code",
   "execution_count": 10,
   "metadata": {
    "collapsed": false
   },
   "outputs": [
    {
     "name": "stderr",
     "output_type": "stream",
     "text": [
      "Using gpu device 0: GeForce GTX TITAN X (CNMeM is disabled, cuDNN 5105)\n",
      "/home/yinqijin/anaconda2/lib/python2.7/site-packages/theano/sandbox/cuda/__init__.py:600: UserWarning: Your cuDNN version is more recent than the one Theano officially supports. If you see any problems, try updating Theano or downgrading cuDNN to version 5.\n",
      "  warnings.warn(warn)\n"
     ]
    },
    {
     "name": "stdout",
     "output_type": "stream",
     "text": [
      "Using Lasagne.layers.dnn (faster)\n"
     ]
    },
    {
     "name": "stderr",
     "output_type": "stream",
     "text": [
      "/home/yinqijin/anaconda2/lib/python2.7/site-packages/theano/tensor/signal/downsample.py:6: UserWarning: downsample module has been moved to the theano.tensor.signal.pool module.\n",
      "  \"downsample module has been moved to the theano.tensor.signal.pool module.\")\n"
     ]
    }
   ],
   "source": [
    "import theano\n",
    "from lasagne.layers import InputLayer\n",
    "from lasagne.layers import DenseLayer\n",
    "from lasagne.layers import DropoutLayer\n",
    "try:\n",
    "    from lasagne.layers.dnn import Conv2DDNNLayer as Conv2DLayer\n",
    "    from lasagne.layers.dnn import MaxPool2DDNNLayer as MaxPool2DLayer\n",
    "    print 'Using Lasagne.layers.dnn (faster)'\n",
    "except ImportError:\n",
    "    from lasagne.layers import Conv2DLayer\n",
    "    from lasagne.layers import MaxPool2DLayer\n",
    "    print 'Using Lasagne.layers (slower)'\n",
    "from lasagne.nonlinearities import softmax, rectify, leaky_rectify\n",
    "from lasagne.updates import adam\n",
    "from lasagne.objectives import squared_error\n",
    "\n",
    "from nolearn.lasagne import NeuralNet\n",
    "from nolearn.lasagne import TrainSplit\n",
    "from nolearn.lasagne import objective\n",
    "from nolearn.lasagne import BatchIterator\n",
    "\n",
    "from lasagne.nonlinearities import tanh \n",
    "floatX = theano.config.floatX"
   ]
  },
  {
   "cell_type": "code",
   "execution_count": 40,
   "metadata": {
    "collapsed": true
   },
   "outputs": [],
   "source": [
    "cutdown_len = 13\n",
    "layer1 = InputLayer(shape=(None,1,cutdown_len,4))  #输入是序列的one-hot编码\n",
    "layer2 = DenseLayer(layer1, num_units=20 ,nonlinearity=tanh)\n",
    "network = DenseLayer(layer2,num_units=1,nonlinearity=tanh)"
   ]
  },
  {
   "cell_type": "code",
   "execution_count": 41,
   "metadata": {
    "collapsed": true
   },
   "outputs": [],
   "source": [
    "\n",
    "lr = theano.shared(np.float32(1e-4))\n",
    "\n",
    "net = NeuralNet(\n",
    "            network,\n",
    "            max_epochs=50,\n",
    "            update=adam,\n",
    "            update_learning_rate=lr,\n",
    "            train_split=TrainSplit(eval_size=0.1),\n",
    "                regression = True,\n",
    "            objective_loss_function = squared_error,\n",
    "            #on_epoch_finished=[\n",
    "            #    AdjustVariable(lr, target=1e-8, half_life=20)],\n",
    "            verbose=4)"
   ]
  },
  {
   "cell_type": "markdown",
   "metadata": {},
   "source": [
    "# Import Data"
   ]
  },
  {
   "cell_type": "code",
   "execution_count": 13,
   "metadata": {
    "collapsed": false
   },
   "outputs": [],
   "source": [
    "X = data2['mat']\n",
    "Y = data2['score']"
   ]
  },
  {
   "cell_type": "code",
   "execution_count": 14,
   "metadata": {
    "collapsed": false
   },
   "outputs": [],
   "source": [
    "Y_ = [ item[(len(item)-1)/2] for item in Y]"
   ]
  },
  {
   "cell_type": "code",
   "execution_count": 15,
   "metadata": {
    "collapsed": false
   },
   "outputs": [
    {
     "name": "stdout",
     "output_type": "stream",
     "text": [
      "1111101 1111101\n",
      "[0.015, 0.002]\n"
     ]
    }
   ],
   "source": [
    "print len(X),len(Y_)\n",
    "print Y_[:2]"
   ]
  },
  {
   "cell_type": "code",
   "execution_count": 16,
   "metadata": {
    "collapsed": false
   },
   "outputs": [
    {
     "name": "stdout",
     "output_type": "stream",
     "text": [
      "(1111101, 4, 13)\n"
     ]
    }
   ],
   "source": [
    "X_ = np.zeros((len(X),4,cutdown_len))\n",
    "print X_.shape"
   ]
  },
  {
   "cell_type": "code",
   "execution_count": 18,
   "metadata": {
    "collapsed": false
   },
   "outputs": [
    {
     "name": "stdout",
     "output_type": "stream",
     "text": [
      "\n"
     ]
    }
   ],
   "source": [
    "X_[:,:,:] = X[:]"
   ]
  },
  {
   "cell_type": "code",
   "execution_count": 19,
   "metadata": {
    "collapsed": true
   },
   "outputs": [],
   "source": [
    "Y_ = np.array(Y_)"
   ]
  },
  {
   "cell_type": "code",
   "execution_count": 20,
   "metadata": {
    "collapsed": false
   },
   "outputs": [],
   "source": [
    "from sklearn.cross_validation import ShuffleSplit\n",
    "rs = ShuffleSplit(len(Y_), n_iter=1)"
   ]
  },
  {
   "cell_type": "code",
   "execution_count": 21,
   "metadata": {
    "collapsed": false
   },
   "outputs": [
    {
     "data": {
      "text/plain": [
       "array([[[ 0.,  0.,  0.,  1.,  0.,  0.,  0.,  0.,  1.,  0.,  1.,  1.,  0.],\n",
       "        [ 1.,  1.,  1.,  0.,  1.,  0.,  0.,  0.,  0.,  1.,  0.,  0.,  1.],\n",
       "        [ 0.,  0.,  0.,  0.,  0.,  1.,  1.,  1.,  0.,  0.,  0.,  0.,  0.],\n",
       "        [ 0.,  0.,  0.,  0.,  0.,  0.,  0.,  0.,  0.,  0.,  0.,  0.,  0.]],\n",
       "\n",
       "       [[ 0.,  0.,  1.,  0.,  0.,  0.,  0.,  1.,  0.,  1.,  1.,  0.,  0.],\n",
       "        [ 1.,  1.,  0.,  1.,  0.,  0.,  0.,  0.,  1.,  0.,  0.,  1.,  1.],\n",
       "        [ 0.,  0.,  0.,  0.,  1.,  1.,  1.,  0.,  0.,  0.,  0.,  0.,  0.],\n",
       "        [ 0.,  0.,  0.,  0.,  0.,  0.,  0.,  0.,  0.,  0.,  0.,  0.,  0.]]])"
      ]
     },
     "execution_count": 21,
     "metadata": {},
     "output_type": "execute_result"
    }
   ],
   "source": [
    "X_[:2]"
   ]
  },
  {
   "cell_type": "code",
   "execution_count": 22,
   "metadata": {
    "collapsed": false
   },
   "outputs": [],
   "source": [
    "for train_idx, test_idx in rs:\n",
    "    X_train = X_[train_idx,:]\n",
    "    y_train = Y_[train_idx]\n",
    "    X_test = X_[test_idx,:]\n",
    "    y_test = Y_[test_idx]"
   ]
  },
  {
   "cell_type": "code",
   "execution_count": 23,
   "metadata": {
    "collapsed": false
   },
   "outputs": [
    {
     "name": "stdout",
     "output_type": "stream",
     "text": [
      "[[[ 0.  0.  0.  0.  1.  0.  0.  0.  1.  1.  0.  0.  0.]\n",
      "  [ 0.  0.  0.  0.  0.  0.  0.  0.  0.  0.  0.  0.  0.]\n",
      "  [ 1.  0.  0.  1.  0.  1.  0.  0.  0.  0.  0.  0.  1.]\n",
      "  [ 0.  1.  1.  0.  0.  0.  1.  1.  0.  0.  1.  1.  0.]]\n",
      "\n",
      " [[ 0.  0.  1.  1.  1.  0.  0.  1.  1.  1.  0.  1.  1.]\n",
      "  [ 1.  0.  0.  0.  0.  0.  0.  0.  0.  0.  0.  0.  0.]\n",
      "  [ 0.  0.  0.  0.  0.  1.  1.  0.  0.  0.  0.  0.  0.]\n",
      "  [ 0.  1.  0.  0.  0.  0.  0.  0.  0.  0.  1.  0.  0.]]]\n",
      "[-0.022 -0.154]\n"
     ]
    }
   ],
   "source": [
    "print X_train[:2]\n",
    "print y_train[:2]"
   ]
  },
  {
   "cell_type": "code",
   "execution_count": 24,
   "metadata": {
    "collapsed": false
   },
   "outputs": [],
   "source": [
    "X_train = X_train.astype('float32')\n",
    "y_train = y_train.astype('float32')\n",
    "X_test = X_test.astype('float32')\n",
    "y_test = y_test.astype('float32')"
   ]
  },
  {
   "cell_type": "code",
   "execution_count": 25,
   "metadata": {
    "collapsed": false
   },
   "outputs": [
    {
     "name": "stdout",
     "output_type": "stream",
     "text": [
      "[[[ 0.  0.  0.  0.  1.  0.  0.  0.  1.  1.  0.  0.  0.]\n",
      "  [ 0.  0.  0.  0.  0.  0.  0.  0.  0.  0.  0.  0.  0.]\n",
      "  [ 1.  0.  0.  1.  0.  1.  0.  0.  0.  0.  0.  0.  1.]\n",
      "  [ 0.  1.  1.  0.  0.  0.  1.  1.  0.  0.  1.  1.  0.]]\n",
      "\n",
      " [[ 0.  0.  1.  1.  1.  0.  0.  1.  1.  1.  0.  1.  1.]\n",
      "  [ 1.  0.  0.  0.  0.  0.  0.  0.  0.  0.  0.  0.  0.]\n",
      "  [ 0.  0.  0.  0.  0.  1.  1.  0.  0.  0.  0.  0.  0.]\n",
      "  [ 0.  1.  0.  0.  0.  0.  0.  0.  0.  0.  1.  0.  0.]]]\n",
      "[-0.022 -0.154]\n"
     ]
    }
   ],
   "source": [
    "print X_train[:2]\n",
    "print y_train[:2]"
   ]
  },
  {
   "cell_type": "markdown",
   "metadata": {
    "collapsed": false
   },
   "source": [
    "#方便测试用\n",
    "cutdown_len = 13\n",
    "layer1 = InputLayer(shape=(None,4,cutdown_len))\n",
    "layer2 = DenseLayer(layer1, num_units=20 ,nonlinearity=tanh)\n",
    "network = DenseLayer(layer2,num_units=1,nonlinearity=tanh)\n",
    "\n",
    "lr = theano.shared(np.float32(1e-4))\n",
    "\n",
    "net = NeuralNet(\n",
    "            network,\n",
    "            max_epochs=50,\n",
    "            update=adam,\n",
    "            update_learning_rate=lr,\n",
    "            train_split=TrainSplit(eval_size=0.1),\n",
    "                regression = True,\n",
    "            objective_loss_function = squared_error,\n",
    "            #on_epoch_finished=[\n",
    "            #    AdjustVariable(lr, target=1e-8, half_life=20)],\n",
    "            verbose=4)"
   ]
  },
  {
   "cell_type": "code",
   "execution_count": 43,
   "metadata": {
    "collapsed": false
   },
   "outputs": [
    {
     "name": "stdout",
     "output_type": "stream",
     "text": [
      "# Neural Network with 3457 learnable parameters\n",
      "\n",
      "## Layer information\n",
      "\n",
      "  #    name  size\n",
      "---  ------  ------\n",
      "  0          4x13\n",
      "  1          64\n",
      "  2          1\n",
      "\n",
      "  epoch    trn loss    val loss    trn/val  dur\n",
      "-------  ----------  ----------  ---------  -----\n",
      "      1     \u001b[36m0.41066\u001b[0m     \u001b[32m0.40608\u001b[0m    1.01128  5.42s\n",
      "      2     \u001b[36m0.40573\u001b[0m     \u001b[32m0.40536\u001b[0m    1.00092  5.23s\n",
      "      3     \u001b[36m0.40517\u001b[0m     \u001b[32m0.40492\u001b[0m    1.00061  5.00s\n",
      "      4     \u001b[36m0.40480\u001b[0m     \u001b[32m0.40462\u001b[0m    1.00046  4.92s\n",
      "      5     \u001b[36m0.40454\u001b[0m     \u001b[32m0.40439\u001b[0m    1.00036  4.81s\n",
      "      6     \u001b[36m0.40433\u001b[0m     \u001b[32m0.40422\u001b[0m    1.00029  4.81s\n",
      "      7     \u001b[36m0.40417\u001b[0m     \u001b[32m0.40407\u001b[0m    1.00023  4.81s\n",
      "      8     \u001b[36m0.40402\u001b[0m     \u001b[32m0.40395\u001b[0m    1.00018  4.80s\n",
      "      9     \u001b[36m0.40390\u001b[0m     \u001b[32m0.40384\u001b[0m    1.00014  4.99s\n",
      "     10     \u001b[36m0.40379\u001b[0m     \u001b[32m0.40375\u001b[0m    1.00010  4.86s\n",
      "     11     \u001b[36m0.40369\u001b[0m     \u001b[32m0.40366\u001b[0m    1.00006  4.87s\n",
      "     12     \u001b[36m0.40359\u001b[0m     \u001b[32m0.40359\u001b[0m    1.00002  4.84s\n",
      "     13     \u001b[36m0.40350\u001b[0m     \u001b[32m0.40351\u001b[0m    0.99998  4.63s\n",
      "     14     \u001b[36m0.40342\u001b[0m     \u001b[32m0.40345\u001b[0m    0.99994  4.69s\n",
      "     15     \u001b[36m0.40334\u001b[0m     \u001b[32m0.40338\u001b[0m    0.99989  4.68s\n",
      "     16     \u001b[36m0.40326\u001b[0m     \u001b[32m0.40332\u001b[0m    0.99985  4.70s\n",
      "     17     \u001b[36m0.40319\u001b[0m     \u001b[32m0.40327\u001b[0m    0.99980  4.86s\n",
      "     18     \u001b[36m0.40311\u001b[0m     \u001b[32m0.40321\u001b[0m    0.99976  4.86s\n",
      "     19     \u001b[36m0.40304\u001b[0m     \u001b[32m0.40316\u001b[0m    0.99971  4.71s\n",
      "     20     \u001b[36m0.40297\u001b[0m     \u001b[32m0.40311\u001b[0m    0.99965  4.59s\n",
      "     21     \u001b[36m0.40290\u001b[0m     \u001b[32m0.40306\u001b[0m    0.99960  4.74s\n",
      "     22     \u001b[36m0.40283\u001b[0m     \u001b[32m0.40302\u001b[0m    0.99954  4.63s\n",
      "     23     \u001b[36m0.40277\u001b[0m     \u001b[32m0.40298\u001b[0m    0.99947  4.62s\n",
      "     24     \u001b[36m0.40270\u001b[0m     \u001b[32m0.40294\u001b[0m    0.99941  4.89s\n",
      "     25     \u001b[36m0.40264\u001b[0m     \u001b[32m0.40290\u001b[0m    0.99934  4.85s\n",
      "     26     \u001b[36m0.40257\u001b[0m     \u001b[32m0.40286\u001b[0m    0.99927  4.80s\n",
      "     27     \u001b[36m0.40251\u001b[0m     \u001b[32m0.40283\u001b[0m    0.99920  4.76s\n",
      "     28     \u001b[36m0.40245\u001b[0m     \u001b[32m0.40280\u001b[0m    0.99913  4.58s\n",
      "     29     \u001b[36m0.40239\u001b[0m     \u001b[32m0.40277\u001b[0m    0.99905  4.71s\n",
      "     30     \u001b[36m0.40233\u001b[0m     \u001b[32m0.40274\u001b[0m    0.99897  4.66s\n",
      "     31     \u001b[36m0.40227\u001b[0m     \u001b[32m0.40272\u001b[0m    0.99889  4.66s\n",
      "     32     \u001b[36m0.40222\u001b[0m     \u001b[32m0.40269\u001b[0m    0.99882  4.62s\n",
      "     33     \u001b[36m0.40216\u001b[0m     \u001b[32m0.40267\u001b[0m    0.99874  4.69s\n",
      "     34     \u001b[36m0.40211\u001b[0m     \u001b[32m0.40265\u001b[0m    0.99866  4.69s\n",
      "     35     \u001b[36m0.40206\u001b[0m     \u001b[32m0.40263\u001b[0m    0.99858  4.74s\n",
      "     36     \u001b[36m0.40201\u001b[0m     \u001b[32m0.40261\u001b[0m    0.99850  4.63s\n",
      "     37     \u001b[36m0.40196\u001b[0m     \u001b[32m0.40259\u001b[0m    0.99842  4.71s\n",
      "     38     \u001b[36m0.40191\u001b[0m     \u001b[32m0.40258\u001b[0m    0.99834  4.71s\n",
      "     39     \u001b[36m0.40186\u001b[0m     \u001b[32m0.40256\u001b[0m    0.99827  4.64s\n",
      "     40     \u001b[36m0.40182\u001b[0m     \u001b[32m0.40254\u001b[0m    0.99820  4.58s\n",
      "     41     \u001b[36m0.40178\u001b[0m     \u001b[32m0.40253\u001b[0m    0.99813  4.75s\n",
      "     42     \u001b[36m0.40173\u001b[0m     \u001b[32m0.40251\u001b[0m    0.99806  4.68s\n",
      "     43     \u001b[36m0.40169\u001b[0m     \u001b[32m0.40250\u001b[0m    0.99800  4.81s\n",
      "     44     \u001b[36m0.40165\u001b[0m     \u001b[32m0.40249\u001b[0m    0.99793  4.82s\n",
      "     45     \u001b[36m0.40162\u001b[0m     \u001b[32m0.40247\u001b[0m    0.99787  4.75s\n",
      "     46     \u001b[36m0.40158\u001b[0m     \u001b[32m0.40246\u001b[0m    0.99781  4.68s\n",
      "     47     \u001b[36m0.40155\u001b[0m     \u001b[32m0.40245\u001b[0m    0.99775  4.73s\n",
      "     48     \u001b[36m0.40151\u001b[0m     \u001b[32m0.40244\u001b[0m    0.99769  4.69s\n",
      "     49     \u001b[36m0.40148\u001b[0m     \u001b[32m0.40243\u001b[0m    0.99764  4.65s\n",
      "     50     \u001b[36m0.40145\u001b[0m     \u001b[32m0.40242\u001b[0m    0.99759  4.76s\n"
     ]
    },
    {
     "data": {
      "text/plain": [
       "NeuralNet(X_tensor_type=None,\n",
       "     batch_iterator_test=<nolearn.lasagne.base.BatchIterator object at 0x7fae1b9b2310>,\n",
       "     batch_iterator_train=<nolearn.lasagne.base.BatchIterator object at 0x7fae1b9b2210>,\n",
       "     check_input=True, custom_scores=None,\n",
       "     layers=[<lasagne.layers.dense.DenseLayer object at 0x7fae02974b50>],\n",
       "     loss=None, max_epochs=50, more_params={},\n",
       "     objective=<function objective at 0x7fae1b9b3758>,\n",
       "     objective_loss_function=<function squared_error at 0x7fae2308b500>,\n",
       "     on_batch_finished=[],\n",
       "     on_epoch_finished=[<nolearn.lasagne.handlers.PrintLog instance at 0x7fae0009a3f8>],\n",
       "     on_training_finished=[],\n",
       "     on_training_started=[<nolearn.lasagne.handlers.PrintLayerInfo instance at 0x7fae0c8f8b90>],\n",
       "     regression=True, scores_train=[], scores_valid=[],\n",
       "     train_split=<nolearn.lasagne.base.TrainSplit object at 0x7fae0298d650>,\n",
       "     update=<function adam at 0x7fae23117758>,\n",
       "     update_learning_rate=<TensorType(float32, scalar)>,\n",
       "     use_label_encoder=False, verbose=4,\n",
       "     y_tensor_type=TensorType(float32, matrix))"
      ]
     },
     "execution_count": 43,
     "metadata": {},
     "output_type": "execute_result"
    }
   ],
   "source": [
    "net.fit(X_train, y_train)"
   ]
  },
  {
   "cell_type": "markdown",
   "metadata": {},
   "source": [
    "# Save network values"
   ]
  },
  {
   "cell_type": "code",
   "execution_count": 28,
   "metadata": {
    "collapsed": true
   },
   "outputs": [],
   "source": [
    "from nolearn.lasagne import NeuralNet\n",
    "net.initialize_layers()\n",
    "net_params=[]\n",
    "net.save_params_to('./Gen_data/CROSS_net_values.pkl')"
   ]
  },
  {
   "cell_type": "markdown",
   "metadata": {},
   "source": [
    "# Test Network"
   ]
  },
  {
   "cell_type": "markdown",
   "metadata": {},
   "source": [
    "## Load Network Values"
   ]
  },
  {
   "cell_type": "code",
   "execution_count": 29,
   "metadata": {
    "collapsed": false
   },
   "outputs": [
    {
     "name": "stdout",
     "output_type": "stream",
     "text": [
      "Using Lasagne.layers.dnn (faster)\n"
     ]
    }
   ],
   "source": [
    "import theano\n",
    "from lasagne.layers import InputLayer\n",
    "from lasagne.layers import DenseLayer\n",
    "from lasagne.layers import DropoutLayer\n",
    "try:\n",
    "    from lasagne.layers.dnn import Conv2DDNNLayer as Conv2DLayer\n",
    "    from lasagne.layers.dnn import MaxPool2DDNNLayer as MaxPool2DLayer\n",
    "    print 'Using Lasagne.layers.dnn (faster)'\n",
    "except ImportError:\n",
    "    from lasagne.layers import Conv2DLayer\n",
    "    from lasagne.layers import MaxPool2DLayer\n",
    "    print 'Using Lasagne.layers (slower)'\n",
    "from lasagne.nonlinearities import softmax, rectify, leaky_rectify\n",
    "from lasagne.updates import adam\n",
    "from lasagne.objectives import squared_error\n",
    "\n",
    "from nolearn.lasagne import NeuralNet\n",
    "from nolearn.lasagne import TrainSplit\n",
    "from nolearn.lasagne import objective\n",
    "from nolearn.lasagne import BatchIterator\n",
    "\n",
    "from lasagne.nonlinearities import tanh \n",
    "floatX = theano.config.floatX\n",
    "\n",
    "cutdown_len = 13\n",
    "layer1 = InputLayer(shape=(None,cutdown_len,4))\n",
    "layer2 = DenseLayer(layer1, num_units=20 ,nonlinearity=tanh)\n",
    "network = DenseLayer(layer2,num_units=1,nonlinearity=tanh)\n",
    "\n",
    "lr = theano.shared(np.float32(1e-4))\n",
    "\n",
    "net = NeuralNet(\n",
    "            network,\n",
    "            max_epochs=7,\n",
    "            update=adam,\n",
    "            update_learning_rate=lr,\n",
    "            train_split=TrainSplit(eval_size=0.1),\n",
    "                regression = True,\n",
    "            objective_loss_function = squared_error,\n",
    "            #on_epoch_finished=[\n",
    "            #    AdjustVariable(lr, target=1e-8, half_life=20)],\n",
    "            verbose=4)"
   ]
  },
  {
   "cell_type": "code",
   "execution_count": 30,
   "metadata": {
    "collapsed": false
   },
   "outputs": [
    {
     "name": "stdout",
     "output_type": "stream",
     "text": [
      "Loaded parameters to layer 'dense1' (shape 52x20).\n",
      "Loaded parameters to layer 'dense1' (shape 20).\n",
      "Loaded parameters to layer 'dense2' (shape 20x1).\n",
      "Loaded parameters to layer 'dense2' (shape 1).\n"
     ]
    }
   ],
   "source": [
    "# Load  NetWork Values\n",
    "from nolearn.lasagne import NeuralNet\n",
    "net.initialize_layers()\n",
    "net.load_params_from('./Gen_data/CROSS_net_values.pkl')"
   ]
  },
  {
   "cell_type": "markdown",
   "metadata": {},
   "source": [
    "## Test"
   ]
  },
  {
   "cell_type": "code",
   "execution_count": 44,
   "metadata": {
    "collapsed": false
   },
   "outputs": [
    {
     "name": "stdout",
     "output_type": "stream",
     "text": [
      "[[ 0.12956685]\n",
      " [-0.0355046 ]\n",
      " [ 0.05500717]\n",
      " [-0.07661961]\n",
      " [ 0.02709704]\n",
      " [ 0.09280252]\n",
      " [ 0.00844396]\n",
      " [-0.07352723]\n",
      " [-0.07530339]\n",
      " [-0.00712793]]\n",
      "[ 0.          0.006      -0.28299999 -0.161       0.041       0.         -0.106\n",
      " -0.49599999 -0.029      -0.366     ]\n"
     ]
    }
   ],
   "source": [
    "y_1 = net.predict(X_test[:10])\n",
    "print y_1\n",
    "print y_test[:10]"
   ]
  },
  {
   "cell_type": "code",
   "execution_count": 45,
   "metadata": {
    "collapsed": true
   },
   "outputs": [],
   "source": [
    "y_pred = net.predict(X_test)"
   ]
  },
  {
   "cell_type": "code",
   "execution_count": 46,
   "metadata": {
    "collapsed": true
   },
   "outputs": [],
   "source": [
    "import matplotlib.pyplot as plt\n",
    "%matplotlib inline"
   ]
  },
  {
   "cell_type": "code",
   "execution_count": 47,
   "metadata": {
    "collapsed": false
   },
   "outputs": [
    {
     "data": {
      "text/plain": [
       "<matplotlib.collections.PathCollection at 0x7fae19152990>"
      ]
     },
     "execution_count": 47,
     "metadata": {},
     "output_type": "execute_result"
    },
    {
     "data": {
      "image/png": "[encoded data removed]",
      "text/plain": [
       "<matplotlib.figure.Figure at 0x7fadf109f150>"
      ]
     },
     "metadata": {},
     "output_type": "display_data"
    }
   ],
   "source": [
    "plt.scatter(y_test,y_pred,0.1)"
   ]
  },
  {
   "cell_type": "code",
   "execution_count": 48,
   "metadata": {
    "collapsed": true
   },
   "outputs": [],
   "source": [
    "from scipy import stats"
   ]
  },
  {
   "cell_type": "code",
   "execution_count": 49,
   "metadata": {
    "collapsed": false
   },
   "outputs": [
    {
     "name": "stdout",
     "output_type": "stream",
     "text": [
      "0.115044346662\n"
     ]
    }
   ],
   "source": [
    "slope, intercept, r_value, p_value, std_err = stats.linregress(y_test,y_pred[:,0])\n",
    "print r_value"
   ]
  },
  {
   "cell_type": "code",
   "execution_count": null,
   "metadata": {
    "collapsed": true
   },
   "outputs": [],
   "source": []
  }
 ],
 "metadata": {
  "anaconda-cloud": {},
  "kernelspec": {
   "display_name": "Python [conda root]",
   "language": "python",
   "name": "conda-root-py"
  },
  "language_info": {
   "codemirror_mode": {
    "name": "ipython",
    "version": 2
   },
   "file_extension": ".py",
   "mimetype": "text/x-python",
   "name": "python",
   "nbconvert_exporter": "python",
   "pygments_lexer": "ipython2",
   "version": "2.7.12"
  }
 },
 "nbformat": 4,
 "nbformat_minor": 1
}
