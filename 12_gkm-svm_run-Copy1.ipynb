{
 "cells": [
  {
   "cell_type": "code",
   "execution_count": null,
   "metadata": {
    "collapsed": false
   },
   "outputs": [],
   "source": [
    "import os\n",
    "print os.popen('/home/yinqijin/WorkSpace/000_Algorithm_Zoo/lsgkm/bin/gkmtrain '\n",
    "                      ' /home/yinqijin/WorkSpace/2.RNA_Structure_Profile/Gen_data/HeLa-S3_pos_train.fa'\n",
    "              '  /home/yinqijin/WorkSpace/2.RNA_Structure_Profile/Gen_data/HeLa-S3_neg_train.fa' \n",
    "              ' /home/yinqijin/WorkSpace/2.RNA_Structure_Profile/Gen_data/HeLa-S3_out'\n",
    "              ' -m 4000').read()"
   ]
  },
  {
   "cell_type": "code",
   "execution_count": null,
   "metadata": {
    "collapsed": true
   },
   "outputs": [],
   "source": [
    "import os\n",
    "print os.popen('/home/yinqijin/WorkSpace/000_Algorithm_Zoo/lsgkm/bin/gkmtrain '\n",
    "                      ' /home/yinqijin/WorkSpace/2.RNA_Structure_Profile/Gen_data/HUVEC_pos_train.fa'\n",
    "              '  /home/yinqijin/WorkSpace/2.RNA_Structure_Profile/Gen_data/HUVEC_neg_train.fa' \n",
    "              ' /home/yinqijin/WorkSpace/2.RNA_Structure_Profile/Gen_data/HUVEC_out'\n",
    "              ' -m 4000').read()"
   ]
  },
  {
   "cell_type": "code",
   "execution_count": null,
   "metadata": {
    "collapsed": true
   },
   "outputs": [],
   "source": []
  },
  {
   "cell_type": "code",
   "execution_count": null,
   "metadata": {
    "collapsed": true
   },
   "outputs": [],
   "source": []
  },
  {
   "cell_type": "code",
   "execution_count": null,
   "metadata": {
    "collapsed": true
   },
   "outputs": [],
   "source": []
  },
  {
   "cell_type": "code",
   "execution_count": 3,
   "metadata": {
    "collapsed": false
   },
   "outputs": [
    {
     "name": "stdout",
     "output_type": "stream",
     "text": [
      "INFO 2017-03-15 23:31:31: Number of threads is set to 1\n",
      "INFO 2017-03-15 23:31:31: Arguments:\n",
      "INFO 2017-03-15 23:31:31:   posfile =  /home/yinqijin/WorkSpace/2.RNA_Structure_Profile/Gen_data/HeLa-S3_pos_train.fa \n",
      "INFO 2017-03-15 23:31:31:   negfile = /home/yinqijin/WorkSpace/2.RNA_Structure_Profile/Gen_data/HeLa-S3_neg_train.fa\n",
      "INFO 2017-03-15 23:31:31:   outprefix = /home/yinqijin/WorkSpace/2.RNA_Structure_Profile/Gen_data/Hela-S3\n",
      "INFO 2017-03-15 23:31:31: Parameters:\n",
      "INFO 2017-03-15 23:31:31:   kernel-type = 4\n",
      "INFO 2017-03-15 23:31:31:   L = 11\n",
      "INFO 2017-03-15 23:31:31:   k = 7\n",
      "INFO 2017-03-15 23:31:31:   d = 3\n",
      "INFO 2017-03-15 23:31:31:   M = 50\n",
      "INFO 2017-03-15 23:31:31:   H = 50\n",
      "INFO 2017-03-15 23:31:31:   C = 1\n",
      "INFO 2017-03-15 23:31:31:   eps = 0.001\n",
      "INFO 2017-03-15 23:31:31:   shrinking = no\n",
      "ERROR 2017-03-15 23:31:31: can't open file\n",
      "sss\n"
     ]
    }
   ],
   "source": [
    "import subprocess\n",
    "import sys\n",
    "\n",
    "popen = subprocess.Popen(['/home/yinqijin/WorkSpace/000_Algorithm_Zoo/lsgkm/bin/gkmtrain', \n",
    "                          ' /home/yinqijin/WorkSpace/2.RNA_Structure_Profile/Gen_data/HeLa-S3_pos_train.fa ',\n",
    "                          '/home/yinqijin/WorkSpace/2.RNA_Structure_Profile/Gen_data/HeLa-S3_neg_train.fa',\n",
    "                          '/home/yinqijin/WorkSpace/2.RNA_Structure_Profile/Gen_data/Hela-S3',\n",
    "                           '-m','4000'], stdout = subprocess.PIPE)\n",
    "\n",
    "while True:\n",
    "    next_line = popen.stdout.readline()\n",
    "    if next_line == '' and popen.poll() != None:\n",
    "        print 'sss'\n",
    "        break\n",
    "    sys.stdout.write(next_line)"
   ]
  },
  {
   "cell_type": "code",
   "execution_count": null,
   "metadata": {
    "collapsed": true
   },
   "outputs": [],
   "source": []
  },
  {
   "cell_type": "code",
   "execution_count": null,
   "metadata": {
    "collapsed": true
   },
   "outputs": [],
   "source": [
    "import subprocess\n",
    "import sys\n",
    "\n",
    "class FlushFile(object):\n",
    "    \"\"\"Write-only flushing wrapper for file-type objects.\"\"\"\n",
    "    def __init__(self, f):\n",
    "        self.f = f\n",
    "    def write(self, x):\n",
    "        self.f.write(x)\n",
    "        self.f.flush()\n",
    "\n",
    "sys.stdout = FlushFile(sys.__stdout__)"
   ]
  }
 ],
 "metadata": {
  "anaconda-cloud": {},
  "kernelspec": {
   "display_name": "Python [conda root]",
   "language": "python",
   "name": "conda-root-py"
  },
  "language_info": {
   "codemirror_mode": {
    "name": "ipython",
    "version": 2
   },
   "file_extension": ".py",
   "mimetype": "text/x-python",
   "name": "python",
   "nbconvert_exporter": "python",
   "pygments_lexer": "ipython2",
   "version": "2.7.12"
  }
 },
 "nbformat": 4,
 "nbformat_minor": 1
}
