{
 "cells": [
  {
   "cell_type": "markdown",
   "metadata": {},
   "source": [
    "# Read Data"
   ]
  },
  {
   "cell_type": "code",
   "execution_count": 1,
   "metadata": {
    "collapsed": true
   },
   "outputs": [],
   "source": [
    "import hickle as hkl"
   ]
  },
  {
   "cell_type": "code",
   "execution_count": 2,
   "metadata": {
    "collapsed": true
   },
   "outputs": [],
   "source": [
    "import numpy as np"
   ]
  },
  {
   "cell_type": "code",
   "execution_count": 13,
   "metadata": {
    "collapsed": true
   },
   "outputs": [],
   "source": [
    "#获得ｋｍｅｒ的函数\n",
    "d2 = {'a':0, 'A':0, 'g':1, 'G':1, 'c':2, 'C':2, 't':3, 'T':3, 'N':0, 'n':0}\n",
    "def seq_to_kspec(seq):\n",
    "    mat = np.zeros((4096,1))\n",
    "    k = 0\n",
    "    if len(seq)<6:\n",
    "        return mat\n",
    "    for i in range(6):\n",
    "        k = k*4 + d2[seq[i]]\n",
    "    mat[k]+=1  \n",
    "    for i in range(6,len(seq)):\n",
    "        k = k - 4**5*d2[seq[i-6]]\n",
    "        k = k*4 + d2[seq[i]]\n",
    "        mat[k] += 1  \n",
    "    return mat"
   ]
  },
  {
   "cell_type": "code",
   "execution_count": 6,
   "metadata": {
    "collapsed": false
   },
   "outputs": [],
   "source": [
    "\n",
    "labels=hkl.load('./Gen_data/15_label.hkl')\n",
    "ProA =hkl.load('./Gen_data/15_A0.hkl')\n",
    "ProB= hkl.load('./Gen_data/15_B0.hkl')"
   ]
  },
  {
   "cell_type": "code",
   "execution_count": 20,
   "metadata": {
    "collapsed": false
   },
   "outputs": [],
   "source": [
    "PESeq =dict()\n",
    "PESeq['label'] =[]\n",
    "PESeq['ProA-Seq'] =[]\n",
    "PESeq['ProB-Seq'] = []\n",
    "PESeq['ProA-Kmer']=[]\n",
    "PESeq['ProB-Kmer']=[]\n",
    "PESeq['index']=[]\n",
    "\n",
    "    "
   ]
  },
  {
   "cell_type": "code",
   "execution_count": 21,
   "metadata": {
    "collapsed": false
   },
   "outputs": [],
   "source": [
    "for index in range(len(labels)):\n",
    "    PESeq['label'].append(labels[index])\n",
    "    PESeq['ProA-Seq'].append(ProA[index])\n",
    "    PESeq['ProB-Seq'].append(ProB[index])\n",
    "    PESeq['ProA-Kmer'].append(seq_to_kspec(ProA[index]))\n",
    "    PESeq['ProB-Kmer'].append(seq_to_kspec(ProB[index]))\n",
    "    PESeq['index'].append(index)\n",
    "    "
   ]
  },
  {
   "cell_type": "code",
   "execution_count": 22,
   "metadata": {
    "collapsed": false
   },
   "outputs": [
    {
     "name": "stdout",
     "output_type": "stream",
     "text": [
      "(18698, 4096, 2)\n",
      "(18698,)\n"
     ]
    }
   ],
   "source": [
    "# Get X,Y with   limite  making positive and negative samples 's numbers is the same\n",
    "X=[]\n",
    "Y=[]\n",
    "for index in range( len(PESeq['label'])):\n",
    "    Y.append(PESeq['label'][index])\n",
    "    X.append(np.append(PESeq['ProA-Kmer'][index],PESeq['ProB-Kmer'][index],axis=1))\n",
    "print np.shape(X)\n",
    "print np.shape(Y)\n",
    "X = np.array(X)\n",
    "Y  = np.array(Y)\n",
    "\n",
    "\n",
    "index= range(len(PESeq['label']))"
   ]
  },
  {
   "cell_type": "code",
   "execution_count": 23,
   "metadata": {
    "collapsed": false
   },
   "outputs": [
    {
     "name": "stderr",
     "output_type": "stream",
     "text": [
      "Using Theano backend.\n",
      "WARNING (theano.sandbox.cuda): CUDA is installed, but device gpu is not available  (error: Unable to get the number of gpus available: CUDA driver version is insufficient for CUDA runtime version)\n"
     ]
    }
   ],
   "source": [
    "from keras.utils.np_utils import to_categorical"
   ]
  },
  {
   "cell_type": "code",
   "execution_count": 24,
   "metadata": {
    "collapsed": false
   },
   "outputs": [],
   "source": [
    "\n",
    "VALIDATION_SPLIT =0.2\n",
    "\n",
    "np.random.seed(1234)\n",
    "\n",
    "np.random.shuffle(index)\n",
    "nb_validation_samples = int(VALIDATION_SPLIT*len(Y))"
   ]
  },
  {
   "cell_type": "code",
   "execution_count": 25,
   "metadata": {
    "collapsed": false
   },
   "outputs": [],
   "source": [
    "\n",
    "x_train = X[index[: - nb_validation_samples]]\n",
    "y_train = Y[index[:-nb_validation_samples]]\n",
    "x_val = X[index[-nb_validation_samples:]]\n",
    "y_val =Y[index[-nb_validation_samples:]]\n",
    "\n"
   ]
  },
  {
   "cell_type": "code",
   "execution_count": 26,
   "metadata": {
    "collapsed": false,
    "scrolled": true
   },
   "outputs": [],
   "source": [
    "y_train = to_categorical(y_train) #one-hot 编码labels\n",
    "#y_val 其实没必要 one-hot编码\n",
    "y_val = to_categorical(np.asarray(y_val))"
   ]
  },
  {
   "cell_type": "code",
   "execution_count": 27,
   "metadata": {
    "collapsed": false
   },
   "outputs": [
    {
     "name": "stdout",
     "output_type": "stream",
     "text": [
      "x_train_shape: (14959, 4096, 2)\n",
      "y_train_shape: (14959, 2)\n"
     ]
    }
   ],
   "source": [
    "print 'x_train_shape:',np.shape(x_train)\n",
    "print 'y_train_shape:',np.shape(y_train)"
   ]
  },
  {
   "cell_type": "code",
   "execution_count": 28,
   "metadata": {
    "collapsed": true
   },
   "outputs": [],
   "source": [
    "import hickle as hkl"
   ]
  },
  {
   "cell_type": "code",
   "execution_count": 29,
   "metadata": {
    "collapsed": true
   },
   "outputs": [],
   "source": [
    "hkl.dump(x_val,'./Gen_data/15_x_val.hkl')\n",
    "hkl.dump(y_val,'./Gen_data/15_y_val.hkl')\n",
    "hkl.dump(x_train,'./Gen_data/15_x_train.hkl')\n",
    "hkl.dump(y_train,'./Gen_data/15_y_train.hkl')"
   ]
  },
  {
   "cell_type": "code",
   "execution_count": 1,
   "metadata": {
    "collapsed": false
   },
   "outputs": [],
   "source": [
    "import hickle as hkl\n",
    "x_val = hkl.load('./Gen_data/15_x_val.hkl')\n",
    "y_val = hkl.load('./Gen_data/15_y_val.hkl')\n",
    "x_train = hkl.load('./Gen_data/15_x_train.hkl')\n",
    "y_train = hkl.load('./Gen_data/15_y_train.hkl')"
   ]
  },
  {
   "cell_type": "markdown",
   "metadata": {},
   "source": [
    "# Make Network"
   ]
  },
  {
   "cell_type": "code",
   "execution_count": 2,
   "metadata": {
    "collapsed": false
   },
   "outputs": [
    {
     "name": "stderr",
     "output_type": "stream",
     "text": [
      "Using Theano backend.\n",
      "WARNING (theano.sandbox.cuda): CUDA is installed, but device gpu is not available  (error: Unable to get the number of gpus available: CUDA driver version is insufficient for CUDA runtime version)\n"
     ]
    }
   ],
   "source": [
    "from keras.layers import Embedding\n",
    "from keras.layers import Dense,Input,Activation\n",
    "from keras.layers import Embedding, LSTM, Bidirectional,GRU,InputLayer\n",
    "from keras.models import Model,Sequential\n",
    "from  keras.regularizers import ActivityRegularizer\n",
    "from keras.layers.core import Dropout,Flatten"
   ]
  },
  {
   "cell_type": "code",
   "execution_count": 3,
   "metadata": {
    "collapsed": true
   },
   "outputs": [],
   "source": [
    "from keras import layers"
   ]
  },
  {
   "cell_type": "code",
   "execution_count": 18,
   "metadata": {
    "collapsed": true
   },
   "outputs": [],
   "source": [
    "kmer_input = Input(shape=(4096,2), dtype='float32')\n",
    "flat = Flatten()(kmer_input)\n",
    "\n",
    "dense1 = Dense(64)(flat)\n",
    "\n",
    "dense2 =Dense(32)(dense1)\n",
    "\n",
    "preds = Dense(len( y_train[0]), activation='softmax',activity_regularizer= ActivityRegularizer(l2=0.005))(dense2)\n",
    "\n",
    "model  = Model (kmer_input,preds)"
   ]
  },
  {
   "cell_type": "code",
   "execution_count": 16,
   "metadata": {
    "collapsed": true
   },
   "outputs": [
    {
     "name": "stdout",
     "output_type": "stream",
     "text": [
      "[[[  0.  11.]\n",
      "  [  0.   1.]\n",
      "  [  2.   1.]\n",
      "  ..., \n",
      "  [  0.   0.]\n",
      "  [  0.   1.]\n",
      "  [  0.   0.]]\n",
      "\n",
      " [[  1.   1.]\n",
      "  [  1.   1.]\n",
      "  [  1.   2.]\n",
      "  ..., \n",
      "  [  0.   0.]\n",
      "  [  2.   2.]\n",
      "  [  1.   0.]]\n",
      "\n",
      " [[  5.   0.]\n",
      "  [  3.   0.]\n",
      "  [  1.   0.]\n",
      "  ..., \n",
      "  [  0.   3.]\n",
      "  [  1.   2.]\n",
      "  [  0.   1.]]\n",
      "\n",
      " [[  3.   0.]\n",
      "  [  2.   2.]\n",
      "  [  1.   0.]\n",
      "  ..., \n",
      "  [  2.   1.]\n",
      "  [  1.   1.]\n",
      "  [  0.   2.]]\n",
      "\n",
      " [[  0.   1.]\n",
      "  [  0.   1.]\n",
      "  [  0.   0.]\n",
      "  ..., \n",
      "  [  2.   0.]\n",
      "  [  0.   0.]\n",
      "  [  1.   0.]]]\n"
     ]
    }
   ],
   "source": [
    "print x_val[:5]"
   ]
  },
  {
   "cell_type": "code",
   "execution_count": 19,
   "metadata": {
    "collapsed": false,
    "scrolled": true
   },
   "outputs": [
    {
     "name": "stdout",
     "output_type": "stream",
     "text": [
      "model fitting - attention LSTM network\n",
      "____________________________________________________________________________________________________\n",
      "Layer (type)                     Output Shape          Param #     Connected to                     \n",
      "====================================================================================================\n",
      "input_2 (InputLayer)             (None, 4096, 2)       0                                            \n",
      "____________________________________________________________________________________________________\n",
      "flatten_2 (Flatten)              (None, 8192)          0           input_2[0][0]                    \n",
      "____________________________________________________________________________________________________\n",
      "dense_4 (Dense)                  (None, 64)            524352      flatten_2[0][0]                  \n",
      "____________________________________________________________________________________________________\n",
      "dense_5 (Dense)                  (None, 32)            2080        dense_4[0][0]                    \n",
      "____________________________________________________________________________________________________\n",
      "dense_6 (Dense)                  (None, 2)             66          dense_5[0][0]                    \n",
      "====================================================================================================\n",
      "Total params: 526,498\n",
      "Trainable params: 526,498\n",
      "Non-trainable params: 0\n",
      "____________________________________________________________________________________________________\n"
     ]
    }
   ],
   "source": [
    "model.compile(loss='mse',\n",
    "              optimizer='rmsprop',\n",
    "              metrics=['acc'])\n",
    "\n",
    "print(\"model fitting - attention LSTM network\")\n",
    "model.summary()\n"
   ]
  },
  {
   "cell_type": "code",
   "execution_count": 21,
   "metadata": {
    "collapsed": false
   },
   "outputs": [
    {
     "name": "stdout",
     "output_type": "stream",
     "text": [
      "Train on 14959 samples, validate on 3739 samples\n",
      "Epoch 1/50\n",
      "14959/14959 [==============================] - 11s - loss: 0.9958 - acc: 0.5020 - val_loss: 0.9575 - val_acc: 0.5231\n",
      "Epoch 2/50\n",
      "14959/14959 [==============================] - 9s - loss: 1.0002 - acc: 0.4987 - val_loss: 0.9916 - val_acc: 0.5052\n",
      "Epoch 3/50\n",
      "14959/14959 [==============================] - 7s - loss: 1.0012 - acc: 0.4974 - val_loss: 0.9916 - val_acc: 0.5052\n",
      "Epoch 4/50\n",
      "14959/14959 [==============================] - 7s - loss: 0.9988 - acc: 0.5000 - val_loss: 1.0014 - val_acc: 0.4953\n",
      "Epoch 5/50\n",
      "14959/14959 [==============================] - 8s - loss: 0.9955 - acc: 0.5026 - val_loss: 0.9674 - val_acc: 0.5162\n",
      "Epoch 6/50\n",
      "14959/14959 [==============================] - 7s - loss: 0.9779 - acc: 0.5147 - val_loss: 1.0018 - val_acc: 0.4948\n",
      "Epoch 7/50\n",
      "14959/14959 [==============================] - 12s - loss: 0.9977 - acc: 0.5015 - val_loss: 1.0020 - val_acc: 0.4948\n",
      "Epoch 8/50\n",
      "14959/14959 [==============================] - 8s - loss: 0.9979 - acc: 0.5013 - val_loss: 1.0020 - val_acc: 0.4948\n",
      "Epoch 9/50\n",
      "14959/14959 [==============================] - 8s - loss: 0.9979 - acc: 0.5013 - val_loss: 1.0020 - val_acc: 0.4948\n",
      "Epoch 10/50\n",
      "14959/14959 [==============================] - 8s - loss: 0.9979 - acc: 0.5013 - val_loss: 1.0018 - val_acc: 0.4951\n",
      "Epoch 11/50\n",
      "14959/14959 [==============================] - 3s - loss: 0.9978 - acc: 0.5014 - val_loss: 1.0020 - val_acc: 0.4948\n",
      "Epoch 12/50\n",
      "14959/14959 [==============================] - 3s - loss: 0.9979 - acc: 0.5013 - val_loss: 1.0020 - val_acc: 0.4948\n",
      "Epoch 13/50\n",
      "14959/14959 [==============================] - 5s - loss: 0.9979 - acc: 0.5013 - val_loss: 1.0020 - val_acc: 0.4948\n",
      "Epoch 14/50\n",
      "14959/14959 [==============================] - 6s - loss: 0.9979 - acc: 0.5013 - val_loss: 1.0020 - val_acc: 0.4948\n",
      "Epoch 15/50\n",
      "14959/14959 [==============================] - 9s - loss: 0.9979 - acc: 0.5013 - val_loss: 1.0020 - val_acc: 0.4948\n",
      "Epoch 16/50\n",
      "14959/14959 [==============================] - 10s - loss: 0.9979 - acc: 0.5013 - val_loss: 1.0020 - val_acc: 0.4948\n",
      "Epoch 17/50\n",
      "14959/14959 [==============================] - 10s - loss: 0.9979 - acc: 0.5013 - val_loss: 1.0020 - val_acc: 0.4948\n",
      "Epoch 18/50\n",
      "14959/14959 [==============================] - 10s - loss: 0.9979 - acc: 0.5013 - val_loss: 1.0020 - val_acc: 0.4948\n",
      "Epoch 19/50\n",
      "14959/14959 [==============================] - 10s - loss: 0.9979 - acc: 0.5013 - val_loss: 1.0020 - val_acc: 0.4948\n",
      "Epoch 20/50\n",
      "14959/14959 [==============================] - 10s - loss: 0.9979 - acc: 0.5013 - val_loss: 1.0020 - val_acc: 0.4948\n",
      "Epoch 21/50\n",
      "14959/14959 [==============================] - 10s - loss: 0.9979 - acc: 0.5013 - val_loss: 1.0020 - val_acc: 0.4948\n",
      "Epoch 22/50\n",
      "14959/14959 [==============================] - 10s - loss: 0.9979 - acc: 0.5013 - val_loss: 1.0020 - val_acc: 0.4948\n",
      "Epoch 23/50\n",
      "14959/14959 [==============================] - 10s - loss: 0.9979 - acc: 0.5013 - val_loss: 1.0020 - val_acc: 0.4948\n",
      "Epoch 24/50\n",
      "14959/14959 [==============================] - 10s - loss: 0.9979 - acc: 0.5013 - val_loss: 1.0020 - val_acc: 0.4948\n",
      "Epoch 25/50\n",
      "14959/14959 [==============================] - 10s - loss: 0.9979 - acc: 0.5013 - val_loss: 1.0020 - val_acc: 0.4948\n",
      "Epoch 26/50\n",
      "14959/14959 [==============================] - 10s - loss: 0.9979 - acc: 0.5013 - val_loss: 1.0020 - val_acc: 0.4948\n",
      "Epoch 27/50\n",
      "14959/14959 [==============================] - 10s - loss: 0.9979 - acc: 0.5013 - val_loss: 1.0020 - val_acc: 0.4948\n",
      "Epoch 28/50\n",
      "14959/14959 [==============================] - 10s - loss: 0.9979 - acc: 0.5013 - val_loss: 1.0020 - val_acc: 0.4948\n",
      "Epoch 29/50\n",
      "14959/14959 [==============================] - 10s - loss: 0.9979 - acc: 0.5013 - val_loss: 1.0020 - val_acc: 0.4948\n",
      "Epoch 30/50\n",
      "14959/14959 [==============================] - 10s - loss: 0.9979 - acc: 0.5013 - val_loss: 1.0020 - val_acc: 0.4948\n",
      "Epoch 31/50\n",
      "14959/14959 [==============================] - 10s - loss: 0.9979 - acc: 0.5013 - val_loss: 1.0020 - val_acc: 0.4948\n",
      "Epoch 32/50\n",
      "14959/14959 [==============================] - 10s - loss: 0.9979 - acc: 0.5013 - val_loss: 1.0020 - val_acc: 0.4948\n",
      "Epoch 33/50\n",
      "14959/14959 [==============================] - 10s - loss: 0.9979 - acc: 0.5013 - val_loss: 1.0020 - val_acc: 0.4948\n",
      "Epoch 34/50\n",
      "14959/14959 [==============================] - 10s - loss: 0.9979 - acc: 0.5013 - val_loss: 1.0020 - val_acc: 0.4948\n",
      "Epoch 35/50\n",
      "14959/14959 [==============================] - 10s - loss: 0.9979 - acc: 0.5013 - val_loss: 1.0020 - val_acc: 0.4948\n",
      "Epoch 36/50\n",
      "14959/14959 [==============================] - 10s - loss: 0.9979 - acc: 0.5013 - val_loss: 1.0020 - val_acc: 0.4948\n",
      "Epoch 37/50\n",
      "14959/14959 [==============================] - 10s - loss: 0.9979 - acc: 0.5013 - val_loss: 1.0020 - val_acc: 0.4948\n",
      "Epoch 38/50\n",
      "14959/14959 [==============================] - 10s - loss: 0.9979 - acc: 0.5013 - val_loss: 1.0020 - val_acc: 0.4948\n",
      "Epoch 39/50\n",
      "14959/14959 [==============================] - 10s - loss: 0.9979 - acc: 0.5013 - val_loss: 1.0020 - val_acc: 0.4948\n",
      "Epoch 40/50\n",
      "14959/14959 [==============================] - 10s - loss: 0.9979 - acc: 0.5013 - val_loss: 1.0020 - val_acc: 0.4948\n",
      "Epoch 41/50\n",
      "14959/14959 [==============================] - 10s - loss: 0.9979 - acc: 0.5013 - val_loss: 1.0020 - val_acc: 0.4948\n",
      "Epoch 42/50\n",
      "14959/14959 [==============================] - 10s - loss: 0.9979 - acc: 0.5013 - val_loss: 1.0020 - val_acc: 0.4948\n",
      "Epoch 43/50\n",
      "14959/14959 [==============================] - 10s - loss: 0.9979 - acc: 0.5013 - val_loss: 1.0020 - val_acc: 0.4948\n",
      "Epoch 44/50\n",
      "14959/14959 [==============================] - 10s - loss: 0.9979 - acc: 0.5013 - val_loss: 1.0020 - val_acc: 0.4948\n",
      "Epoch 45/50\n",
      "14959/14959 [==============================] - 10s - loss: 0.9979 - acc: 0.5013 - val_loss: 1.0020 - val_acc: 0.4948\n",
      "Epoch 46/50\n",
      "14959/14959 [==============================] - 10s - loss: 0.9979 - acc: 0.5013 - val_loss: 1.0020 - val_acc: 0.4948\n",
      "Epoch 47/50\n",
      "14959/14959 [==============================] - 10s - loss: 0.9979 - acc: 0.5013 - val_loss: 1.0020 - val_acc: 0.4948\n",
      "Epoch 48/50\n",
      "14959/14959 [==============================] - 10s - loss: 0.9979 - acc: 0.5013 - val_loss: 1.0020 - val_acc: 0.4948\n",
      "Epoch 49/50\n",
      "14959/14959 [==============================] - 10s - loss: 0.9979 - acc: 0.5013 - val_loss: 1.0020 - val_acc: 0.4948\n",
      "Epoch 50/50\n",
      "14959/14959 [==============================] - 10s - loss: 0.9979 - acc: 0.5013 - val_loss: 1.0020 - val_acc: 0.4948\n"
     ]
    },
    {
     "data": {
      "text/plain": [
       "<keras.callbacks.History at 0x7f98cd1fc890>"
      ]
     },
     "execution_count": 21,
     "metadata": {},
     "output_type": "execute_result"
    }
   ],
   "source": [
    "model.fit(x_train, y_train, validation_data=(x_val, y_val), nb_epoch=50, batch_size=100)"
   ]
  },
  {
   "cell_type": "code",
   "execution_count": 40,
   "metadata": {
    "collapsed": false
   },
   "outputs": [],
   "source": [
    "pro = model.predict(x_val)"
   ]
  },
  {
   "cell_type": "code",
   "execution_count": 41,
   "metadata": {
    "collapsed": false
   },
   "outputs": [],
   "source": [
    "y_pred = [  1 if item1>item0 else 0 for item0,item1 in pro]"
   ]
  },
  {
   "cell_type": "code",
   "execution_count": 42,
   "metadata": {
    "collapsed": true
   },
   "outputs": [],
   "source": [
    "from sklearn import metrics"
   ]
  },
  {
   "cell_type": "code",
   "execution_count": 43,
   "metadata": {
    "collapsed": false
   },
   "outputs": [
    {
     "name": "stdout",
     "output_type": "stream",
     "text": [
      "0.505215298208\n",
      "0.5\n",
      "0.0\n"
     ]
    },
    {
     "name": "stderr",
     "output_type": "stream",
     "text": [
      "/home/yinqijin/.local/lib/python2.7/site-packages/sklearn/metrics/classification.py:1074: UndefinedMetricWarning: F-score is ill-defined and being set to 0.0 due to no predicted samples.\n",
      "  'precision', 'predicted', average, warn_for)\n"
     ]
    }
   ],
   "source": [
    "acc = metrics.accuracy_score(y_val[:,1],y_pred)\n",
    "print acc\n",
    "\n",
    "auc = metrics.roc_auc_score(y_val[:,1],pro[:,1])\n",
    "print auc\n",
    "\n",
    "f1_score = metrics.f1_score(y_val[:,1],y_pred)\n",
    "print f1_score"
   ]
  },
  {
   "cell_type": "markdown",
   "metadata": {},
   "source": [
    "# Save&Search"
   ]
  },
  {
   "cell_type": "code",
   "execution_count": null,
   "metadata": {
    "collapsed": true
   },
   "outputs": [],
   "source": [
    "dir(model)"
   ]
  },
  {
   "cell_type": "code",
   "execution_count": null,
   "metadata": {
    "collapsed": true
   },
   "outputs": [],
   "source": [
    "model.__dict__"
   ]
  },
  {
   "cell_type": "code",
   "execution_count": null,
   "metadata": {
    "collapsed": true
   },
   "outputs": [],
   "source": []
  },
  {
   "cell_type": "code",
   "execution_count": null,
   "metadata": {
    "collapsed": true
   },
   "outputs": [],
   "source": [
    "model.save_weights('./Gen_data/15_Dense.h5')"
   ]
  },
  {
   "cell_type": "code",
   "execution_count": null,
   "metadata": {
    "collapsed": true
   },
   "outputs": [],
   "source": [
    "model.load_weights('./Gen_data/15_Dense.h5',by_name=True)"
   ]
  },
  {
   "cell_type": "code",
   "execution_count": null,
   "metadata": {
    "collapsed": true
   },
   "outputs": [],
   "source": []
  }
 ],
 "metadata": {
  "anaconda-cloud": {},
  "kernelspec": {
   "display_name": "Python [conda root]",
   "language": "python",
   "name": "conda-root-py"
  },
  "language_info": {
   "codemirror_mode": {
    "name": "ipython",
    "version": 2
   },
   "file_extension": ".py",
   "mimetype": "text/x-python",
   "name": "python",
   "nbconvert_exporter": "python",
   "pygments_lexer": "ipython2",
   "version": "2.7.12"
  }
 },
 "nbformat": 4,
 "nbformat_minor": 1
}
