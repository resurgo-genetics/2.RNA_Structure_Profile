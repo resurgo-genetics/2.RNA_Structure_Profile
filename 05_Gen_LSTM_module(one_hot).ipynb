{
 "cells": [
  {
   "cell_type": "markdown",
   "metadata": {},
   "source": [
    "# Import Data"
   ]
  },
  {
   "cell_type": "code",
   "execution_count": 4,
   "metadata": {
    "collapsed": true
   },
   "outputs": [],
   "source": [
    "import hickle  as hkl"
   ]
  },
  {
   "cell_type": "code",
   "execution_count": 5,
   "metadata": {
    "collapsed": false
   },
   "outputs": [],
   "source": [
    "data2 =hkl.load('./Gen_data/CROSS_Net_input.hkl')"
   ]
  },
  {
   "cell_type": "code",
   "execution_count": 9,
   "metadata": {
    "collapsed": true
   },
   "outputs": [],
   "source": [
    "seq_len  = 13   # the length  of  every  sequence"
   ]
  },
  {
   "cell_type": "markdown",
   "metadata": {},
   "source": [
    "# Prepare Data"
   ]
  },
  {
   "cell_type": "code",
   "execution_count": 10,
   "metadata": {
    "collapsed": true
   },
   "outputs": [],
   "source": [
    "import numpy as np"
   ]
  },
  {
   "cell_type": "code",
   "execution_count": 76,
   "metadata": {
    "collapsed": false
   },
   "outputs": [],
   "source": [
    "X = data2['mat']\n",
    "Y = data2['score']\n",
    "\n",
    "Y_ = [ item[(len(item)-1)/2] for item in Y]\n",
    "Y_ = np.array(Y_)\n",
    "\n",
    "X_ = np.zeros((len(X),4,seq_len))\n",
    "X_[:,:,:] = X[:]\n",
    "\n"
   ]
  },
  {
   "cell_type": "code",
   "execution_count": 77,
   "metadata": {
    "collapsed": false
   },
   "outputs": [
    {
     "name": "stdout",
     "output_type": "stream",
     "text": [
      "(1111101, 13, 4)\n"
     ]
    }
   ],
   "source": [
    "X_=X_.transpose((0,2,1))\n",
    "print xx.shape"
   ]
  },
  {
   "cell_type": "markdown",
   "metadata": {},
   "source": [
    "#内存过大 只取一部分\n",
    "X_ = X_[:60000,:,:]\n",
    "Y_ = Y_[:60000]"
   ]
  },
  {
   "cell_type": "code",
   "execution_count": 78,
   "metadata": {
    "collapsed": true
   },
   "outputs": [],
   "source": [
    "from sklearn.cross_validation import ShuffleSplit\n",
    "rs = ShuffleSplit(len(Y_), n_iter=1)"
   ]
  },
  {
   "cell_type": "code",
   "execution_count": 79,
   "metadata": {
    "collapsed": true
   },
   "outputs": [],
   "source": [
    "for train_idx, test_idx in rs:\n",
    "    X_train = X_[train_idx,:]\n",
    "    y_train = Y_[train_idx]\n",
    "    X_test = X_[test_idx,:]\n",
    "    y_test = Y_[test_idx]"
   ]
  },
  {
   "cell_type": "code",
   "execution_count": 80,
   "metadata": {
    "collapsed": false
   },
   "outputs": [
    {
     "name": "stdout",
     "output_type": "stream",
     "text": [
      "[[[ 0.  0.  0.  1.]\n",
      "  [ 0.  0.  0.  1.]\n",
      "  [ 0.  1.  0.  0.]\n",
      "  [ 0.  0.  0.  1.]\n",
      "  [ 0.  1.  0.  0.]\n",
      "  [ 0.  1.  0.  0.]\n",
      "  [ 0.  0.  1.  0.]\n",
      "  [ 0.  0.  1.  0.]\n",
      "  [ 1.  0.  0.  0.]\n",
      "  [ 0.  0.  0.  1.]\n",
      "  [ 0.  0.  0.  1.]\n",
      "  [ 1.  0.  0.  0.]\n",
      "  [ 0.  0.  0.  1.]]\n",
      "\n",
      " [[ 0.  1.  0.  0.]\n",
      "  [ 0.  0.  1.  0.]\n",
      "  [ 0.  0.  0.  1.]\n",
      "  [ 0.  0.  0.  1.]\n",
      "  [ 0.  1.  0.  0.]\n",
      "  [ 0.  1.  0.  0.]\n",
      "  [ 1.  0.  0.  0.]\n",
      "  [ 0.  1.  0.  0.]\n",
      "  [ 0.  0.  1.  0.]\n",
      "  [ 0.  0.  0.  1.]\n",
      "  [ 0.  0.  0.  1.]\n",
      "  [ 0.  0.  0.  1.]\n",
      "  [ 0.  1.  0.  0.]]]\n",
      "[ 0.055      -0.30199999]\n"
     ]
    }
   ],
   "source": [
    "X_train = X_train.astype('float32')\n",
    "y_train = y_train.astype('float32')\n",
    "X_test = X_test.astype('float32')\n",
    "y_test = y_test.astype('float32')\n",
    "print X_train[:2]\n",
    "print y_train[:2]"
   ]
  },
  {
   "cell_type": "markdown",
   "metadata": {},
   "source": [
    "# Generate LSTM Network"
   ]
  },
  {
   "cell_type": "code",
   "execution_count": 18,
   "metadata": {
    "collapsed": false
   },
   "outputs": [
    {
     "name": "stderr",
     "output_type": "stream",
     "text": [
      "Using gpu device 0: GeForce GTX TITAN X (CNMeM is disabled, cuDNN 5105)\n"
     ]
    }
   ],
   "source": [
    "import theano\n",
    "import theano.tensor as T\n",
    "import lasagne"
   ]
  },
  {
   "cell_type": "code",
   "execution_count": 93,
   "metadata": {
    "collapsed": false
   },
   "outputs": [],
   "source": [
    "\n",
    "l_in = lasagne.layers.InputLayer(shape=(None, seq_len, 4)) # one-hot编码\n",
    "\n",
    "\n",
    "# Gates of the LSTM\n",
    "# All gates have initializers for the input-to-gate and hidden state-to-gate\n",
    "# weight matrices, the cell-to-gate weight vector, the bias vector, and the nonlinearity.\n",
    "# The convention is that gates use the standard sigmoid nonlinearity,\n",
    "# which is the default for the Gate class.\n",
    "gate_parameters = lasagne.layers.recurrent.Gate(\n",
    "    W_in=lasagne.init.Orthogonal(), W_hid=lasagne.init.Orthogonal(),\n",
    "    b=lasagne.init.Constant(0.))\n",
    "\n",
    "cell_parameters = lasagne.layers.recurrent.Gate(\n",
    "    W_in=lasagne.init.Orthogonal(), W_hid=lasagne.init.Orthogonal(),\n",
    "    # Setting W_cell to None denotes that no cell connection will be used.\n",
    "    W_cell=None, b=lasagne.init.Constant(0.),\n",
    "    # By convention, the cell nonlinearity is tanh in an LSTM.\n",
    "    nonlinearity=lasagne.nonlinearities.tanh)\n",
    "\n",
    "\n",
    "\n",
    "# Our LSTM will have 10 hidden/cell units\n",
    "N_HIDDEN = 20\n",
    "l_lstm = lasagne.layers.recurrent.LSTMLayer(\n",
    "    l_in, N_HIDDEN,\n",
    "    # We need to specify a separate input for masks\n",
    "    mask_input=None,\n",
    "    # Here, we supply the gate parameters for each gate\n",
    "    ingate=gate_parameters, forgetgate=gate_parameters,\n",
    "    cell=cell_parameters, outgate=gate_parameters,\n",
    "    # We'll learn the initialization and use gradient clipping\n",
    "    learn_init=True, grad_clipping=100.)\n",
    "\n",
    "\n",
    "\n",
    "\n",
    "# The \"backwards\" layer is the same as the first,\n",
    "# except that the backwards argument is set to True.\n",
    "l_lstm_back = lasagne.layers.recurrent.LSTMLayer(\n",
    "    l_in, N_HIDDEN, ingate=gate_parameters,\n",
    "    mask_input=None, forgetgate=gate_parameters,\n",
    "    cell=cell_parameters, outgate=gate_parameters,\n",
    "    learn_init=True, grad_clipping=100., backwards=True)\n",
    "# We'll combine the forward and backward layer output by summing.\n",
    "# Merge layers take in lists of layers to merge as input.\n",
    "l_sum = lasagne.layers.ElemwiseSumLayer([l_lstm, l_lstm_back])\n",
    "\n",
    "\n",
    "\n",
    "# First, retrieve symbolic variables for the input shape\n",
    "n_batch, n_time_steps, n_features = l_in.input_var.shape\n",
    "# Now, squash the n_batch and n_time_steps dimensions\n",
    "l_reshape = lasagne.layers.ReshapeLayer(l_sum, (-1, N_HIDDEN))\n",
    "# Now, we can apply feed-forward layers as usual.\n",
    "# We want the network to predict a single value, the sum, so we'll use a single unit.\n",
    "l_dense0 = lasagne.layers.DenseLayer(\n",
    "    l_reshape, num_units=5, nonlinearity=lasagne.nonlinearities.tanh)\n",
    "l_dense = lasagne.layers.DenseLayer(\n",
    "    l_reshape, num_units=1, nonlinearity=lasagne.nonlinearities.tanh)\n",
    "# Now, the shape will be n_batch*n_timesteps, 1.  We can then reshape to\n",
    "# n_batch, n_timesteps to get a single value for each timstep from each sequence\n",
    "l_out = lasagne.layers.ReshapeLayer(l_dense, (n_batch, n_time_steps))"
   ]
  },
  {
   "cell_type": "code",
   "execution_count": null,
   "metadata": {
    "collapsed": false
   },
   "outputs": [],
   "source": [
    "# Symbolic variable for the target network output.\n",
    "# It will be of shape n_batch, because there's only 1 target value per sequence.\n",
    "target_values = T.vector('target_output')\n",
    "\n",
    "# lasagne.layers.get_output produces an expression for the output of the net\n",
    "network_output = lasagne.layers.get_output(l_out)\n",
    "# The value we care about is the final value produced for each sequence\n",
    "# so we simply slice it out.\n",
    "predicted_values = network_output[:, -1]\n",
    "# Our cost will be mean-squared error\n",
    "cost = T.mean((predicted_values - target_values)**2)\n",
    "# Retrieve all parameters from the network\n",
    "all_params = lasagne.layers.get_all_params(l_out)\n",
    "# Compute adam updates for training\n",
    "updates = lasagne.updates.adam(cost, all_params)\n",
    "# Theano functions for training and computing cost\n",
    "train = theano.function(\n",
    "    [l_in.input_var, target_values ],\n",
    "    cost, updates=updates)\n",
    "compute_cost = theano.function(\n",
    "    [l_in.input_var, target_values], cost)\n",
    "\n"
   ]
  },
  {
   "cell_type": "code",
   "execution_count": 59,
   "metadata": {
    "collapsed": false
   },
   "outputs": [],
   "source": [
    "import random\n",
    "mylist =range(len(y_train))\n"
   ]
  },
  {
   "cell_type": "code",
   "execution_count": null,
   "metadata": {
    "collapsed": false
   },
   "outputs": [],
   "source": [
    "# We'll train the network with 10 epochs of 100 minibatches each\n",
    "NUM_EPOCHS = 200\n",
    "EPOCH_SIZE = 500\n",
    "sample_Num = 60000\n",
    "valid = []\n",
    "for epoch in range(NUM_EPOCHS):\n",
    "    for _ in range(EPOCH_SIZE):      \n",
    "        random.shuffle(mylist)\n",
    "        #内存不够，一次不能全部读入所有样本，因此，每次抽取定量样本来训练\n",
    "        x_banch = X_train[mylist[:sample_Num],:,:]\n",
    "        y_banch = y_train[mylist[:sample_Num]]\n",
    "        train(x_banch,y_banch)\n",
    "    cost_val = compute_cost(X_test, y_test)\n",
    "    print(\"Epoch {} validation cost = {}\".format(epoch + 1, cost_val))\n",
    "    valid.append(cost_val)\n",
    "    if valid[-1]> valid[-2]:\n",
    "        break "
   ]
  },
  {
   "cell_type": "markdown",
   "metadata": {},
   "source": [
    "# Test The behavior"
   ]
  },
  {
   "cell_type": "code",
   "execution_count": 83,
   "metadata": {
    "collapsed": true
   },
   "outputs": [],
   "source": [
    "mylist2 =range(len(y_test))\n",
    "random.shuffle(mylist2)\n",
    "x_val = X_test[  mylist2[:10] ,:,:]\n",
    "y_val = y_test[   mylist2[:10] ]"
   ]
  },
  {
   "cell_type": "code",
   "execution_count": 84,
   "metadata": {
    "collapsed": true
   },
   "outputs": [],
   "source": [
    "predict = theano.function( [l_in.input_var],predicted_values)"
   ]
  },
  {
   "cell_type": "code",
   "execution_count": 85,
   "metadata": {
    "collapsed": false
   },
   "outputs": [
    {
     "name": "stdout",
     "output_type": "stream",
     "text": [
      "-0.0808321 \t\t-0.327\n",
      "0.104185 \t\t0.891\n",
      "-0.0370687 \t\t-0.668\n",
      "0.264603 \t\t-0.338\n",
      "0.0285741 \t\t-0.253\n",
      "-0.0532506 \t\t-0.242\n",
      "-0.0163353 \t\t-0.159\n",
      "-0.0866097 \t\t-1.104\n",
      "0.226316 \t\t-0.621\n",
      "0.0118921 \t\t-0.818\n"
     ]
    }
   ],
   "source": [
    "y_pre = predict(x_val)\n",
    "for item in range(len(y_val)):\n",
    "    print y_pre[item],'\\t\\t',y_val[item]"
   ]
  },
  {
   "cell_type": "code",
   "execution_count": 86,
   "metadata": {
    "collapsed": true
   },
   "outputs": [],
   "source": [
    "import matplotlib.pyplot as plt\n",
    "%matplotlib inline"
   ]
  },
  {
   "cell_type": "code",
   "execution_count": 87,
   "metadata": {
    "collapsed": false
   },
   "outputs": [
    {
     "data": {
      "text/plain": [
       "<matplotlib.collections.PathCollection at 0x7f5c4f7a1050>"
      ]
     },
     "execution_count": 87,
     "metadata": {},
     "output_type": "execute_result"
    },
    {
     "data": {
      "image/png": "[encoded data removed]",
      "text/plain": [
       "<matplotlib.figure.Figure at 0x7f5c4c0cc510>"
      ]
     },
     "metadata": {},
     "output_type": "display_data"
    }
   ],
   "source": [
    "y_pred = predict(X_test)\n",
    "plt.scatter(y_test,y_pred,0.1)"
   ]
  },
  {
   "cell_type": "code",
   "execution_count": 88,
   "metadata": {
    "collapsed": true
   },
   "outputs": [],
   "source": [
    "from scipy import stats"
   ]
  },
  {
   "cell_type": "code",
   "execution_count": 90,
   "metadata": {
    "collapsed": false
   },
   "outputs": [
    {
     "name": "stdout",
     "output_type": "stream",
     "text": [
      "0.136826561932\n"
     ]
    }
   ],
   "source": [
    "slope, intercept, r_value, p_value, std_err = stats.linregress(y_test,y_pred)\n",
    "print r_value"
   ]
  },
  {
   "cell_type": "markdown",
   "metadata": {},
   "source": [
    "# Save Network Parmas"
   ]
  },
  {
   "cell_type": "code",
   "execution_count": 92,
   "metadata": {
    "collapsed": false
   },
   "outputs": [
    {
     "ename": "AttributeError",
     "evalue": "'DenseLayer' object has no attribute 'get_all_params_values'",
     "output_type": "error",
     "traceback": [
      "\u001b[0;31m---------------------------------------------------------------------------\u001b[0m",
      "\u001b[0;31mAttributeError\u001b[0m                            Traceback (most recent call last)",
      "\u001b[0;32m<ipython-input-92-dfc60149114e>\u001b[0m in \u001b[0;36m<module>\u001b[0;34m()\u001b[0m\n\u001b[1;32m      1\u001b[0m \u001b[0;32mimport\u001b[0m \u001b[0mpickle\u001b[0m\u001b[0;34m\u001b[0m\u001b[0m\n\u001b[1;32m      2\u001b[0m \u001b[0msource\u001b[0m \u001b[0;34m=\u001b[0m \u001b[0;34m'./Gen_Data/05_LSTM_Parms.hkl'\u001b[0m\u001b[0;34m\u001b[0m\u001b[0m\n\u001b[0;32m----> 3\u001b[0;31m \u001b[0mparams\u001b[0m \u001b[0;34m=\u001b[0m  \u001b[0ml_dense\u001b[0m\u001b[0;34m.\u001b[0m\u001b[0mget_all_params_values\u001b[0m\u001b[0;34m(\u001b[0m\u001b[0;34m)\u001b[0m\u001b[0;34m\u001b[0m\u001b[0m\n\u001b[0m\u001b[1;32m      4\u001b[0m \u001b[0;32mwith\u001b[0m \u001b[0mopen\u001b[0m\u001b[0;34m(\u001b[0m\u001b[0msource\u001b[0m\u001b[0;34m,\u001b[0m\u001b[0;34m'wb'\u001b[0m\u001b[0;34m)\u001b[0m \u001b[0;32mas\u001b[0m \u001b[0mf\u001b[0m\u001b[0;34m:\u001b[0m\u001b[0;34m\u001b[0m\u001b[0m\n\u001b[1;32m      5\u001b[0m     \u001b[0mpickle\u001b[0m\u001b[0;34m.\u001b[0m\u001b[0mdump\u001b[0m\u001b[0;34m(\u001b[0m\u001b[0mparams\u001b[0m\u001b[0;34m,\u001b[0m\u001b[0mf\u001b[0m\u001b[0;34m,\u001b[0m\u001b[0;34m-\u001b[0m\u001b[0;36m1\u001b[0m\u001b[0;34m)\u001b[0m\u001b[0;34m\u001b[0m\u001b[0m\n",
      "\u001b[0;31mAttributeError\u001b[0m: 'DenseLayer' object has no attribute 'get_all_params_values'"
     ]
    }
   ],
   "source": [
    "import pickle\n",
    "source = './Gen_Data/05_LSTM_Parms.hkl'\n",
    "params =  l_dense.get_all_params_values()\n",
    "with open(source,'wb') as f:\n",
    "    pickle.dump(params,f,-1)"
   ]
  },
  {
   "cell_type": "markdown",
   "metadata": {},
   "source": [
    "# Load Network Params"
   ]
  },
  {
   "cell_type": "code",
   "execution_count": null,
   "metadata": {
    "collapsed": true
   },
   "outputs": [],
   "source": [
    "import pickle\n",
    "source = './Gen_Data/05_LSTM_Parms.hkl'\n",
    "with open(source,'rb') as f:\n",
    "    params = pickle.load(f)\n",
    "    l_out.set_all_paralasagnelues(params)"
   ]
  }
 ],
 "metadata": {
  "anaconda-cloud": {},
  "kernelspec": {
   "display_name": "Python [conda root]",
   "language": "python",
   "name": "conda-root-py"
  },
  "language_info": {
   "codemirror_mode": {
    "name": "ipython",
    "version": 2
   },
   "file_extension": ".py",
   "mimetype": "text/x-python",
   "name": "python",
   "nbconvert_exporter": "python",
   "pygments_lexer": "ipython2",
   "version": "2.7.12"
  }
 },
 "nbformat": 4,
 "nbformat_minor": 1
}
