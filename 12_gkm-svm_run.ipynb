{
 "cells": [
  {
   "cell_type": "code",
   "execution_count": 6,
   "metadata": {
    "collapsed": false
   },
   "outputs": [
    {
     "name": "stdout",
     "output_type": "stream",
     "text": [
      "INFO 2017-03-15 23:41:26: Number of threads is set to 1\n",
      "INFO 2017-03-15 23:41:26: Arguments:\n",
      "INFO 2017-03-15 23:41:26:   posfile = /home/yinqijin/WorkSpace/2.RNA_Structure_Profile/Gen_data/HeLa-S3_pos_train.fa\n",
      "INFO 2017-03-15 23:41:26:   negfile = /home/yinqijin/WorkSpace/2.RNA_Structure_Profile/Gen_data/HeLa-S3_neg_train.fa\n",
      "INFO 2017-03-15 23:41:26:   outprefix = /home/yinqijin/WorkSpace/2.RNA_Structure_Profile/Gen_data/HeLa-S3_out\n",
      "INFO 2017-03-15 23:41:26: Parameters:\n",
      "INFO 2017-03-15 23:41:26:   kernel-type = 4\n",
      "INFO 2017-03-15 23:41:26:   L = 11\n",
      "INFO 2017-03-15 23:41:26:   k = 7\n",
      "INFO 2017-03-15 23:41:26:   d = 3\n",
      "INFO 2017-03-15 23:41:26:   M = 50\n",
      "INFO 2017-03-15 23:41:26:   H = 50\n",
      "INFO 2017-03-15 23:41:26:   C = 1\n",
      "INFO 2017-03-15 23:41:26:   eps = 0.001\n",
      "INFO 2017-03-15 23:41:26:   shrinking = no\n",
      "INFO 2017-03-15 23:41:26: reading 1566 sequences from /home/yinqijin/WorkSpace/2.RNA_Structure_Profile/Gen_data/HeLa-S3_pos_train.fa\n",
      "INFO 2017-03-15 23:41:26: reading... 0\n",
      "INFO 2017-03-15 23:41:39: reading... 1000\n",
      "INFO 2017-03-15 23:41:47: reading... done\n",
      "INFO 2017-03-15 23:41:47: reading 1566 sequences from /home/yinqijin/WorkSpace/2.RNA_Structure_Profile/Gen_data/HeLa-S3_neg_train.fa\n",
      "INFO 2017-03-15 23:41:47: reading... 0\n",
      "INFO 2017-03-15 23:41:57: reading... 1000\n",
      "INFO 2017-03-15 23:42:03: reading... done\n",
      "INFO 2017-03-15 23:42:03: begin SVM training\n",
      "INFO 2017-03-15 23:44:06: iter 100, max_viol=2.24499\n",
      "INFO 2017-03-15 23:45:52: iter 200, max_viol=2.26442\n",
      "INFO 2017-03-15 23:47:52: iter 300, max_viol=2.19245\n",
      "INFO 2017-03-15 23:50:01: iter 400, max_viol=2.14988\n",
      "INFO 2017-03-15 23:51:59: iter 500, max_viol=2.09991\n",
      "INFO 2017-03-15 23:54:03: iter 600, max_viol=1.98981\n",
      "INFO 2017-03-15 23:56:14: iter 700, max_viol=1.84225\n",
      "INFO 2017-03-15 23:58:20: iter 800, max_viol=1.65984\n",
      "INFO 2017-03-16 00:00:23: iter 900, max_viol=1.37536\n",
      "INFO 2017-03-16 00:02:12: iter 1000, max_viol=1.10856\n",
      "INFO 2017-03-16 00:03:45: iter 1100, max_viol=0.879258\n",
      "INFO 2017-03-16 00:04:54: iter 1200, max_viol=0.74502\n",
      "INFO 2017-03-16 00:05:54: iter 1300, max_viol=0.626506\n",
      "INFO 2017-03-16 00:06:49: iter 1400, max_viol=0.507224\n",
      "INFO 2017-03-16 00:07:24: iter 1500, max_viol=0.382978\n",
      "INFO 2017-03-16 00:07:51: iter 1600, max_viol=0.297639\n",
      "INFO 2017-03-16 00:08:06: iter 1700, max_viol=0.245175\n",
      "INFO 2017-03-16 00:08:19: iter 1800, max_viol=0.21384\n",
      "INFO 2017-03-16 00:08:30: iter 1900, max_viol=0.173424\n",
      "INFO 2017-03-16 00:08:38: iter 2000, max_viol=0.14431\n",
      "INFO 2017-03-16 00:08:44: iter 2100, max_viol=0.120756\n",
      "INFO 2017-03-16 00:08:53: iter 2200, max_viol=0.0962156\n",
      "INFO 2017-03-16 00:08:59: iter 2300, max_viol=0.0784389\n",
      "INFO 2017-03-16 00:09:05: iter 2400, max_viol=0.0635738\n",
      "INFO 2017-03-16 00:09:10: iter 2500, max_viol=0.0535172\n",
      "INFO 2017-03-16 00:09:16: iter 2600, max_viol=0.0551168\n",
      "INFO 2017-03-16 00:09:18: iter 2700, max_viol=0.0376371\n",
      "INFO 2017-03-16 00:09:21: iter 2800, max_viol=0.0319257\n",
      "INFO 2017-03-16 00:09:24: iter 2900, max_viol=0.0247379\n",
      "INFO 2017-03-16 00:09:26: iter 3000, max_viol=0.0201318\n",
      "INFO 2017-03-16 00:09:31: iter 3100, max_viol=0.0165678\n",
      "INFO 2017-03-16 00:09:33: iter 3200, max_viol=0.013629\n",
      "INFO 2017-03-16 00:09:35: iter 3300, max_viol=0.0113126\n",
      "INFO 2017-03-16 00:09:35: iter 3400, max_viol=0.00930669\n",
      "INFO 2017-03-16 00:09:36: iter 3500, max_viol=0.00772151\n",
      "INFO 2017-03-16 00:09:37: iter 3600, max_viol=0.00659384\n",
      "INFO 2017-03-16 00:09:38: iter 3700, max_viol=0.00534233\n",
      "INFO 2017-03-16 00:09:39: iter 3800, max_viol=0.00439967\n",
      "INFO 2017-03-16 00:09:41: iter 3900, max_viol=0.00430676\n",
      "INFO 2017-03-16 00:09:41: iter 4000, max_viol=0.00302448\n",
      "INFO 2017-03-16 00:09:42: iter 4100, max_viol=0.0028859\n",
      "INFO 2017-03-16 00:09:42: iter 4200, max_viol=0.00203454\n",
      "INFO 2017-03-16 00:09:42: iter 4300, max_viol=0.00170288\n",
      "INFO 2017-03-16 00:09:42: iter 4400, max_viol=0.00141511\n",
      "INFO 2017-03-16 00:09:42: iter 4500, max_viol=0.00120296\n",
      "INFO 2017-03-16 00:09:42: *\n",
      "INFO 2017-03-16 00:09:42: optimization finished, #iter = 4588\n",
      "INFO 2017-03-16 00:09:43: nu = 0.628966\n",
      "INFO 2017-03-16 00:09:43: obj = -1128.264433, rho = 0.569675\n",
      "INFO 2017-03-16 00:09:43: nSV = 2745, nBSV = 846\n",
      "INFO 2017-03-16 00:09:43: Total nSV = 2745\n",
      "INFO 2017-03-16 00:09:43: save SVM model to /home/yinqijin/WorkSpace/2.RNA_Structure_Profile/Gen_data/HeLa-S3_out.model.txt\n",
      "\n"
     ]
    }
   ],
   "source": [
    "import os\n",
    "print os.popen('/home/yinqijin/WorkSpace/000_Algorithm_Zoo/lsgkm/bin/gkmtrain '\n",
    "                      ' /home/yinqijin/WorkSpace/2.RNA_Structure_Profile/Gen_data/HeLa-S3_pos_train.fa'\n",
    "              '  /home/yinqijin/WorkSpace/2.RNA_Structure_Profile/Gen_data/HeLa-S3_neg_train.fa' \n",
    "              ' /home/yinqijin/WorkSpace/2.RNA_Structure_Profile/Gen_data/HeLa-S3_out'\n",
    "              ' -m 4000').read()"
   ]
  },
  {
   "cell_type": "code",
   "execution_count": null,
   "metadata": {
    "collapsed": true
   },
   "outputs": [],
   "source": [
    "print os.popen('/home/yinqijin/WorkSpace/000_Algorithm_Zoo/lsgkm/bin/gkmtrain '\n",
    "                      ' /home/yinqijin/WorkSpace/2.RNA_Structure_Profile/Gen_data/'\n",
    "              '  /home/yinqijin/WorkSpace/2.RNA_Structure_Profile/Gen_data/HeLa-S3_neg_train.fa' \n",
    "              ' /home/yinqijin/WorkSpace/2.RNA_Structure_Profile/Gen_data/HeLa-S3_out'\n",
    "              ' -m 4000').read()"
   ]
  },
  {
   "cell_type": "code",
   "execution_count": null,
   "metadata": {
    "collapsed": true
   },
   "outputs": [],
   "source": []
  },
  {
   "cell_type": "code",
   "execution_count": null,
   "metadata": {
    "collapsed": true
   },
   "outputs": [],
   "source": []
  },
  {
   "cell_type": "code",
   "execution_count": null,
   "metadata": {
    "collapsed": true
   },
   "outputs": [],
   "source": []
  },
  {
   "cell_type": "code",
   "execution_count": 3,
   "metadata": {
    "collapsed": false
   },
   "outputs": [
    {
     "name": "stdout",
     "output_type": "stream",
     "text": [
      "INFO 2017-03-15 23:31:31: Number of threads is set to 1\n",
      "INFO 2017-03-15 23:31:31: Arguments:\n",
      "INFO 2017-03-15 23:31:31:   posfile =  /home/yinqijin/WorkSpace/2.RNA_Structure_Profile/Gen_data/HeLa-S3_pos_train.fa \n",
      "INFO 2017-03-15 23:31:31:   negfile = /home/yinqijin/WorkSpace/2.RNA_Structure_Profile/Gen_data/HeLa-S3_neg_train.fa\n",
      "INFO 2017-03-15 23:31:31:   outprefix = /home/yinqijin/WorkSpace/2.RNA_Structure_Profile/Gen_data/Hela-S3\n",
      "INFO 2017-03-15 23:31:31: Parameters:\n",
      "INFO 2017-03-15 23:31:31:   kernel-type = 4\n",
      "INFO 2017-03-15 23:31:31:   L = 11\n",
      "INFO 2017-03-15 23:31:31:   k = 7\n",
      "INFO 2017-03-15 23:31:31:   d = 3\n",
      "INFO 2017-03-15 23:31:31:   M = 50\n",
      "INFO 2017-03-15 23:31:31:   H = 50\n",
      "INFO 2017-03-15 23:31:31:   C = 1\n",
      "INFO 2017-03-15 23:31:31:   eps = 0.001\n",
      "INFO 2017-03-15 23:31:31:   shrinking = no\n",
      "ERROR 2017-03-15 23:31:31: can't open file\n",
      "sss\n"
     ]
    }
   ],
   "source": [
    "import subprocess\n",
    "import sys\n",
    "\n",
    "popen = subprocess.Popen(['/home/yinqijin/WorkSpace/000_Algorithm_Zoo/lsgkm/bin/gkmtrain', \n",
    "                          ' /home/yinqijin/WorkSpace/2.RNA_Structure_Profile/Gen_data/HeLa-S3_pos_train.fa ',\n",
    "                          '/home/yinqijin/WorkSpace/2.RNA_Structure_Profile/Gen_data/HeLa-S3_neg_train.fa',\n",
    "                          '/home/yinqijin/WorkSpace/2.RNA_Structure_Profile/Gen_data/Hela-S3',\n",
    "                           '-m','4000'], stdout = subprocess.PIPE)\n",
    "\n",
    "while True:\n",
    "    next_line = popen.stdout.readline()\n",
    "    if next_line == '' and popen.poll() != None:\n",
    "        print 'sss'\n",
    "        break\n",
    "    sys.stdout.write(next_line)"
   ]
  },
  {
   "cell_type": "code",
   "execution_count": null,
   "metadata": {
    "collapsed": true
   },
   "outputs": [],
   "source": []
  },
  {
   "cell_type": "code",
   "execution_count": null,
   "metadata": {
    "collapsed": true
   },
   "outputs": [],
   "source": [
    "import subprocess\n",
    "import sys\n",
    "\n",
    "class FlushFile(object):\n",
    "    \"\"\"Write-only flushing wrapper for file-type objects.\"\"\"\n",
    "    def __init__(self, f):\n",
    "        self.f = f\n",
    "    def write(self, x):\n",
    "        self.f.write(x)\n",
    "        self.f.flush()\n",
    "\n",
    "sys.stdout = FlushFile(sys.__stdout__)"
   ]
  }
 ],
 "metadata": {
  "anaconda-cloud": {},
  "kernelspec": {
   "display_name": "Python [conda root]",
   "language": "python",
   "name": "conda-root-py"
  },
  "language_info": {
   "codemirror_mode": {
    "name": "ipython",
    "version": 2
   },
   "file_extension": ".py",
   "mimetype": "text/x-python",
   "name": "python",
   "nbconvert_exporter": "python",
   "pygments_lexer": "ipython2",
   "version": "2.7.12"
  }
 },
 "nbformat": 4,
 "nbformat_minor": 1
}
