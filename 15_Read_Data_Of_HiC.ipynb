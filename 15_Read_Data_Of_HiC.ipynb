{
 "cells": [
  {
   "cell_type": "code",
   "execution_count": 17,
   "metadata": {
    "collapsed": true
   },
   "outputs": [],
   "source": [
    "import hickle as hkl\n",
    "import numpy as np"
   ]
  },
  {
   "cell_type": "code",
   "execution_count": 26,
   "metadata": {
    "collapsed": false
   },
   "outputs": [],
   "source": [
    "L=2000\n",
    "floatX = float\n",
    "def load(NAME):\n",
    "    X, Y = hkl.load(open(NAME))\n",
    "    X = X.reshape(-1, 1, 4, L).astype(floatX)\n",
    "    Y = np.array(Y, dtype='int32')\n",
    "    #Y = np_utils.to_categorical(Y, nb_class)\n",
    "    return X, Y"
   ]
  },
  {
   "cell_type": "code",
   "execution_count": 5,
   "metadata": {
    "collapsed": true
   },
   "outputs": [],
   "source": [
    "base_root = '/home/liwenran/work/interactome/p2p/data/'"
   ]
  },
  {
   "cell_type": "code",
   "execution_count": 53,
   "metadata": {
    "collapsed": true
   },
   "outputs": [],
   "source": [
    "file_name = base_root + 'p2p_tB_1v1_train_A_0.hkl'"
   ]
  },
  {
   "cell_type": "code",
   "execution_count": 55,
   "metadata": {
    "collapsed": false
   },
   "outputs": [],
   "source": [
    "b0_x,b0_y =load(file_name)\n",
    "\n",
    "print b0_x\n",
    "print b0_y\n",
    "\n",
    "np.shape(b0_x)\n",
    "b0_x=np.squeeze(b0_x)\n",
    "np.shape(b0_x)\n",
    "\n",
    "\n",
    "b0_x1=b0_x.transpose([0,2,1])\n",
    "\n",
    "np.shape(b0_x1)\n",
    "\n",
    "print b0_x[0]\n",
    "print b0_x1[0]\n",
    "\n",
    "np.shape(b0_y)"
   ]
  },
  {
   "cell_type": "code",
   "execution_count": 61,
   "metadata": {
    "collapsed": false
   },
   "outputs": [],
   "source": [
    "#假设 A =0 T=1 C =2 G = 4\n",
    "a_seq =[]\n",
    "for seq_one_hot in b0_x1:\n",
    "    seq = []\n",
    "    for bit in  seq_one_hot:\n",
    "        if bit[0]== 1:\n",
    "            seq.append('A')\n",
    "        elif bit[1] == 1:\n",
    "            seq.append('T')\n",
    "        elif bit[2] ==   1:\n",
    "            seq.append('C')\n",
    "        elif bit[3] == 1:\n",
    "            seq.append('G')\n",
    "        else:\n",
    "            raise NameError\n",
    "    seq = ''.join(seq)\n",
    "    a_seq.append(seq)"
   ]
  },
  {
   "cell_type": "code",
   "execution_count": 64,
   "metadata": {
    "collapsed": true
   },
   "outputs": [
    {
     "name": "stdout",
     "output_type": "stream",
     "text": [
      "(18698,)\n",
      "['AAAACATTGCAAGTCGCCTTCATGGTGACCATATTCCCCATTCTCTTCCGCTTTTTATGTTTCCTGCTTCCCAACCTCACCTCAATCTCTTTTTGGGTGGTTTTTCCCTCTTTCGTTTAGTTTTGTTTTACCCATTTTTGTTTGCTTTTCACAATTTTTGTTTTGTTTTACCGCTTTTTGTGTTTTTACACATTTTTGTTTTGTTTTACCCATTTTTGGTTTGCTTTTCCCAATTTGGTTTTGTTTTACCCATTTTTTGTTTGTTTTACCCATTTTTGTTTTGTTTTACCCATTTTTGGTTTGCTTTTCCCAATTGGGTTTTGTTTTACCCATTTTTTTGTTTTCTGTTCCCAATTTTTGTTTTGTTGGACCCATTTTTGTTTTATTTTGTTTTCCCCGTTTTTGCTTTGTTGTACATCTTTTGGTTTTGTTTTACCTCGTTTCTGTACTTTCCCTCTTGGGTTTTTAGACCATTCTCCTTACCTGTCGGCCCACCTCCTCATCACCATCTCCCTTTACCTCTGCCTCCTGTTGTTCTCTCTTCTATAAGCCCCCATCTCTACCCAATCGTTTGTCCCTTCCCTTACCCTTCTTCATTGGGCGTGCTTGTGTCTATGTTTGCTCTTCATTTCCTTCTTTACATCCATTTTACTCTTTTAATTTCTGATTTGTATCTTGCTTTTTACTTTTGTATGTATTTTCCTCTTTGTTCCCGGGTGTGGGTCGATATTTTCTTTGTACCTCCGCCTCTTCTCTTTTTGCCCATGGCGACGTGGGTGGTTCTTTTCCTTTTCCTCTTACCTTTTCTACTGTTTAAACAAAATGATAATGTTTCCTCCTTTCTCTCACACTTCTTTGTCTTGCCGCCGATTAGTCTCTCTCCTTCGCCCGCCCCTCTTCCCCTCCCCTCTCAACTCTTTGCCCAAAGCGACGTTGACAACAATTACTCTAGCGTGTCCCGTTTGCATATCCACCCATGATAGGTTTTTCCAGGTTGTCTCTCTTCCTGCTGGCCTCGGCTTCCCACATCCCCTCCCCTCGTCGTCCCCGTGTTTCCCTCATTCTATAACTCGTCCTCGTTGGACTCGGTTCTTCCGGGACCTCCACCTCCACCTCCACTCGGGCCCCCTCCTTCCCCTCCTGGTCCTGGTAGTCCACAACCTCCTCTCCTGCTATTACCGGGCCTTCTCCCTCTCTCCCCTTACTCTTTGTTACATTTATCCACTCTTTTCACTCTTGTCTCACTTCTTCTTAAAGCTCTTTTACCGTTCTCCTTCCTCTTACGCTGCCCATTGTCCTCCTTCCGCGTCCACTCTCCTCCCACACATTTGCTTGGCCCGCTCCCATGCCCATCCTGTCCATTTACACCCTGTTTCCCCTGGTCTTGTGTCCATCCCGTACCCTGTGCTCCGTGTACCATCTGTTTTTCGCACGTGTCCTCCTTTTCCCCGTGCCCTCCTCGTCTGCTTTTATACCTTCCCTCTCGCCCGGGGGTTCCCCTGTGCTTGTGCACTTATTTGTCCACAAAACATACTGTGCGCTCGTTTCTCCTCTTTCTACTGGGTCCTAAATAGCGGGAAACCACTGTTTTCAACCAATGCCCCATCGTTCGTTCTGTAGTAAACCTGGTAAGTTGCGTCCGCGTTTTCCCTTTGTGTTGACTGCCCTTACTCTCTACCCGCCCCCCCTCTGCTACCGCGTCTCCTTTTTTTTAATTGTTCTACATTTGGTTAATTTTGTACATTTTTTAAAATTTTTACAGTTTTTAATTTTTTAGAGATTTTTAATTTTGTACATTTTTTAATTTTTTACATTTTTTAATTGTTTACCTTTTTACATTTTTTACTGTTTGGCTGTTTCCCACTGTTTACCTTTCGTTGCTAGCTCTTGGCCCCGGCGGTTGTTGGCAGCCATCTTCTTGTTCCCGGTTAGTTTAACGGGAAAGCTTACACAGGGTAAGCCAAAGAAACTTTTTAGTGGAATACTCGCACCAGCGGGGC', 'AAAACATTGCAAGTCGCCTTCATGGTGACCATATTCCCCATTCTCTTCCGCTTTTTATGTTTCCTGCTTCCCAACCTCACCTCAATCTCTTTTTGGGTGGTTTTTCCCTCTTTCGTTTAGTTTTGTTTTACCCATTTTTGTTTGCTTTTCACAATTTTTGTTTTGTTTTACCGCTTTTTGTGTTTTTACACATTTTTGTTTTGTTTTACCCATTTTTGGTTTGCTTTTCCCAATTTGGTTTTGTTTTACCCATTTTTTGTTTGTTTTACCCATTTTTGTTTTGTTTTACCCATTTTTGGTTTGCTTTTCCCAATTGGGTTTTGTTTTACCCATTTTTTTGTTTTCTGTTCCCAATTTTTGTTTTGTTGGACCCATTTTTGTTTTATTTTGTTTTCCCCGTTTTTGCTTTGTTGTACATCTTTTGGTTTTGTTTTACCTCGTTTCTGTACTTTCCCTCTTGGGTTTTTAGACCATTCTCCTTACCTGTCGGCCCACCTCCTCATCACCATCTCCCTTTACCTCTGCCTCCTGTTGTTCTCTCTTCTATAAGCCCCCATCTCTACCCAATCGTTTGTCCCTTCCCTTACCCTTCTTCATTGGGCGTGCTTGTGTCTATGTTTGCTCTTCATTTCCTTCTTTACATCCATTTTACTCTTTTAATTTCTGATTTGTATCTTGCTTTTTACTTTTGTATGTATTTTCCTCTTTGTTCCCGGGTGTGGGTCGATATTTTCTTTGTACCTCCGCCTCTTCTCTTTTTGCCCATGGCGACGTGGGTGGTTCTTTTCCTTTTCCTCTTACCTTTTCTACTGTTTAAACAAAATGATAATGTTTCCTCCTTTCTCTCACACTTCTTTGTCTTGCCGCCGATTAGTCTCTCTCCTTCGCCCGCCCCTCTTCCCCTCCCCTCTCAACTCTTTGCCCAAAGCGACGTTGACAACAATTACTCTAGCGTGTCCCGTTTGCATATCCACCCATGATAGGTTTTTCCAGGTTGTCTCTCTTCCTGCTGGCCTCGGCTTCCCACATCCCCTCCCCTCGTCGTCCCCGTGTTTCCCTCATTCTATAACTCGTCCTCGTTGGACTCGGTTCTTCCGGGACCTCCACCTCCACCTCCACTCGGGCCCCCTCCTTCCCCTCCTGGTCCTGGTAGTCCACAACCTCCTCTCCTGCTATTACCGGGCCTTCTCCCTCTCTCCCCTTACTCTTTGTTACATTTATCCACTCTTTTCACTCTTGTCTCACTTCTTCTTAAAGCTCTTTTACCGTTCTCCTTCCTCTTACGCTGCCCATTGTCCTCCTTCCGCGTCCACTCTCCTCCCACACATTTGCTTGGCCCGCTCCCATGCCCATCCTGTCCATTTACACCCTGTTTCCCCTGGTCTTGTGTCCATCCCGTACCCTGTGCTCCGTGTACCATCTGTTTTTCGCACGTGTCCTCCTTTTCCCCGTGCCCTCCTCGTCTGCTTTTATACCTTCCCTCTCGCCCGGGGGTTCCCCTGTGCTTGTGCACTTATTTGTCCACAAAACATACTGTGCGCTCGTTTCTCCTCTTTCTACTGGGTCCTAAATAGCGGGAAACCACTGTTTTCAACCAATGCCCCATCGTTCGTTCTGTAGTAAACCTGGTAAGTTGCGTCCGCGTTTTCCCTTTGTGTTGACTGCCCTTACTCTCTACCCGCCCCCCCTCTGCTACCGCGTCTCCTTTTTTTTAATTGTTCTACATTTGGTTAATTTTGTACATTTTTTAAAATTTTTACAGTTTTTAATTTTTTAGAGATTTTTAATTTTGTACATTTTTTAATTTTTTACATTTTTTAATTGTTTACCTTTTTACATTTTTTACTGTTTGGCTGTTTCCCACTGTTTACCTTTCGTTGCTAGCTCTTGGCCCCGGCGGTTGTTGGCAGCCATCTTCTTGTTCCCGGTTAGTTTAACGGGAAAGCTTACACAGGGTAAGCCAAAGAAACTTTTTAGTGGAATACTCGCACCAGCGGGGC']\n"
     ]
    }
   ],
   "source": [
    "print np.shape(a_seq)\n",
    "print a_seq[:2]"
   ]
  },
  {
   "cell_type": "code",
   "execution_count": 62,
   "metadata": {
    "collapsed": true
   },
   "outputs": [],
   "source": [
    "hkl.dump(a_seq,'./Gen_data/15_A0.hkl')"
   ]
  },
  {
   "cell_type": "code",
   "execution_count": 65,
   "metadata": {
    "collapsed": true
   },
   "outputs": [],
   "source": [
    "file2_name = base_root + 'p2p_tB_1v1_train_B_0.hkl'"
   ]
  },
  {
   "cell_type": "code",
   "execution_count": 66,
   "metadata": {
    "collapsed": true
   },
   "outputs": [
    {
     "name": "stdout",
     "output_type": "stream",
     "text": [
      "[[[[ 0.  0.  0. ...,  0.  0.  0.]\n",
      "   [ 0.  1.  1. ...,  1.  1.  0.]\n",
      "   [ 0.  0.  0. ...,  0.  0.  1.]\n",
      "   [ 1.  0.  0. ...,  0.  0.  0.]]]\n",
      "\n",
      "\n",
      " [[[ 0.  0.  0. ...,  0.  1.  0.]\n",
      "   [ 0.  0.  1. ...,  1.  0.  1.]\n",
      "   [ 1.  0.  0. ...,  0.  0.  0.]\n",
      "   [ 0.  1.  0. ...,  0.  0.  0.]]]\n",
      "\n",
      "\n",
      " [[[ 0.  0.  1. ...,  0.  1.  0.]\n",
      "   [ 0.  0.  0. ...,  0.  0.  0.]\n",
      "   [ 0.  1.  0. ...,  1.  0.  0.]\n",
      "   [ 1.  0.  0. ...,  0.  0.  1.]]]\n",
      "\n",
      "\n",
      " ..., \n",
      " [[[ 1.  0.  1. ...,  0.  1.  0.]\n",
      "   [ 0.  1.  0. ...,  0.  0.  1.]\n",
      "   [ 0.  0.  0. ...,  0.  0.  0.]\n",
      "   [ 0.  0.  0. ...,  1.  0.  0.]]]\n",
      "\n",
      "\n",
      " [[[ 0.  0.  0. ...,  0.  0.  1.]\n",
      "   [ 0.  0.  0. ...,  0.  0.  0.]\n",
      "   [ 0.  0.  0. ...,  0.  0.  0.]\n",
      "   [ 1.  1.  1. ...,  1.  1.  0.]]]\n",
      "\n",
      "\n",
      " [[[ 1.  1.  0. ...,  0.  0.  0.]\n",
      "   [ 0.  0.  0. ...,  0.  0.  0.]\n",
      "   [ 0.  0.  1. ...,  0.  0.  1.]\n",
      "   [ 0.  0.  0. ...,  1.  1.  0.]]]]\n",
      "[1 1 1 ..., 0 0 0]\n",
      "[[ 0.  0.  0. ...,  0.  0.  0.]\n",
      " [ 0.  1.  1. ...,  1.  1.  0.]\n",
      " [ 0.  0.  0. ...,  0.  0.  1.]\n",
      " [ 1.  0.  0. ...,  0.  0.  0.]]\n",
      "[[ 0.  0.  0.  1.]\n",
      " [ 0.  1.  0.  0.]\n",
      " [ 0.  1.  0.  0.]\n",
      " ..., \n",
      " [ 0.  1.  0.  0.]\n",
      " [ 0.  1.  0.  0.]\n",
      " [ 0.  0.  1.  0.]]\n"
     ]
    },
    {
     "data": {
      "text/plain": [
       "(18698,)"
      ]
     },
     "execution_count": 66,
     "metadata": {},
     "output_type": "execute_result"
    }
   ],
   "source": [
    "b0_x,b0_y =load(file2_name)\n",
    "\n",
    "print b0_x\n",
    "print b0_y\n",
    "\n",
    "np.shape(b0_x)\n",
    "b0_x=np.squeeze(b0_x)\n",
    "np.shape(b0_x)\n",
    "\n",
    "\n",
    "b0_x1=b0_x.transpose([0,2,1])\n",
    "\n",
    "np.shape(b0_x1)\n",
    "\n",
    "print b0_x[0]\n",
    "print b0_x1[0]\n",
    "\n",
    "np.shape(b0_y)"
   ]
  },
  {
   "cell_type": "code",
   "execution_count": 67,
   "metadata": {
    "collapsed": true
   },
   "outputs": [],
   "source": [
    "#假设 A =0 T=1 C =2 G = 4\n",
    "a_seq =[]\n",
    "for seq_one_hot in b0_x1:\n",
    "    seq = []\n",
    "    for bit in  seq_one_hot:\n",
    "        if bit[0]== 1:\n",
    "            seq.append('A')\n",
    "        elif bit[1] == 1:\n",
    "            seq.append('T')\n",
    "        elif bit[2] ==   1:\n",
    "            seq.append('C')\n",
    "        elif bit[3] == 1:\n",
    "            seq.append('G')\n",
    "        else:\n",
    "            raise NameError\n",
    "    seq = ''.join(seq)\n",
    "    a_seq.append(seq)"
   ]
  },
  {
   "cell_type": "code",
   "execution_count": 68,
   "metadata": {
    "collapsed": true
   },
   "outputs": [],
   "source": [
    "hkl.dump(a_seq,'./Gen_data/15_B0.hkl')"
   ]
  },
  {
   "cell_type": "code",
   "execution_count": 69,
   "metadata": {
    "collapsed": true
   },
   "outputs": [],
   "source": [
    "hkl.dump(b0_y,'./Gen_data/15_label.hkl')"
   ]
  },
  {
   "cell_type": "code",
   "execution_count": null,
   "metadata": {
    "collapsed": true
   },
   "outputs": [],
   "source": []
  }
 ],
 "metadata": {
  "kernelspec": {
   "display_name": "Python [conda root]",
   "language": "python",
   "name": "conda-root-py"
  },
  "language_info": {
   "codemirror_mode": {
    "name": "ipython",
    "version": 2
   },
   "file_extension": ".py",
   "mimetype": "text/x-python",
   "name": "python",
   "nbconvert_exporter": "python",
   "pygments_lexer": "ipython2",
   "version": "2.7.12"
  }
 },
 "nbformat": 4,
 "nbformat_minor": 1
}
