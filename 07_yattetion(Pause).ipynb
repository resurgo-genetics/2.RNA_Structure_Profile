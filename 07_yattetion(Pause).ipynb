{
 "cells": [
  {
   "cell_type": "code",
   "execution_count": 1,
   "metadata": {
    "collapsed": false
   },
   "outputs": [
    {
     "name": "stderr",
     "output_type": "stream",
     "text": [
      "Using gpu device 0: GeForce GTX TITAN X (CNMeM is disabled, cuDNN 5105)\n"
     ]
    }
   ],
   "source": [
    "import numpy as np\n",
    "import theano\n",
    "import theano.tensor as T\n",
    "import lasagne.nonlinearities as nonlinearities\n",
    "import lasagne.init as init\n",
    "from lasagne.utils import unroll_scan\n",
    "\n",
    "\n"
   ]
  },
  {
   "cell_type": "code",
   "execution_count": 2,
   "metadata": {
    "collapsed": true
   },
   "outputs": [],
   "source": [
    "from lasagne.layers.base import MergeLayer,Layer\n",
    "from lasagne.layers.input import InputLayer\n",
    "from lasagne.layers.dense import DenseLayer\n",
    "from lasagne.layers import helper"
   ]
  },
  {
   "cell_type": "code",
   "execution_count": 3,
   "metadata": {
    "collapsed": true
   },
   "outputs": [],
   "source": [
    "__all__ = [ 'Y_AttentionLayer']"
   ]
  },
  {
   "cell_type": "code",
   "execution_count": null,
   "metadata": {
    "collapsed": true
   },
   "outputs": [],
   "source": [
    "class Y_AttentionLayer(Layer):\n",
    "    r\"\"\"\n",
    "    This Layer is maked  as a Attention Layer in the Algroithm Att-BLSTM, in the \n",
    "    paper << Attention-Based Bidirectional Long Short-Term Memory Networks for Relation Classification>>\n",
    "   \n",
    "   It is the first try for me to make a custom Layer in Theano/Lasagne\n",
    "   \n",
    "   This layer is used to add Attention to the output of BLSTM, get the final output H*, \n",
    "   it seems like a topic vector.\n",
    "   \n",
    "   Parameters:\n",
    "   -----------------\n",
    "   incoming: must be a layer directly behind the LSTMLayer,\n",
    "   \n",
    "   ...\n",
    "   \"\"\"\n",
    "    def __init__(self,incoming,\n",
    "                 W = init.Normal(0.01),\n",
    "                 W_DIMENSION = 100,\n",
    "                 **kwargs):\n",
    "    \n",
    "        \n",
    "        #Initialize parent layer\n",
    "        super(Y_AttentionLayer,self).__init(incomings,**kwargs)\n",
    "        self.W_Dimes\n",
    "        self.W  = self.add_param(W,(W_DIMENSION,))\n",
    "        \n",
    "        #The output of LSTM will be of shape (n_batch, n_time_steps, N_HIDDEN)\n",
    "    \n",
    "    "
   ]
  },
  {
   "cell_type": "markdown",
   "metadata": {},
   "source": [
    "        i_t &=  \\sigma_i (x_t W_{xi} + h_{t-1} W_{hi}+ w_{ci} \\odot c_{t-1} + b_i)\\\\\n",
    "        f_t &= \\sigma_f(x_t W_{xf} + h_{t-1} W_{hf} + w_{cf} \\odot c_{t-1} + b_f)\\\\\n",
    "        c_t &= f_t \\odot c_{t - 1} + i_t \\odot \\sigma_c(x_t W_{xc} + h_{t-1} W_{hc} +b_c)\\\\\n",
    "        o_t &= \\sigma_o(x_t W_{xo} + h_{t-1} W_{ho} + w_{co} \\odot c_t + b_o)\\\\\n",
    "        h_t &= o_t \\odot \\sigma_h(c_t)"
   ]
  },
  {
   "cell_type": "code",
   "execution_count": null,
   "metadata": {
    "collapsed": true
   },
   "outputs": [],
   "source": []
  }
 ],
 "metadata": {
  "anaconda-cloud": {},
  "kernelspec": {
   "display_name": "Python [conda root]",
   "language": "python",
   "name": "conda-root-py"
  },
  "language_info": {
   "codemirror_mode": {
    "name": "ipython",
    "version": 2
   },
   "file_extension": ".py",
   "mimetype": "text/x-python",
   "name": "python",
   "nbconvert_exporter": "python",
   "pygments_lexer": "ipython2",
   "version": "2.7.12"
  }
 },
 "nbformat": 4,
 "nbformat_minor": 1
}
